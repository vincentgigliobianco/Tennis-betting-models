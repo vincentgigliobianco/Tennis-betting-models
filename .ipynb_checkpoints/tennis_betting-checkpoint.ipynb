{
 "cells": [
  {
   "cell_type": "code",
   "execution_count": 150,
   "metadata": {},
   "outputs": [
    {
     "name": "stdout",
     "output_type": "stream",
     "text": [
      "The autoreload extension is already loaded. To reload it, use:\n",
      "  %reload_ext autoreload\n"
     ]
    }
   ],
   "source": [
    "import pandas as pd\n",
    "import numpy as np\n",
    "from functions import fun as f\n",
    "from itertools import chain\n",
    "from sklearn.model_selection import train_test_split\n",
    "import xgboost as xgb\n",
    "from xgboost import plot_importance\n",
    "from sklearn.metrics import roc_auc_score\n",
    "from sklearn.metrics import precision_recall_curve\n",
    "from sklearn.externals import joblib\n",
    "import matplotlib.pyplot as plt\n",
    "\n",
    "%load_ext autoreload\n",
    "%autoreload 2"
   ]
  },
  {
   "cell_type": "markdown",
   "metadata": {},
   "source": [
    "#### Import des données"
   ]
  },
  {
   "cell_type": "code",
   "execution_count": 151,
   "metadata": {},
   "outputs": [],
   "source": [
    "df_all_data = pd.read_csv(\"data/ATP.csv\")"
   ]
  },
  {
   "cell_type": "code",
   "execution_count": 152,
   "metadata": {},
   "outputs": [
    {
     "data": {
      "text/plain": [
       "(169690, 49)"
      ]
     },
     "execution_count": 152,
     "metadata": {},
     "output_type": "execute_result"
    }
   ],
   "source": [
    "df_all_data.shape"
   ]
  },
  {
   "cell_type": "markdown",
   "metadata": {},
   "source": [
    "#### On se considère comme un parieur sportif ou un bookmaker<br>\n",
    "Par conséquent, je considère que les informations connues avant le début d'un match<br>\n",
    "Je vais utiliser seulement, les variables ci-dessoous"
   ]
  },
  {
   "cell_type": "code",
   "execution_count": 153,
   "metadata": {},
   "outputs": [],
   "source": [
    "# list(df_all_data)"
   ]
  },
  {
   "cell_type": "code",
   "execution_count": 154,
   "metadata": {},
   "outputs": [],
   "source": [
    "liste_of_feat_used = ['tourney_id', 'tourney_name','surface','draw_size','tourney_level','tourney_date', 'match_num','best_of','round',\n",
    "'loser_id','loser_seed','loser_entry','loser_name','loser_hand','loser_ht','loser_ioc','loser_age','loser_rank','loser_rank_points',\n",
    "'winner_id', 'winner_seed','winner_entry','winner_name','winner_hand','winner_ht','winner_ioc','winner_age','winner_rank','winner_rank_points']  "
   ]
  },
  {
   "cell_type": "code",
   "execution_count": 155,
   "metadata": {},
   "outputs": [
    {
     "name": "stdout",
     "output_type": "stream",
     "text": [
      "feature tourney_id :  0.0\n",
      "feature tourney_name :  0.0\n",
      "feature surface :  1.4962578820201544\n",
      "feature draw_size :  99.27397018091814\n",
      "feature tourney_level :  0.0\n",
      "feature tourney_date :  0.0\n",
      "feature match_num :  0.0\n",
      "feature best_of :  0.0\n",
      "feature round :  0.0\n",
      "feature loser_id :  0.0\n",
      "feature loser_seed :  80.63940126112323\n",
      "feature loser_entry :  85.06747598562083\n",
      "feature loser_name :  0.0\n",
      "feature loser_hand :  0.05009134303730332\n",
      "feature loser_ht :  18.05527727031646\n",
      "feature loser_ioc :  0.0\n",
      "feature loser_age :  2.9406564912487476\n",
      "feature loser_rank :  14.014379162001298\n",
      "feature loser_rank_points :  45.17944487005716\n",
      "feature winner_id :  0.0\n",
      "feature winner_seed :  61.521008898579765\n",
      "feature winner_entry :  91.30885732806883\n",
      "feature winner_name :  0.0\n",
      "feature winner_hand :  0.022983086805350935\n",
      "feature winner_ht :  11.082562319523838\n",
      "feature winner_ioc :  0.0\n",
      "feature winner_age :  1.0377747657493075\n",
      "feature winner_rank :  11.737285638517296\n",
      "feature winner_rank_points :  44.43337851376039\n"
     ]
    }
   ],
   "source": [
    "# liste_features_to_keep = []\n",
    "# liste_features_with_missing = []\n",
    "for each_col in liste_of_feat_used:\n",
    "    # On regarde quelles variables ont moins de 5% de valeurs manquantes\n",
    "    pct_nan_values = (len(df_all_data[df_all_data[each_col].isnull()])/len(df_all_data)*100)  \n",
    "    print (\"feature\", each_col,\": \", pct_nan_values)"
   ]
  },
  {
   "cell_type": "markdown",
   "metadata": {},
   "source": [
    "On voit qu'il y a beaucoup de valeurs manquantes, plaçons nous après 1991"
   ]
  },
  {
   "cell_type": "code",
   "execution_count": 156,
   "metadata": {},
   "outputs": [],
   "source": [
    "df_all_data = df_all_data[liste_of_feat_used]"
   ]
  },
  {
   "cell_type": "code",
   "execution_count": 157,
   "metadata": {},
   "outputs": [],
   "source": [
    "df_all_data['tourney_date_str'] = df_all_data['tourney_date'].map(str)\n",
    "df_all_data['tourney_year_numeric'] = df_all_data['tourney_date_str'].map(lambda x: int(x[0:4]))"
   ]
  },
  {
   "cell_type": "code",
   "execution_count": 158,
   "metadata": {},
   "outputs": [],
   "source": [
    "df_all_data_after_1991 = df_all_data[df_all_data['tourney_year_numeric'] >= 1991]"
   ]
  },
  {
   "cell_type": "code",
   "execution_count": 159,
   "metadata": {},
   "outputs": [],
   "source": [
    "#df_all_data_after_1992 = df_all_data[df_all_data['tourney_year_numeric'] >= 1992]\n",
    "#df_all_data_after_1992.shape"
   ]
  },
  {
   "cell_type": "code",
   "execution_count": 160,
   "metadata": {},
   "outputs": [
    {
     "name": "stdout",
     "output_type": "stream",
     "text": [
      "feature tourney_id :  0.0\n",
      "feature tourney_name :  0.0\n",
      "feature surface :  0.06953857033413872\n",
      "feature draw_size :  54.703871766161825\n",
      "feature tourney_level :  0.0\n",
      "feature tourney_date :  0.0\n",
      "feature match_num :  0.0\n",
      "feature best_of :  0.0\n",
      "feature round :  0.0\n",
      "feature loser_id :  0.0\n",
      "feature loser_seed :  42.70375390417821\n",
      "feature loser_entry :  43.996110554540635\n",
      "feature loser_name :  0.0\n",
      "feature loser_hand :  0.025340326477694623\n",
      "feature loser_ht :  5.147622134480524\n",
      "feature loser_ioc :  0.0\n",
      "feature loser_age :  0.11609405386292651\n",
      "feature loser_rank :  1.3135718074135188\n",
      "feature loser_rank_points :  1.8563262419706523\n",
      "feature winner_id :  0.0\n",
      "feature winner_seed :  32.61358948671106\n",
      "feature winner_entry :  48.27744710943485\n",
      "feature winner_name :  0.0\n",
      "feature winner_hand :  0.010607578525546585\n",
      "feature winner_ht :  3.094466379869173\n",
      "feature winner_ioc :  0.0\n",
      "feature winner_age :  0.051269962873475156\n",
      "feature winner_rank :  0.6016854263657258\n",
      "feature winner_rank_points :  1.1497436501856326\n"
     ]
    }
   ],
   "source": [
    "# On extrait les % de valeurs manquantes par colonne (NaN values)\n",
    "for each_col in liste_of_feat_used:\n",
    "    # On regarde quelles variables ont moins de 5% de valeurs manquantes\n",
    "    pct_nan_values = (len(df_all_data_after_1991[df_all_data_after_1991[each_col].isnull()])/len(df_all_data)*100)  \n",
    "    print (\"feature\", each_col,\": \", pct_nan_values)"
   ]
  },
  {
   "cell_type": "markdown",
   "metadata": {},
   "source": [
    "On enlève les variables ayant des % valeurs manquantes superieurs à 30%,<br>\n",
    "commme : draw_size, loser_seed,loser_entry, winner_seed,winner_entry<br>\n",
    "<br>\n",
    "En effet, on va utiliser un modèle XGBoost qui sait gérer les valeurs manquantes<br>\n",
    "tant que le taux de valeurs manquantes pour une variable donnée n'est pas trop élevé "
   ]
  },
  {
   "cell_type": "code",
   "execution_count": 161,
   "metadata": {},
   "outputs": [],
   "source": [
    "liste_of_feat_used = [each for each in liste_of_feat_used if each not in ['draw_size', 'loser_seed','loser_entry', 'winner_seed','winner_entry']]"
   ]
  },
  {
   "cell_type": "code",
   "execution_count": 162,
   "metadata": {},
   "outputs": [],
   "source": [
    "liste_of_feat_used.append('tourney_year_numeric')"
   ]
  },
  {
   "cell_type": "code",
   "execution_count": 163,
   "metadata": {},
   "outputs": [],
   "source": [
    "df_all_data_after_1991 = df_all_data_after_1991[liste_of_feat_used]"
   ]
  },
  {
   "cell_type": "code",
   "execution_count": 164,
   "metadata": {},
   "outputs": [
    {
     "data": {
      "text/plain": [
       "(92827, 25)"
      ]
     },
     "execution_count": 164,
     "metadata": {},
     "output_type": "execute_result"
    }
   ],
   "source": [
    "df_all_data_after_1991.shape"
   ]
  },
  {
   "cell_type": "markdown",
   "metadata": {},
   "source": [
    "On a maintenant un dataset avec 92827 lignes et 24 variables"
   ]
  },
  {
   "cell_type": "markdown",
   "metadata": {},
   "source": [
    "Je suis parti du principe que les statistiques des joueurs sont fiables"
   ]
  },
  {
   "cell_type": "markdown",
   "metadata": {},
   "source": [
    "Principe du modèle de Machine Learning:<br>\n",
    "étant donné un match entre un joueur 1 = Djokovic et un joueur 2 = Federer<br>\n",
    "je pense qu'il est important de distinguer :\n",
    "- la probabilité que le joueur 1, Djokovic gagne sachant que son adversaire est le joueur 2, Federer \n",
    "- la probabilité que le joueur 2, Federer gagne sachant que son adversaire est le joueur 1, Dojokovic "
   ]
  },
  {
   "cell_type": "markdown",
   "metadata": {},
   "source": [
    "En raison de ce principe, je crée un dataset avec les lignes dupliquées et en inversant l'ordre des joueurs en colonnes"
   ]
  },
  {
   "cell_type": "code",
   "execution_count": 165,
   "metadata": {},
   "outputs": [],
   "source": [
    "# On se sert de \"df_temp\" pour créer le dataset de lignes dupliquées\n",
    "df_temp = df_all_data_after_1991"
   ]
  },
  {
   "cell_type": "markdown",
   "metadata": {},
   "source": [
    "Création des lignes dupliquées"
   ]
  },
  {
   "cell_type": "code",
   "execution_count": 166,
   "metadata": {},
   "outputs": [],
   "source": [
    "liste_var_tourney = ['tourney_id','tourney_name','surface','tourney_level','tourney_date','match_num','best_of','round','tourney_year_numeric']"
   ]
  },
  {
   "cell_type": "code",
   "execution_count": 167,
   "metadata": {},
   "outputs": [],
   "source": [
    "# list(df_temp)"
   ]
  },
  {
   "cell_type": "code",
   "execution_count": 168,
   "metadata": {},
   "outputs": [],
   "source": [
    "liste_var_loser = [each for each in list(df_temp) if 'loser' in each]\n",
    "liste_var_winner = [each for each in list(df_temp) if 'winner' in each]"
   ]
  },
  {
   "cell_type": "code",
   "execution_count": 169,
   "metadata": {},
   "outputs": [],
   "source": [
    "df_temp_ordered = pd.concat([df_temp[liste_var_tourney], df_temp[liste_var_winner], df_temp[liste_var_loser]], axis = 1)"
   ]
  },
  {
   "cell_type": "code",
   "execution_count": 170,
   "metadata": {},
   "outputs": [],
   "source": [
    "liste_player_opponent = [each.replace(\"loser\",\"opponent\") for each in list(df_temp_ordered)]\n",
    "liste_player_opponent = [each.replace(\"winner\",\"player\") for each in liste_player_opponent]\n",
    "df_temp_ordered.columns = liste_player_opponent"
   ]
  },
  {
   "cell_type": "code",
   "execution_count": 171,
   "metadata": {},
   "outputs": [
    {
     "data": {
      "text/plain": [
       "['tourney_id',\n",
       " 'tourney_name',\n",
       " 'surface',\n",
       " 'tourney_level',\n",
       " 'tourney_date',\n",
       " 'match_num',\n",
       " 'best_of',\n",
       " 'round',\n",
       " 'tourney_year_numeric',\n",
       " 'player_id',\n",
       " 'player_name',\n",
       " 'player_hand',\n",
       " 'player_ht',\n",
       " 'player_ioc',\n",
       " 'player_age',\n",
       " 'player_rank',\n",
       " 'player_rank_points',\n",
       " 'opponent_id',\n",
       " 'opponent_name',\n",
       " 'opponent_hand',\n",
       " 'opponent_ht',\n",
       " 'opponent_ioc',\n",
       " 'opponent_age',\n",
       " 'opponent_rank',\n",
       " 'opponent_rank_points']"
      ]
     },
     "execution_count": 171,
     "metadata": {},
     "output_type": "execute_result"
    }
   ],
   "source": [
    "list(df_temp_ordered)"
   ]
  },
  {
   "cell_type": "code",
   "execution_count": 172,
   "metadata": {},
   "outputs": [],
   "source": [
    "df_temp_ordered['Y'] = 0"
   ]
  },
  {
   "cell_type": "markdown",
   "metadata": {},
   "source": [
    "On crée d'abord la colonne des Y = 1 signifiant que le joueur de \"droite\" dans le dataframe est le vainqueur<br>\n",
    "Ajout des Y pour les lignes non dupliquées"
   ]
  },
  {
   "cell_type": "code",
   "execution_count": 173,
   "metadata": {},
   "outputs": [],
   "source": [
    "df_temp = pd.concat([df_temp[liste_var_tourney], df_temp[liste_var_loser], df_temp[liste_var_winner]], axis = 1)"
   ]
  },
  {
   "cell_type": "code",
   "execution_count": 174,
   "metadata": {},
   "outputs": [],
   "source": [
    "# df_temp.shape"
   ]
  },
  {
   "cell_type": "code",
   "execution_count": 175,
   "metadata": {},
   "outputs": [],
   "source": [
    "del liste_player_opponent\n",
    "liste_player_opponent = [each.replace(\"loser\",\"player\") for each in list(df_temp)]\n",
    "liste_player_opponent = [each.replace(\"winner\",\"opponent\") for each in liste_player_opponent]"
   ]
  },
  {
   "cell_type": "code",
   "execution_count": 176,
   "metadata": {},
   "outputs": [],
   "source": [
    "# liste_player_opponent"
   ]
  },
  {
   "cell_type": "code",
   "execution_count": 177,
   "metadata": {},
   "outputs": [],
   "source": [
    "df_temp.columns = liste_player_opponent"
   ]
  },
  {
   "cell_type": "code",
   "execution_count": 178,
   "metadata": {},
   "outputs": [],
   "source": [
    "df_temp['Y'] = 1"
   ]
  },
  {
   "cell_type": "markdown",
   "metadata": {},
   "source": [
    "Identifiants de matchs"
   ]
  },
  {
   "cell_type": "code",
   "execution_count": 179,
   "metadata": {},
   "outputs": [],
   "source": [
    "df_temp['id_match'] = df_temp['tourney_id'].astype(str) + \"_\" + df_temp['match_num'].astype(str)"
   ]
  },
  {
   "cell_type": "code",
   "execution_count": 180,
   "metadata": {},
   "outputs": [
    {
     "data": {
      "text/plain": [
       "['tourney_id',\n",
       " 'tourney_name',\n",
       " 'surface',\n",
       " 'tourney_level',\n",
       " 'tourney_date',\n",
       " 'match_num',\n",
       " 'best_of',\n",
       " 'round',\n",
       " 'tourney_year_numeric',\n",
       " 'player_id',\n",
       " 'player_name',\n",
       " 'player_hand',\n",
       " 'player_ht',\n",
       " 'player_ioc',\n",
       " 'player_age',\n",
       " 'player_rank',\n",
       " 'player_rank_points',\n",
       " 'opponent_id',\n",
       " 'opponent_name',\n",
       " 'opponent_hand',\n",
       " 'opponent_ht',\n",
       " 'opponent_ioc',\n",
       " 'opponent_age',\n",
       " 'opponent_rank',\n",
       " 'opponent_rank_points',\n",
       " 'Y']"
      ]
     },
     "execution_count": 180,
     "metadata": {},
     "output_type": "execute_result"
    }
   ],
   "source": [
    "list(df_temp_ordered)"
   ]
  },
  {
   "cell_type": "code",
   "execution_count": 181,
   "metadata": {},
   "outputs": [],
   "source": [
    "df_temp_ordered['id_match'] = df_temp_ordered['tourney_id'].astype(str) + \"_\" + df_temp_ordered['match_num'].astype(str)"
   ]
  },
  {
   "cell_type": "code",
   "execution_count": 182,
   "metadata": {},
   "outputs": [],
   "source": [
    "df_all_data_with_duplicates = pd.concat([df_temp,df_temp_ordered])"
   ]
  },
  {
   "cell_type": "code",
   "execution_count": 183,
   "metadata": {},
   "outputs": [
    {
     "data": {
      "text/plain": [
       "(185654, 27)"
      ]
     },
     "execution_count": 183,
     "metadata": {},
     "output_type": "execute_result"
    }
   ],
   "source": [
    "df_all_data_with_duplicates.shape"
   ]
  },
  {
   "cell_type": "code",
   "execution_count": 184,
   "metadata": {},
   "outputs": [
    {
     "data": {
      "text/html": [
       "<div>\n",
       "<style scoped>\n",
       "    .dataframe tbody tr th:only-of-type {\n",
       "        vertical-align: middle;\n",
       "    }\n",
       "\n",
       "    .dataframe tbody tr th {\n",
       "        vertical-align: top;\n",
       "    }\n",
       "\n",
       "    .dataframe thead th {\n",
       "        text-align: right;\n",
       "    }\n",
       "</style>\n",
       "<table border=\"1\" class=\"dataframe\">\n",
       "  <thead>\n",
       "    <tr style=\"text-align: right;\">\n",
       "      <th></th>\n",
       "      <th>tourney_id</th>\n",
       "      <th>match_num</th>\n",
       "      <th>id_match</th>\n",
       "    </tr>\n",
       "  </thead>\n",
       "  <tbody>\n",
       "    <tr>\n",
       "      <th>76863</th>\n",
       "      <td>1991-301</td>\n",
       "      <td>1</td>\n",
       "      <td>1991-301_1</td>\n",
       "    </tr>\n",
       "    <tr>\n",
       "      <th>76864</th>\n",
       "      <td>1991-301</td>\n",
       "      <td>2</td>\n",
       "      <td>1991-301_2</td>\n",
       "    </tr>\n",
       "    <tr>\n",
       "      <th>76865</th>\n",
       "      <td>1991-301</td>\n",
       "      <td>3</td>\n",
       "      <td>1991-301_3</td>\n",
       "    </tr>\n",
       "    <tr>\n",
       "      <th>76866</th>\n",
       "      <td>1991-301</td>\n",
       "      <td>4</td>\n",
       "      <td>1991-301_4</td>\n",
       "    </tr>\n",
       "    <tr>\n",
       "      <th>76867</th>\n",
       "      <td>1991-301</td>\n",
       "      <td>5</td>\n",
       "      <td>1991-301_5</td>\n",
       "    </tr>\n",
       "  </tbody>\n",
       "</table>\n",
       "</div>"
      ],
      "text/plain": [
       "      tourney_id  match_num    id_match\n",
       "76863   1991-301          1  1991-301_1\n",
       "76864   1991-301          2  1991-301_2\n",
       "76865   1991-301          3  1991-301_3\n",
       "76866   1991-301          4  1991-301_4\n",
       "76867   1991-301          5  1991-301_5"
      ]
     },
     "execution_count": 184,
     "metadata": {},
     "output_type": "execute_result"
    }
   ],
   "source": [
    "df_all_data_with_duplicates[[\"tourney_id\",\"match_num\",\"id_match\"]].head()"
   ]
  },
  {
   "cell_type": "markdown",
   "metadata": {},
   "source": [
    "On crée maintenant les features"
   ]
  },
  {
   "cell_type": "markdown",
   "metadata": {},
   "source": [
    "Recodage de la variable 'round' de manière relative au type de tournoi:\n",
    "on compte le nombre de tours de manière différente en fonction de si il s'agit\n",
    "d'un tournoi du Grand Chelem, d'un Master 1000 ou bien d'un tournoi de type ATP Final (Masters de fin de saison)"
   ]
  },
  {
   "cell_type": "code",
   "execution_count": 185,
   "metadata": {},
   "outputs": [
    {
     "data": {
      "text/plain": [
       "['tourney_id',\n",
       " 'tourney_name',\n",
       " 'surface',\n",
       " 'tourney_level',\n",
       " 'tourney_date',\n",
       " 'match_num',\n",
       " 'best_of',\n",
       " 'round',\n",
       " 'tourney_year_numeric',\n",
       " 'player_id',\n",
       " 'player_name',\n",
       " 'player_hand',\n",
       " 'player_ht',\n",
       " 'player_ioc',\n",
       " 'player_age',\n",
       " 'player_rank',\n",
       " 'player_rank_points',\n",
       " 'opponent_id',\n",
       " 'opponent_name',\n",
       " 'opponent_hand',\n",
       " 'opponent_ht',\n",
       " 'opponent_ioc',\n",
       " 'opponent_age',\n",
       " 'opponent_rank',\n",
       " 'opponent_rank_points',\n",
       " 'Y',\n",
       " 'id_match']"
      ]
     },
     "execution_count": 185,
     "metadata": {},
     "output_type": "execute_result"
    }
   ],
   "source": [
    "list(df_all_data_with_duplicates)"
   ]
  },
  {
   "cell_type": "code",
   "execution_count": 186,
   "metadata": {},
   "outputs": [],
   "source": [
    "#df_all_data_with_duplicates['round'].unique()\n",
    "#df_all_data_with_duplicates.groupby(['tourney_level'])['round'].unique()"
   ]
  },
  {
   "cell_type": "code",
   "execution_count": 187,
   "metadata": {},
   "outputs": [],
   "source": [
    "df_all_data_with_duplicates['round_ordinal'] = df_all_data_with_duplicates.apply(f.recode_round_to_ordinal, axis = 1)"
   ]
  },
  {
   "cell_type": "code",
   "execution_count": 188,
   "metadata": {},
   "outputs": [],
   "source": [
    "del liste_of_feat_used\n",
    "liste_of_feat_used = list(df_all_data_with_duplicates)\n",
    "liste_var_numeric = list(df_all_data_with_duplicates.describe())\n",
    "liste_var_non_numeric = [each for each in liste_of_feat_used if each not in liste_var_numeric]"
   ]
  },
  {
   "cell_type": "markdown",
   "metadata": {},
   "source": [
    "On peut :\n",
    "- on pourrait extraire le pays à partir du nom du tournoi mais ici, on ne le fait pas\n",
    "- on a besoin de la variable surface = priorité\n",
    "- on a besoin de la variable tourney_level = priorité\n",
    "- on auarait besoin de loser_ioc et winner_ioc pour savoir si un joueur joue dans son pays ou pas"
   ]
  },
  {
   "cell_type": "code",
   "execution_count": 189,
   "metadata": {},
   "outputs": [
    {
     "data": {
      "text/plain": [
       "['tourney_id',\n",
       " 'tourney_name',\n",
       " 'surface',\n",
       " 'tourney_level',\n",
       " 'round',\n",
       " 'player_name',\n",
       " 'player_hand',\n",
       " 'player_ioc',\n",
       " 'opponent_name',\n",
       " 'opponent_hand',\n",
       " 'opponent_ioc',\n",
       " 'id_match']"
      ]
     },
     "execution_count": 189,
     "metadata": {},
     "output_type": "execute_result"
    }
   ],
   "source": [
    "liste_var_non_numeric"
   ]
  },
  {
   "cell_type": "code",
   "execution_count": 190,
   "metadata": {},
   "outputs": [],
   "source": [
    "# Création du pays du tournoi<br>\n",
    "# Ensuite toutes les variables pourront être transformées avec \"labels encoding\" de Scikit-learn"
   ]
  },
  {
   "cell_type": "code",
   "execution_count": 191,
   "metadata": {},
   "outputs": [],
   "source": [
    "# Pays du tournoi"
   ]
  },
  {
   "cell_type": "code",
   "execution_count": 192,
   "metadata": {},
   "outputs": [],
   "source": [
    "# df_all_data_with_duplicates['tourney_name'].value_counts()"
   ]
  },
  {
   "cell_type": "markdown",
   "metadata": {},
   "source": [
    "Application de \"labels encoding\" aux variables : surface et tourney_level"
   ]
  },
  {
   "cell_type": "code",
   "execution_count": 193,
   "metadata": {},
   "outputs": [],
   "source": [
    "df_all_data_with_duplicates['surface'] = df_all_data_with_duplicates['surface'].astype(str)\n",
    "df_all_data_with_duplicates['player_hand'] = df_all_data_with_duplicates['player_hand'].astype(str)\n",
    "df_all_data_with_duplicates['opponent_hand'] = df_all_data_with_duplicates['opponent_hand'].astype(str)"
   ]
  },
  {
   "cell_type": "code",
   "execution_count": 194,
   "metadata": {},
   "outputs": [],
   "source": [
    "for each in ['surface','tourney_level','player_hand','opponent_hand']:\n",
    "    #print (each)\n",
    "    df_all_data_with_duplicates = f.to_le(df_all_data_with_duplicates,each)"
   ]
  },
  {
   "cell_type": "code",
   "execution_count": 195,
   "metadata": {},
   "outputs": [
    {
     "data": {
      "text/html": [
       "<div>\n",
       "<style scoped>\n",
       "    .dataframe tbody tr th:only-of-type {\n",
       "        vertical-align: middle;\n",
       "    }\n",
       "\n",
       "    .dataframe tbody tr th {\n",
       "        vertical-align: top;\n",
       "    }\n",
       "\n",
       "    .dataframe thead th {\n",
       "        text-align: right;\n",
       "    }\n",
       "</style>\n",
       "<table border=\"1\" class=\"dataframe\">\n",
       "  <thead>\n",
       "    <tr style=\"text-align: right;\">\n",
       "      <th></th>\n",
       "      <th>tourney_id</th>\n",
       "      <th>tourney_name</th>\n",
       "      <th>surface</th>\n",
       "      <th>tourney_level</th>\n",
       "      <th>tourney_date</th>\n",
       "      <th>match_num</th>\n",
       "      <th>best_of</th>\n",
       "      <th>round</th>\n",
       "      <th>tourney_year_numeric</th>\n",
       "      <th>player_id</th>\n",
       "      <th>...</th>\n",
       "      <th>opponent_age</th>\n",
       "      <th>opponent_rank</th>\n",
       "      <th>opponent_rank_points</th>\n",
       "      <th>Y</th>\n",
       "      <th>id_match</th>\n",
       "      <th>round_ordinal</th>\n",
       "      <th>surface_labels_encoding</th>\n",
       "      <th>tourney_level_labels_encoding</th>\n",
       "      <th>player_hand_labels_encoding</th>\n",
       "      <th>opponent_hand_labels_encoding</th>\n",
       "    </tr>\n",
       "  </thead>\n",
       "  <tbody>\n",
       "    <tr>\n",
       "      <th>76863</th>\n",
       "      <td>1991-301</td>\n",
       "      <td>Auckland</td>\n",
       "      <td>Hard</td>\n",
       "      <td>A</td>\n",
       "      <td>19910107</td>\n",
       "      <td>1</td>\n",
       "      <td>3</td>\n",
       "      <td>R32</td>\n",
       "      <td>1991</td>\n",
       "      <td>101746</td>\n",
       "      <td>...</td>\n",
       "      <td>25.61</td>\n",
       "      <td>9.0</td>\n",
       "      <td>1487.0</td>\n",
       "      <td>1</td>\n",
       "      <td>1991-301_1</td>\n",
       "      <td>4</td>\n",
       "      <td>3</td>\n",
       "      <td>0</td>\n",
       "      <td>1</td>\n",
       "      <td>1</td>\n",
       "    </tr>\n",
       "    <tr>\n",
       "      <th>76864</th>\n",
       "      <td>1991-301</td>\n",
       "      <td>Auckland</td>\n",
       "      <td>Hard</td>\n",
       "      <td>A</td>\n",
       "      <td>19910107</td>\n",
       "      <td>2</td>\n",
       "      <td>3</td>\n",
       "      <td>R32</td>\n",
       "      <td>1991</td>\n",
       "      <td>100587</td>\n",
       "      <td>...</td>\n",
       "      <td>21.55</td>\n",
       "      <td>94.0</td>\n",
       "      <td>371.0</td>\n",
       "      <td>1</td>\n",
       "      <td>1991-301_2</td>\n",
       "      <td>4</td>\n",
       "      <td>3</td>\n",
       "      <td>0</td>\n",
       "      <td>1</td>\n",
       "      <td>1</td>\n",
       "    </tr>\n",
       "    <tr>\n",
       "      <th>76865</th>\n",
       "      <td>1991-301</td>\n",
       "      <td>Auckland</td>\n",
       "      <td>Hard</td>\n",
       "      <td>A</td>\n",
       "      <td>19910107</td>\n",
       "      <td>3</td>\n",
       "      <td>3</td>\n",
       "      <td>R32</td>\n",
       "      <td>1991</td>\n",
       "      <td>101601</td>\n",
       "      <td>...</td>\n",
       "      <td>25.32</td>\n",
       "      <td>77.0</td>\n",
       "      <td>468.0</td>\n",
       "      <td>1</td>\n",
       "      <td>1991-301_3</td>\n",
       "      <td>4</td>\n",
       "      <td>3</td>\n",
       "      <td>0</td>\n",
       "      <td>1</td>\n",
       "      <td>1</td>\n",
       "    </tr>\n",
       "    <tr>\n",
       "      <th>76866</th>\n",
       "      <td>1991-301</td>\n",
       "      <td>Auckland</td>\n",
       "      <td>Hard</td>\n",
       "      <td>A</td>\n",
       "      <td>19910107</td>\n",
       "      <td>4</td>\n",
       "      <td>3</td>\n",
       "      <td>R32</td>\n",
       "      <td>1991</td>\n",
       "      <td>101332</td>\n",
       "      <td>...</td>\n",
       "      <td>25.83</td>\n",
       "      <td>65.0</td>\n",
       "      <td>502.0</td>\n",
       "      <td>1</td>\n",
       "      <td>1991-301_4</td>\n",
       "      <td>4</td>\n",
       "      <td>3</td>\n",
       "      <td>0</td>\n",
       "      <td>0</td>\n",
       "      <td>1</td>\n",
       "    </tr>\n",
       "    <tr>\n",
       "      <th>76867</th>\n",
       "      <td>1991-301</td>\n",
       "      <td>Auckland</td>\n",
       "      <td>Hard</td>\n",
       "      <td>A</td>\n",
       "      <td>19910107</td>\n",
       "      <td>5</td>\n",
       "      <td>3</td>\n",
       "      <td>R32</td>\n",
       "      <td>1991</td>\n",
       "      <td>101735</td>\n",
       "      <td>...</td>\n",
       "      <td>19.71</td>\n",
       "      <td>190.0</td>\n",
       "      <td>142.0</td>\n",
       "      <td>1</td>\n",
       "      <td>1991-301_5</td>\n",
       "      <td>4</td>\n",
       "      <td>3</td>\n",
       "      <td>0</td>\n",
       "      <td>1</td>\n",
       "      <td>1</td>\n",
       "    </tr>\n",
       "  </tbody>\n",
       "</table>\n",
       "<p>5 rows × 32 columns</p>\n",
       "</div>"
      ],
      "text/plain": [
       "      tourney_id tourney_name surface tourney_level  tourney_date  match_num  \\\n",
       "76863   1991-301     Auckland    Hard             A      19910107          1   \n",
       "76864   1991-301     Auckland    Hard             A      19910107          2   \n",
       "76865   1991-301     Auckland    Hard             A      19910107          3   \n",
       "76866   1991-301     Auckland    Hard             A      19910107          4   \n",
       "76867   1991-301     Auckland    Hard             A      19910107          5   \n",
       "\n",
       "       best_of round  tourney_year_numeric  player_id  ... opponent_age  \\\n",
       "76863        3   R32                  1991     101746  ...        25.61   \n",
       "76864        3   R32                  1991     100587  ...        21.55   \n",
       "76865        3   R32                  1991     101601  ...        25.32   \n",
       "76866        3   R32                  1991     101332  ...        25.83   \n",
       "76867        3   R32                  1991     101735  ...        19.71   \n",
       "\n",
       "      opponent_rank  opponent_rank_points  Y    id_match  round_ordinal  \\\n",
       "76863           9.0                1487.0  1  1991-301_1              4   \n",
       "76864          94.0                 371.0  1  1991-301_2              4   \n",
       "76865          77.0                 468.0  1  1991-301_3              4   \n",
       "76866          65.0                 502.0  1  1991-301_4              4   \n",
       "76867         190.0                 142.0  1  1991-301_5              4   \n",
       "\n",
       "       surface_labels_encoding  tourney_level_labels_encoding  \\\n",
       "76863                        3                              0   \n",
       "76864                        3                              0   \n",
       "76865                        3                              0   \n",
       "76866                        3                              0   \n",
       "76867                        3                              0   \n",
       "\n",
       "      player_hand_labels_encoding opponent_hand_labels_encoding  \n",
       "76863                           1                             1  \n",
       "76864                           1                             1  \n",
       "76865                           1                             1  \n",
       "76866                           0                             1  \n",
       "76867                           1                             1  \n",
       "\n",
       "[5 rows x 32 columns]"
      ]
     },
     "execution_count": 195,
     "metadata": {},
     "output_type": "execute_result"
    }
   ],
   "source": [
    "df_all_data_with_duplicates.head()"
   ]
  },
  {
   "cell_type": "markdown",
   "metadata": {},
   "source": [
    "On s'occupe maintenant de la création des features numériques"
   ]
  },
  {
   "cell_type": "code",
   "execution_count": 196,
   "metadata": {},
   "outputs": [
    {
     "data": {
      "text/plain": [
       "['tourney_date',\n",
       " 'match_num',\n",
       " 'best_of',\n",
       " 'tourney_year_numeric',\n",
       " 'player_id',\n",
       " 'player_ht',\n",
       " 'player_age',\n",
       " 'player_rank',\n",
       " 'player_rank_points',\n",
       " 'opponent_id',\n",
       " 'opponent_ht',\n",
       " 'opponent_age',\n",
       " 'opponent_rank',\n",
       " 'opponent_rank_points',\n",
       " 'Y',\n",
       " 'round_ordinal']"
      ]
     },
     "execution_count": 196,
     "metadata": {},
     "output_type": "execute_result"
    }
   ],
   "source": [
    "liste_var_numeric"
   ]
  },
  {
   "cell_type": "markdown",
   "metadata": {},
   "source": [
    "On va utiliser en priorité les variables : \"player_\" et \"opponent_\" comme features numériques"
   ]
  },
  {
   "cell_type": "code",
   "execution_count": 197,
   "metadata": {},
   "outputs": [],
   "source": [
    "liste_var_player = [each for each in liste_var_numeric if 'player' in each and each != 'player_id']\n",
    "liste_var_opponent = [each for each in liste_var_numeric if 'opponent' in each and each != 'opponent_id']"
   ]
  },
  {
   "cell_type": "code",
   "execution_count": 198,
   "metadata": {},
   "outputs": [],
   "source": [
    "# liste_feat_le_for_xgboost = [each for each in list(df_all_data_with_duplicates) if 'labels_encoding' in each or 'ordinal' in each]\n",
    "liste_feat_le_for_xgboost = [each for each in list(df_all_data_with_duplicates) if 'labels_encoding' in each]"
   ]
  },
  {
   "cell_type": "code",
   "execution_count": 199,
   "metadata": {},
   "outputs": [
    {
     "data": {
      "text/plain": [
       "['surface_labels_encoding',\n",
       " 'tourney_level_labels_encoding',\n",
       " 'player_hand_labels_encoding',\n",
       " 'opponent_hand_labels_encoding']"
      ]
     },
     "execution_count": 199,
     "metadata": {},
     "output_type": "execute_result"
    }
   ],
   "source": [
    "liste_feat_le_for_xgboost"
   ]
  },
  {
   "cell_type": "code",
   "execution_count": 200,
   "metadata": {},
   "outputs": [],
   "source": [
    "init = []\n",
    "init.append(liste_feat_le_for_xgboost)\n",
    "init.append(liste_var_player)\n",
    "init.append(liste_var_opponent)\n",
    "\n",
    "liste_feat_for_xgboost_modele_1 = list(chain(*init))"
   ]
  },
  {
   "cell_type": "code",
   "execution_count": 201,
   "metadata": {},
   "outputs": [
    {
     "data": {
      "text/plain": [
       "['surface_labels_encoding',\n",
       " 'tourney_level_labels_encoding',\n",
       " 'player_hand_labels_encoding',\n",
       " 'opponent_hand_labels_encoding',\n",
       " 'player_ht',\n",
       " 'player_age',\n",
       " 'player_rank',\n",
       " 'player_rank_points',\n",
       " 'opponent_ht',\n",
       " 'opponent_age',\n",
       " 'opponent_rank',\n",
       " 'opponent_rank_points']"
      ]
     },
     "execution_count": 201,
     "metadata": {},
     "output_type": "execute_result"
    }
   ],
   "source": [
    "liste_feat_for_xgboost_modele_1"
   ]
  },
  {
   "cell_type": "markdown",
   "metadata": {},
   "source": [
    "#### On réalise Holdout : on va créer \n",
    "- un train set =  60 % \n",
    "- validation set = , 20 % \n",
    "- test set = 20 %"
   ]
  },
  {
   "cell_type": "code",
   "execution_count": 202,
   "metadata": {},
   "outputs": [
    {
     "data": {
      "text/html": [
       "<div>\n",
       "<style scoped>\n",
       "    .dataframe tbody tr th:only-of-type {\n",
       "        vertical-align: middle;\n",
       "    }\n",
       "\n",
       "    .dataframe tbody tr th {\n",
       "        vertical-align: top;\n",
       "    }\n",
       "\n",
       "    .dataframe thead th {\n",
       "        text-align: right;\n",
       "    }\n",
       "</style>\n",
       "<table border=\"1\" class=\"dataframe\">\n",
       "  <thead>\n",
       "    <tr style=\"text-align: right;\">\n",
       "      <th></th>\n",
       "      <th>id_match</th>\n",
       "      <th>player_name</th>\n",
       "      <th>opponent_name</th>\n",
       "    </tr>\n",
       "  </thead>\n",
       "  <tbody>\n",
       "    <tr>\n",
       "      <th>77131</th>\n",
       "      <td>1991-201_1</td>\n",
       "      <td>Rodolphe Gilbert</td>\n",
       "      <td>Luiz Mattar</td>\n",
       "    </tr>\n",
       "    <tr>\n",
       "      <th>77131</th>\n",
       "      <td>1991-201_1</td>\n",
       "      <td>Luiz Mattar</td>\n",
       "      <td>Rodolphe Gilbert</td>\n",
       "    </tr>\n",
       "    <tr>\n",
       "      <th>77140</th>\n",
       "      <td>1991-201_10</td>\n",
       "      <td>Henrik Holm</td>\n",
       "      <td>Gianluca Pozzi</td>\n",
       "    </tr>\n",
       "    <tr>\n",
       "      <th>77140</th>\n",
       "      <td>1991-201_10</td>\n",
       "      <td>Gianluca Pozzi</td>\n",
       "      <td>Henrik Holm</td>\n",
       "    </tr>\n",
       "    <tr>\n",
       "      <th>77141</th>\n",
       "      <td>1991-201_11</td>\n",
       "      <td>Lawson Duncan</td>\n",
       "      <td>Martin Wostenholme</td>\n",
       "    </tr>\n",
       "  </tbody>\n",
       "</table>\n",
       "</div>"
      ],
      "text/plain": [
       "          id_match       player_name       opponent_name\n",
       "77131   1991-201_1  Rodolphe Gilbert         Luiz Mattar\n",
       "77131   1991-201_1       Luiz Mattar    Rodolphe Gilbert\n",
       "77140  1991-201_10       Henrik Holm      Gianluca Pozzi\n",
       "77140  1991-201_10    Gianluca Pozzi         Henrik Holm\n",
       "77141  1991-201_11     Lawson Duncan  Martin Wostenholme"
      ]
     },
     "execution_count": 202,
     "metadata": {},
     "output_type": "execute_result"
    }
   ],
   "source": [
    "df_all_data_with_duplicates[['id_match','player_name','opponent_name']].sort_values(by=['id_match']).head()"
   ]
  },
  {
   "cell_type": "code",
   "execution_count": 203,
   "metadata": {},
   "outputs": [],
   "source": [
    "id_match_unique = df_all_data_with_duplicates['id_match'].unique()"
   ]
  },
  {
   "cell_type": "code",
   "execution_count": 204,
   "metadata": {},
   "outputs": [],
   "source": [
    "# Shuffle du numpy array\n",
    "np.random.shuffle(id_match_unique)"
   ]
  },
  {
   "cell_type": "code",
   "execution_count": 205,
   "metadata": {},
   "outputs": [],
   "source": [
    "# 60%, 20% et 20%\n",
    "idx_1 = int(0.6*len(id_match_unique))\n",
    "idx_2 = int(0.8*len(id_match_unique))\n",
    "id_train = id_match_unique[:idx_1]\n",
    "id_valid = id_match_unique[idx_1+1:idx_2]\n",
    "id_test = id_match_unique[idx_2+1:]"
   ]
  },
  {
   "cell_type": "code",
   "execution_count": 206,
   "metadata": {},
   "outputs": [
    {
     "data": {
      "text/plain": [
       "(185654, 32)"
      ]
     },
     "execution_count": 206,
     "metadata": {},
     "output_type": "execute_result"
    }
   ],
   "source": [
    "df_all_data_with_duplicates.shape"
   ]
  },
  {
   "cell_type": "code",
   "execution_count": 207,
   "metadata": {},
   "outputs": [],
   "source": [
    "X_train_all_columns = df_all_data_with_duplicates[df_all_data_with_duplicates['id_match'].isin(id_train)]\n",
    "Y_train = df_all_data_with_duplicates[[\"id_match\",\"Y\"]][df_all_data_with_duplicates[[\"id_match\",\"Y\"]]['id_match'].isin(id_train)][[\"Y\"]]"
   ]
  },
  {
   "cell_type": "code",
   "execution_count": 208,
   "metadata": {},
   "outputs": [
    {
     "data": {
      "text/html": [
       "<div>\n",
       "<style scoped>\n",
       "    .dataframe tbody tr th:only-of-type {\n",
       "        vertical-align: middle;\n",
       "    }\n",
       "\n",
       "    .dataframe tbody tr th {\n",
       "        vertical-align: top;\n",
       "    }\n",
       "\n",
       "    .dataframe thead th {\n",
       "        text-align: right;\n",
       "    }\n",
       "</style>\n",
       "<table border=\"1\" class=\"dataframe\">\n",
       "  <thead>\n",
       "    <tr style=\"text-align: right;\">\n",
       "      <th></th>\n",
       "      <th>id_match</th>\n",
       "    </tr>\n",
       "  </thead>\n",
       "  <tbody>\n",
       "    <tr>\n",
       "      <th>76864</th>\n",
       "      <td>1991-301_2</td>\n",
       "    </tr>\n",
       "    <tr>\n",
       "      <th>76873</th>\n",
       "      <td>1991-301_11</td>\n",
       "    </tr>\n",
       "    <tr>\n",
       "      <th>76874</th>\n",
       "      <td>1991-301_12</td>\n",
       "    </tr>\n",
       "    <tr>\n",
       "      <th>76875</th>\n",
       "      <td>1991-301_13</td>\n",
       "    </tr>\n",
       "    <tr>\n",
       "      <th>76877</th>\n",
       "      <td>1991-301_15</td>\n",
       "    </tr>\n",
       "  </tbody>\n",
       "</table>\n",
       "</div>"
      ],
      "text/plain": [
       "          id_match\n",
       "76864   1991-301_2\n",
       "76873  1991-301_11\n",
       "76874  1991-301_12\n",
       "76875  1991-301_13\n",
       "76877  1991-301_15"
      ]
     },
     "execution_count": 208,
     "metadata": {},
     "output_type": "execute_result"
    }
   ],
   "source": [
    "X_train_all_columns[['id_match']].head()"
   ]
  },
  {
   "cell_type": "code",
   "execution_count": 209,
   "metadata": {},
   "outputs": [
    {
     "data": {
      "text/plain": [
       "(111392, 32)"
      ]
     },
     "execution_count": 209,
     "metadata": {},
     "output_type": "execute_result"
    }
   ],
   "source": [
    "X_train_all_columns.shape"
   ]
  },
  {
   "cell_type": "code",
   "execution_count": 210,
   "metadata": {},
   "outputs": [
    {
     "data": {
      "text/html": [
       "<div>\n",
       "<style scoped>\n",
       "    .dataframe tbody tr th:only-of-type {\n",
       "        vertical-align: middle;\n",
       "    }\n",
       "\n",
       "    .dataframe tbody tr th {\n",
       "        vertical-align: top;\n",
       "    }\n",
       "\n",
       "    .dataframe thead th {\n",
       "        text-align: right;\n",
       "    }\n",
       "</style>\n",
       "<table border=\"1\" class=\"dataframe\">\n",
       "  <thead>\n",
       "    <tr style=\"text-align: right;\">\n",
       "      <th></th>\n",
       "      <th>Y</th>\n",
       "    </tr>\n",
       "  </thead>\n",
       "  <tbody>\n",
       "    <tr>\n",
       "      <th>103581</th>\n",
       "      <td>0</td>\n",
       "    </tr>\n",
       "    <tr>\n",
       "      <th>154847</th>\n",
       "      <td>0</td>\n",
       "    </tr>\n",
       "    <tr>\n",
       "      <th>78246</th>\n",
       "      <td>1</td>\n",
       "    </tr>\n",
       "    <tr>\n",
       "      <th>82874</th>\n",
       "      <td>1</td>\n",
       "    </tr>\n",
       "    <tr>\n",
       "      <th>92428</th>\n",
       "      <td>1</td>\n",
       "    </tr>\n",
       "    <tr>\n",
       "      <th>98316</th>\n",
       "      <td>0</td>\n",
       "    </tr>\n",
       "    <tr>\n",
       "      <th>109302</th>\n",
       "      <td>0</td>\n",
       "    </tr>\n",
       "    <tr>\n",
       "      <th>99569</th>\n",
       "      <td>1</td>\n",
       "    </tr>\n",
       "    <tr>\n",
       "      <th>141720</th>\n",
       "      <td>0</td>\n",
       "    </tr>\n",
       "    <tr>\n",
       "      <th>104623</th>\n",
       "      <td>0</td>\n",
       "    </tr>\n",
       "  </tbody>\n",
       "</table>\n",
       "</div>"
      ],
      "text/plain": [
       "        Y\n",
       "103581  0\n",
       "154847  0\n",
       "78246   1\n",
       "82874   1\n",
       "92428   1\n",
       "98316   0\n",
       "109302  0\n",
       "99569   1\n",
       "141720  0\n",
       "104623  0"
      ]
     },
     "execution_count": 210,
     "metadata": {},
     "output_type": "execute_result"
    }
   ],
   "source": [
    "Y_train.sample(n=10)"
   ]
  },
  {
   "cell_type": "code",
   "execution_count": 211,
   "metadata": {},
   "outputs": [],
   "source": [
    "# (X_train_all_columns.shape[0]/df_all_data_with_duplicates.shape[0])*100"
   ]
  },
  {
   "cell_type": "code",
   "execution_count": 212,
   "metadata": {},
   "outputs": [],
   "source": [
    "X_valid_all_columns = df_all_data_with_duplicates[df_all_data_with_duplicates['id_match'].isin(id_valid)]\n",
    "Y_valid = df_all_data_with_duplicates[[\"id_match\",\"Y\"]][df_all_data_with_duplicates[[\"id_match\",\"Y\"]]['id_match'].isin(id_valid)][[\"Y\"]]\n",
    "X_test_all_columns =  df_all_data_with_duplicates[df_all_data_with_duplicates['id_match'].isin(id_test)]\n",
    "Y_test = df_all_data_with_duplicates[[\"id_match\",\"Y\"]][df_all_data_with_duplicates[[\"id_match\",\"Y\"]]['id_match'].isin(id_test)]"
   ]
  },
  {
   "cell_type": "code",
   "execution_count": 213,
   "metadata": {},
   "outputs": [],
   "source": [
    "# (X_valid_all_columns.shape[0]/df_all_data_with_duplicates.shape[0])*100"
   ]
  },
  {
   "cell_type": "code",
   "execution_count": 215,
   "metadata": {},
   "outputs": [],
   "source": [
    "X_train = X_train_all_columns[liste_feat_for_xgboost_modele_1]\n",
    "X_valid = X_valid_all_columns[liste_feat_for_xgboost_modele_1]"
   ]
  },
  {
   "cell_type": "markdown",
   "metadata": {},
   "source": [
    "On crée un XGBoost accompagné d'un tuning des hyperparamètres"
   ]
  },
  {
   "cell_type": "code",
   "execution_count": 216,
   "metadata": {},
   "outputs": [
    {
     "data": {
      "text/plain": [
       "(111392, 12)"
      ]
     },
     "execution_count": 216,
     "metadata": {},
     "output_type": "execute_result"
    }
   ],
   "source": [
    "X_train.shape"
   ]
  },
  {
   "cell_type": "code",
   "execution_count": 217,
   "metadata": {},
   "outputs": [
    {
     "data": {
      "text/html": [
       "<div>\n",
       "<style scoped>\n",
       "    .dataframe tbody tr th:only-of-type {\n",
       "        vertical-align: middle;\n",
       "    }\n",
       "\n",
       "    .dataframe tbody tr th {\n",
       "        vertical-align: top;\n",
       "    }\n",
       "\n",
       "    .dataframe thead th {\n",
       "        text-align: right;\n",
       "    }\n",
       "</style>\n",
       "<table border=\"1\" class=\"dataframe\">\n",
       "  <thead>\n",
       "    <tr style=\"text-align: right;\">\n",
       "      <th></th>\n",
       "      <th>surface_labels_encoding</th>\n",
       "      <th>tourney_level_labels_encoding</th>\n",
       "      <th>player_hand_labels_encoding</th>\n",
       "      <th>opponent_hand_labels_encoding</th>\n",
       "      <th>player_ht</th>\n",
       "      <th>player_age</th>\n",
       "      <th>player_rank</th>\n",
       "      <th>player_rank_points</th>\n",
       "      <th>opponent_ht</th>\n",
       "      <th>opponent_age</th>\n",
       "      <th>opponent_rank</th>\n",
       "      <th>opponent_rank_points</th>\n",
       "    </tr>\n",
       "  </thead>\n",
       "  <tbody>\n",
       "    <tr>\n",
       "      <th>76864</th>\n",
       "      <td>3</td>\n",
       "      <td>0</td>\n",
       "      <td>1</td>\n",
       "      <td>1</td>\n",
       "      <td>188.0</td>\n",
       "      <td>31.82</td>\n",
       "      <td>220.0</td>\n",
       "      <td>114.0</td>\n",
       "      <td>180.0</td>\n",
       "      <td>21.55</td>\n",
       "      <td>94.0</td>\n",
       "      <td>371.0</td>\n",
       "    </tr>\n",
       "    <tr>\n",
       "      <th>76873</th>\n",
       "      <td>3</td>\n",
       "      <td>0</td>\n",
       "      <td>1</td>\n",
       "      <td>0</td>\n",
       "      <td>183.0</td>\n",
       "      <td>23.07</td>\n",
       "      <td>67.0</td>\n",
       "      <td>497.0</td>\n",
       "      <td>185.0</td>\n",
       "      <td>25.14</td>\n",
       "      <td>93.0</td>\n",
       "      <td>376.0</td>\n",
       "    </tr>\n",
       "    <tr>\n",
       "      <th>76874</th>\n",
       "      <td>3</td>\n",
       "      <td>0</td>\n",
       "      <td>1</td>\n",
       "      <td>1</td>\n",
       "      <td>188.0</td>\n",
       "      <td>25.75</td>\n",
       "      <td>87.0</td>\n",
       "      <td>418.0</td>\n",
       "      <td>190.0</td>\n",
       "      <td>25.77</td>\n",
       "      <td>35.0</td>\n",
       "      <td>759.0</td>\n",
       "    </tr>\n",
       "    <tr>\n",
       "      <th>76875</th>\n",
       "      <td>3</td>\n",
       "      <td>0</td>\n",
       "      <td>1</td>\n",
       "      <td>1</td>\n",
       "      <td>185.0</td>\n",
       "      <td>24.45</td>\n",
       "      <td>92.0</td>\n",
       "      <td>388.0</td>\n",
       "      <td>188.0</td>\n",
       "      <td>24.91</td>\n",
       "      <td>63.0</td>\n",
       "      <td>518.0</td>\n",
       "    </tr>\n",
       "    <tr>\n",
       "      <th>76877</th>\n",
       "      <td>3</td>\n",
       "      <td>0</td>\n",
       "      <td>1</td>\n",
       "      <td>1</td>\n",
       "      <td>183.0</td>\n",
       "      <td>24.10</td>\n",
       "      <td>90.0</td>\n",
       "      <td>401.0</td>\n",
       "      <td>173.0</td>\n",
       "      <td>25.79</td>\n",
       "      <td>83.0</td>\n",
       "      <td>432.0</td>\n",
       "    </tr>\n",
       "  </tbody>\n",
       "</table>\n",
       "</div>"
      ],
      "text/plain": [
       "       surface_labels_encoding  tourney_level_labels_encoding  \\\n",
       "76864                        3                              0   \n",
       "76873                        3                              0   \n",
       "76874                        3                              0   \n",
       "76875                        3                              0   \n",
       "76877                        3                              0   \n",
       "\n",
       "       player_hand_labels_encoding  opponent_hand_labels_encoding  player_ht  \\\n",
       "76864                            1                              1      188.0   \n",
       "76873                            1                              0      183.0   \n",
       "76874                            1                              1      188.0   \n",
       "76875                            1                              1      185.0   \n",
       "76877                            1                              1      183.0   \n",
       "\n",
       "       player_age  player_rank  player_rank_points  opponent_ht  opponent_age  \\\n",
       "76864       31.82        220.0               114.0        180.0         21.55   \n",
       "76873       23.07         67.0               497.0        185.0         25.14   \n",
       "76874       25.75         87.0               418.0        190.0         25.77   \n",
       "76875       24.45         92.0               388.0        188.0         24.91   \n",
       "76877       24.10         90.0               401.0        173.0         25.79   \n",
       "\n",
       "       opponent_rank  opponent_rank_points  \n",
       "76864           94.0                 371.0  \n",
       "76873           93.0                 376.0  \n",
       "76874           35.0                 759.0  \n",
       "76875           63.0                 518.0  \n",
       "76877           83.0                 432.0  "
      ]
     },
     "execution_count": 217,
     "metadata": {},
     "output_type": "execute_result"
    }
   ],
   "source": [
    "X_train.head()"
   ]
  },
  {
   "cell_type": "code",
   "execution_count": 218,
   "metadata": {},
   "outputs": [
    {
     "data": {
      "text/plain": [
       "['surface_labels_encoding',\n",
       " 'tourney_level_labels_encoding',\n",
       " 'player_hand_labels_encoding',\n",
       " 'opponent_hand_labels_encoding',\n",
       " 'player_ht',\n",
       " 'player_age',\n",
       " 'player_rank',\n",
       " 'player_rank_points',\n",
       " 'opponent_ht',\n",
       " 'opponent_age',\n",
       " 'opponent_rank',\n",
       " 'opponent_rank_points']"
      ]
     },
     "execution_count": 218,
     "metadata": {},
     "output_type": "execute_result"
    }
   ],
   "source": [
    "liste_feat_for_xgboost_modele_1"
   ]
  },
  {
   "cell_type": "code",
   "execution_count": 219,
   "metadata": {},
   "outputs": [
    {
     "data": {
      "text/plain": [
       "(111392, 1)"
      ]
     },
     "execution_count": 219,
     "metadata": {},
     "output_type": "execute_result"
    }
   ],
   "source": [
    "Y_train.shape"
   ]
  },
  {
   "cell_type": "code",
   "execution_count": 220,
   "metadata": {},
   "outputs": [
    {
     "ename": "KeyboardInterrupt",
     "evalue": "",
     "output_type": "error",
     "traceback": [
      "\u001b[0;31m---------------------------------------------------------------------------\u001b[0m",
      "\u001b[0;31mKeyboardInterrupt\u001b[0m                         Traceback (most recent call last)",
      "\u001b[0;32m<timed exec>\u001b[0m in \u001b[0;36m<module>\u001b[0;34m\u001b[0m\n",
      "\u001b[0;32m~/anaconda3/envs/data/lib/python3.6/site-packages/xgboost/sklearn.py\u001b[0m in \u001b[0;36mfit\u001b[0;34m(self, X, y, sample_weight, eval_set, eval_metric, early_stopping_rounds, verbose, xgb_model, sample_weight_eval_set, callbacks)\u001b[0m\n\u001b[1;32m    730\u001b[0m                               \u001b[0mevals_result\u001b[0m\u001b[0;34m=\u001b[0m\u001b[0mevals_result\u001b[0m\u001b[0;34m,\u001b[0m \u001b[0mobj\u001b[0m\u001b[0;34m=\u001b[0m\u001b[0mobj\u001b[0m\u001b[0;34m,\u001b[0m \u001b[0mfeval\u001b[0m\u001b[0;34m=\u001b[0m\u001b[0mfeval\u001b[0m\u001b[0;34m,\u001b[0m\u001b[0;34m\u001b[0m\u001b[0;34m\u001b[0m\u001b[0m\n\u001b[1;32m    731\u001b[0m                               \u001b[0mverbose_eval\u001b[0m\u001b[0;34m=\u001b[0m\u001b[0mverbose\u001b[0m\u001b[0;34m,\u001b[0m \u001b[0mxgb_model\u001b[0m\u001b[0;34m=\u001b[0m\u001b[0mxgb_model\u001b[0m\u001b[0;34m,\u001b[0m\u001b[0;34m\u001b[0m\u001b[0;34m\u001b[0m\u001b[0m\n\u001b[0;32m--> 732\u001b[0;31m                               callbacks=callbacks)\n\u001b[0m\u001b[1;32m    733\u001b[0m \u001b[0;34m\u001b[0m\u001b[0m\n\u001b[1;32m    734\u001b[0m         \u001b[0mself\u001b[0m\u001b[0;34m.\u001b[0m\u001b[0mobjective\u001b[0m \u001b[0;34m=\u001b[0m \u001b[0mxgb_options\u001b[0m\u001b[0;34m[\u001b[0m\u001b[0;34m\"objective\"\u001b[0m\u001b[0;34m]\u001b[0m\u001b[0;34m\u001b[0m\u001b[0;34m\u001b[0m\u001b[0m\n",
      "\u001b[0;32m~/anaconda3/envs/data/lib/python3.6/site-packages/xgboost/training.py\u001b[0m in \u001b[0;36mtrain\u001b[0;34m(params, dtrain, num_boost_round, evals, obj, feval, maximize, early_stopping_rounds, evals_result, verbose_eval, xgb_model, callbacks, learning_rates)\u001b[0m\n\u001b[1;32m    214\u001b[0m                            \u001b[0mevals\u001b[0m\u001b[0;34m=\u001b[0m\u001b[0mevals\u001b[0m\u001b[0;34m,\u001b[0m\u001b[0;34m\u001b[0m\u001b[0;34m\u001b[0m\u001b[0m\n\u001b[1;32m    215\u001b[0m                            \u001b[0mobj\u001b[0m\u001b[0;34m=\u001b[0m\u001b[0mobj\u001b[0m\u001b[0;34m,\u001b[0m \u001b[0mfeval\u001b[0m\u001b[0;34m=\u001b[0m\u001b[0mfeval\u001b[0m\u001b[0;34m,\u001b[0m\u001b[0;34m\u001b[0m\u001b[0;34m\u001b[0m\u001b[0m\n\u001b[0;32m--> 216\u001b[0;31m                            xgb_model=xgb_model, callbacks=callbacks)\n\u001b[0m\u001b[1;32m    217\u001b[0m \u001b[0;34m\u001b[0m\u001b[0m\n\u001b[1;32m    218\u001b[0m \u001b[0;34m\u001b[0m\u001b[0m\n",
      "\u001b[0;32m~/anaconda3/envs/data/lib/python3.6/site-packages/xgboost/training.py\u001b[0m in \u001b[0;36m_train_internal\u001b[0;34m(params, dtrain, num_boost_round, evals, obj, feval, xgb_model, callbacks)\u001b[0m\n\u001b[1;32m     72\u001b[0m         \u001b[0;31m# Skip the first update if it is a recovery step.\u001b[0m\u001b[0;34m\u001b[0m\u001b[0;34m\u001b[0m\u001b[0;34m\u001b[0m\u001b[0m\n\u001b[1;32m     73\u001b[0m         \u001b[0;32mif\u001b[0m \u001b[0mversion\u001b[0m \u001b[0;34m%\u001b[0m \u001b[0;36m2\u001b[0m \u001b[0;34m==\u001b[0m \u001b[0;36m0\u001b[0m\u001b[0;34m:\u001b[0m\u001b[0;34m\u001b[0m\u001b[0;34m\u001b[0m\u001b[0m\n\u001b[0;32m---> 74\u001b[0;31m             \u001b[0mbst\u001b[0m\u001b[0;34m.\u001b[0m\u001b[0mupdate\u001b[0m\u001b[0;34m(\u001b[0m\u001b[0mdtrain\u001b[0m\u001b[0;34m,\u001b[0m \u001b[0mi\u001b[0m\u001b[0;34m,\u001b[0m \u001b[0mobj\u001b[0m\u001b[0;34m)\u001b[0m\u001b[0;34m\u001b[0m\u001b[0;34m\u001b[0m\u001b[0m\n\u001b[0m\u001b[1;32m     75\u001b[0m             \u001b[0mbst\u001b[0m\u001b[0;34m.\u001b[0m\u001b[0msave_rabit_checkpoint\u001b[0m\u001b[0;34m(\u001b[0m\u001b[0;34m)\u001b[0m\u001b[0;34m\u001b[0m\u001b[0;34m\u001b[0m\u001b[0m\n\u001b[1;32m     76\u001b[0m             \u001b[0mversion\u001b[0m \u001b[0;34m+=\u001b[0m \u001b[0;36m1\u001b[0m\u001b[0;34m\u001b[0m\u001b[0;34m\u001b[0m\u001b[0m\n",
      "\u001b[0;32m~/anaconda3/envs/data/lib/python3.6/site-packages/xgboost/core.py\u001b[0m in \u001b[0;36mupdate\u001b[0;34m(self, dtrain, iteration, fobj)\u001b[0m\n\u001b[1;32m   1107\u001b[0m         \u001b[0;32mif\u001b[0m \u001b[0mfobj\u001b[0m \u001b[0;32mis\u001b[0m \u001b[0;32mNone\u001b[0m\u001b[0;34m:\u001b[0m\u001b[0;34m\u001b[0m\u001b[0;34m\u001b[0m\u001b[0m\n\u001b[1;32m   1108\u001b[0m             _check_call(_LIB.XGBoosterUpdateOneIter(self.handle, ctypes.c_int(iteration),\n\u001b[0;32m-> 1109\u001b[0;31m                                                     dtrain.handle))\n\u001b[0m\u001b[1;32m   1110\u001b[0m         \u001b[0;32melse\u001b[0m\u001b[0;34m:\u001b[0m\u001b[0;34m\u001b[0m\u001b[0;34m\u001b[0m\u001b[0m\n\u001b[1;32m   1111\u001b[0m             \u001b[0mpred\u001b[0m \u001b[0;34m=\u001b[0m \u001b[0mself\u001b[0m\u001b[0;34m.\u001b[0m\u001b[0mpredict\u001b[0m\u001b[0;34m(\u001b[0m\u001b[0mdtrain\u001b[0m\u001b[0;34m)\u001b[0m\u001b[0;34m\u001b[0m\u001b[0;34m\u001b[0m\u001b[0m\n",
      "\u001b[0;31mKeyboardInterrupt\u001b[0m: "
     ]
    }
   ],
   "source": [
    "%%time\n",
    "# n_iter = 100\n",
    "n_iter = 2\n",
    "df_result_models = pd.DataFrame(columns = ['colsample_bytree','learning_rate','max_depth','n_estimators','subsample','min_child_weight','reg_lambda','AUC_train','AUC_valid'])\n",
    "\n",
    "for each in range(1,n_iter):\n",
    "    \n",
    "    colsample_bytree_value = np.random.uniform(0.3,0.7)\n",
    "    learning_rate_value = np.random.uniform(0.03, 0.3)\n",
    "    max_depth_value = np.random.randint(7,20)\n",
    "    # max_depth_value = np.random.randint(5,12)\n",
    "    n_estimators_value = np.random.randint(400, 500)\n",
    "    # n_estimators_value = np.random.randint(100, 200)\n",
    "    # subsample_value = np.random.uniform(0.4, 0.6)\n",
    "    subsample_value = 1\n",
    "    reg_lambda_value = np.random.uniform(5, 20)\n",
    "    min_child_weight_value = np.random.randint(0,300)\n",
    "    \n",
    "    xgb_model = xgb.XGBClassifier(\n",
    "        colsample_bytree = colsample_bytree_value,\n",
    "        learning_rate = learning_rate_value,\n",
    "        max_depth = max_depth_value,\n",
    "        n_estimators = n_estimators_value,\n",
    "        subsample = subsample_value,\n",
    "        reg_lambda = reg_lambda_value,\n",
    "        n_jobs = 2,\n",
    "        min_child_weight = min_child_weight_value,\n",
    "        objective='binary:logistic')\n",
    "        \n",
    "    result = xgb_model.fit(X_train, Y_train.values.ravel())\n",
    "    predicted_values = xgb_model.predict_proba(X_train)[:,1]\n",
    "    predicted_values = np.expand_dims(predicted_values, axis=1)\n",
    "    \n",
    "    AUC_train_value = roc_auc_score(Y_train.values, predicted_values)\n",
    "    \n",
    "    predicted_values = xgb_model.predict_proba(X_valid)[:,1]\n",
    "    predicted_values = np.expand_dims(predicted_values, axis=1)\n",
    "        \n",
    "    AUC_valid_value = roc_auc_score(Y_valid.values, predicted_values)\n",
    "    \n",
    "    if AUC_train_value != None and AUC_valid_value != None:\n",
    "    \n",
    "        df_result_models = df_result_models.append({'colsample_bytree': colsample_bytree_value, \n",
    "                                 'learning_rate':learning_rate_value,\n",
    "                                 'max_depth':max_depth_value,\n",
    "                                 'n_estimators':n_estimators_value,\n",
    "                                 'subsample':subsample_value,\n",
    "                                 'reg_lambda':reg_lambda_value,\n",
    "                                 'min_child_weight':min_child_weight_value,                 \n",
    "                                 'AUC_train':AUC_train_value,\n",
    "                                 'AUC_valid':AUC_valid_value}, ignore_index= True)"
   ]
  },
  {
   "cell_type": "code",
   "execution_count": 221,
   "metadata": {},
   "outputs": [],
   "source": [
    "# stockage en .pkl\n",
    "# joblib.dump(xgb_model, \"xgboost_modele_1.pkl\", compress=9)\n",
    "# pour le reload\n",
    "xgb_model = joblib.load(\"xgboost_modele_1.pkl\")"
   ]
  },
  {
   "cell_type": "code",
   "execution_count": 222,
   "metadata": {},
   "outputs": [],
   "source": [
    "#result = xgb_model.fit(X_train, Y_train.values.ravel())\n",
    "predicted_values = xgb_model.predict_proba(X_train)[:,1]\n",
    "predicted_values = np.expand_dims(predicted_values, axis=1)"
   ]
  },
  {
   "cell_type": "code",
   "execution_count": 223,
   "metadata": {},
   "outputs": [
    {
     "data": {
      "text/plain": [
       "(111392, 1)"
      ]
     },
     "execution_count": 223,
     "metadata": {},
     "output_type": "execute_result"
    }
   ],
   "source": [
    "predicted_values.shape"
   ]
  },
  {
   "cell_type": "markdown",
   "metadata": {},
   "source": [
    "##### Avec subsample = 1 : je garde ce résultat"
   ]
  },
  {
   "cell_type": "code",
   "execution_count": 83,
   "metadata": {},
   "outputs": [],
   "source": [
    "# df_result_models"
   ]
  },
  {
   "cell_type": "code",
   "execution_count": 513,
   "metadata": {},
   "outputs": [
    {
     "data": {
      "text/html": [
       "<div>\n",
       "<style scoped>\n",
       "    .dataframe tbody tr th:only-of-type {\n",
       "        vertical-align: middle;\n",
       "    }\n",
       "\n",
       "    .dataframe tbody tr th {\n",
       "        vertical-align: top;\n",
       "    }\n",
       "\n",
       "    .dataframe thead th {\n",
       "        text-align: right;\n",
       "    }\n",
       "</style>\n",
       "<table border=\"1\" class=\"dataframe\">\n",
       "  <thead>\n",
       "    <tr style=\"text-align: right;\">\n",
       "      <th></th>\n",
       "      <th>colsample_bytree</th>\n",
       "      <th>learning_rate</th>\n",
       "      <th>max_depth</th>\n",
       "      <th>n_estimators</th>\n",
       "      <th>subsample</th>\n",
       "      <th>min_child_weight</th>\n",
       "      <th>reg_lambda</th>\n",
       "      <th>AUC_train</th>\n",
       "      <th>AUC_valid</th>\n",
       "    </tr>\n",
       "  </thead>\n",
       "  <tbody>\n",
       "    <tr>\n",
       "      <th>0</th>\n",
       "      <td>0.555485</td>\n",
       "      <td>0.161401</td>\n",
       "      <td>14.0</td>\n",
       "      <td>412.0</td>\n",
       "      <td>0.545317</td>\n",
       "      <td>217.0</td>\n",
       "      <td>11.247714</td>\n",
       "      <td>0.778831</td>\n",
       "      <td>0.718195</td>\n",
       "    </tr>\n",
       "  </tbody>\n",
       "</table>\n",
       "</div>"
      ],
      "text/plain": [
       "   colsample_bytree  learning_rate  max_depth  n_estimators  subsample  \\\n",
       "0          0.555485       0.161401       14.0         412.0   0.545317   \n",
       "\n",
       "   min_child_weight  reg_lambda  AUC_train  AUC_valid  \n",
       "0             217.0   11.247714   0.778831   0.718195  "
      ]
     },
     "execution_count": 513,
     "metadata": {},
     "output_type": "execute_result"
    }
   ],
   "source": [
    "# Avec subsample_value = np.random.uniform(0.4, 0.6)\n",
    "df_result_models"
   ]
  },
  {
   "cell_type": "markdown",
   "metadata": {},
   "source": [
    "Avec 'round_ordinal' : 0.81 et 0.70<br>\n",
    "Cela semble donner du sur-apprentissage:<br>\n",
    "On pourrait faire varier successivement chaque hyperparamètre en gardant les autres hyperparamètres fixé"
   ]
  },
  {
   "cell_type": "markdown",
   "metadata": {},
   "source": [
    "Importance des variables"
   ]
  },
  {
   "cell_type": "code",
   "execution_count": 66,
   "metadata": {},
   "outputs": [
    {
     "name": "stdout",
     "output_type": "stream",
     "text": [
      "player_rank  :: 0.17257395\n",
      "opponent_rank_points  :: 0.12709759\n",
      "opponent_rank  :: 0.119993925\n",
      "player_rank_points  :: 0.088540286\n",
      "player_hand_labels_encoding  :: 0.085398465\n",
      "tourney_level_labels_encoding  :: 0.08162489\n",
      "opponent_hand_labels_encoding  :: 0.07802199\n",
      "player_ht  :: 0.076015785\n",
      "opponent_ht  :: 0.055617627\n",
      "surface_labels_encoding  :: 0.03886766\n",
      "player_age  :: 0.03855893\n",
      "opponent_age  :: 0.03768892\n"
     ]
    }
   ],
   "source": [
    "dict_feature_importance = {}\n",
    "for each in list(zip(list(X_train),xgb_model.feature_importances_)):\n",
    "    dict_feature_importance[each[0]] = each[1]\n",
    "sorted_importances = sorted(dict_feature_importance.items() , reverse = True, key=lambda x: x[1])\n",
    "for elem in sorted_importances :\n",
    "    print(elem[0] , \" ::\" , elem[1])"
   ]
  },
  {
   "cell_type": "markdown",
   "metadata": {},
   "source": [
    "On obtient comme prédiction sur le test set deux prédictions<br>\n",
    "pour chaque match présent dans le test set sous la forme d'un \"id_match\""
   ]
  },
  {
   "cell_type": "markdown",
   "metadata": {},
   "source": [
    "Ces deux prédictions sont:\n",
    "- la probabilité que le joueur n°1 gagne contre son adversaire le joueur n°2\n",
    "- la probabilité que le joueur n°2 gagne contre son adversaire le joueur n°1\n",
    "\n",
    "En considérant la différence des ces deux prédictions, on va pouvoir prédire quel joueur va gagner le match."
   ]
  },
  {
   "cell_type": "markdown",
   "metadata": {},
   "source": [
    "Ci-dessous, on calcule les deux prédictions pour un match donné dans le test set (3ème échantillon)"
   ]
  },
  {
   "cell_type": "code",
   "execution_count": 68,
   "metadata": {},
   "outputs": [
    {
     "data": {
      "text/plain": [
       "['surface_labels_encoding',\n",
       " 'tourney_level_labels_encoding',\n",
       " 'player_hand_labels_encoding',\n",
       " 'opponent_hand_labels_encoding',\n",
       " 'player_ht',\n",
       " 'player_age',\n",
       " 'player_rank',\n",
       " 'player_rank_points',\n",
       " 'opponent_ht',\n",
       " 'opponent_age',\n",
       " 'opponent_rank',\n",
       " 'opponent_rank_points']"
      ]
     },
     "execution_count": 68,
     "metadata": {},
     "output_type": "execute_result"
    }
   ],
   "source": [
    "liste_feat_for_xgboost_modele_1"
   ]
  },
  {
   "cell_type": "markdown",
   "metadata": {},
   "source": [
    "#### Hypothèse des gains en cas de bonne ou mauvaise prédiction:\n",
    "- on gagne la valeur de la mise en cas de bonne prédiction\n",
    "- on perd la valeur de la mise en cas de mauvaise prédiction"
   ]
  },
  {
   "cell_type": "markdown",
   "metadata": {},
   "source": [
    "Code pour créer la fonction: <br>\n",
    "- input : dataframe df_all_data_with_duplicates et numpy array : id_train ou id_valid ou id_test\n",
    "- output: dataframe df_pred contenant pour chaque match la winning margin, les prédictions et les Y vérité"
   ]
  },
  {
   "cell_type": "code",
   "execution_count": 69,
   "metadata": {},
   "outputs": [
    {
     "data": {
      "text/plain": [
       "['tourney_id',\n",
       " 'tourney_name',\n",
       " 'surface',\n",
       " 'tourney_level',\n",
       " 'tourney_date',\n",
       " 'match_num',\n",
       " 'best_of',\n",
       " 'round',\n",
       " 'tourney_year_numeric',\n",
       " 'player_id',\n",
       " 'player_name',\n",
       " 'player_hand',\n",
       " 'player_ht',\n",
       " 'player_ioc',\n",
       " 'player_age',\n",
       " 'player_rank',\n",
       " 'player_rank_points',\n",
       " 'opponent_id',\n",
       " 'opponent_name',\n",
       " 'opponent_hand',\n",
       " 'opponent_ht',\n",
       " 'opponent_ioc',\n",
       " 'opponent_age',\n",
       " 'opponent_rank',\n",
       " 'opponent_rank_points',\n",
       " 'Y',\n",
       " 'id_match',\n",
       " 'round_ordinal',\n",
       " 'surface_labels_encoding',\n",
       " 'tourney_level_labels_encoding',\n",
       " 'player_hand_labels_encoding',\n",
       " 'opponent_hand_labels_encoding']"
      ]
     },
     "execution_count": 69,
     "metadata": {},
     "output_type": "execute_result"
    }
   ],
   "source": [
    "list(df_all_data_with_duplicates)"
   ]
  },
  {
   "cell_type": "code",
   "execution_count": 71,
   "metadata": {},
   "outputs": [],
   "source": [
    "def max_two(df):\n",
    "    resultat = max(df['pred_1'], df['pred_2'])\n",
    "    return resultat"
   ]
  },
  {
   "cell_type": "markdown",
   "metadata": {},
   "source": [
    "A faire en cas de pb avec \"liste_feat_for_xgboost_modele_1\""
   ]
  },
  {
   "cell_type": "code",
   "execution_count": 144,
   "metadata": {},
   "outputs": [],
   "source": [
    "liste_feat_le_for_xgboost = [each for each in list(df_all_data_with_duplicates) if 'labels_encoding' in each]\n",
    "init = []\n",
    "init.append(liste_feat_le_for_xgboost)\n",
    "init.append(liste_var_player)\n",
    "init.append(liste_var_opponent)\n",
    "liste_feat_for_xgboost_modele_1 = list(chain(*init))"
   ]
  },
  {
   "cell_type": "code",
   "execution_count": 145,
   "metadata": {},
   "outputs": [
    {
     "data": {
      "text/plain": [
       "['surface_labels_encoding',\n",
       " 'tourney_level_labels_encoding',\n",
       " 'player_hand_labels_encoding',\n",
       " 'opponent_hand_labels_encoding',\n",
       " 'player_ht',\n",
       " 'player_age',\n",
       " 'player_rank',\n",
       " 'player_rank_points',\n",
       " 'opponent_ht',\n",
       " 'opponent_age',\n",
       " 'opponent_rank',\n",
       " 'opponent_rank_points']"
      ]
     },
     "execution_count": 145,
     "metadata": {},
     "output_type": "execute_result"
    }
   ],
   "source": [
    "liste_feat_for_xgboost_modele_1"
   ]
  },
  {
   "cell_type": "markdown",
   "metadata": {},
   "source": [
    "Calcul :\n",
    "- de la winning margin avec : un groupby \"id_match\", abs(pred_0 - pred_1)<br>\n",
    "- de la prédiction de chaque match avec : un groupby \"id_match\", max(pred_0, pred_1)"
   ]
  },
  {
   "cell_type": "code",
   "execution_count": 72,
   "metadata": {},
   "outputs": [
    {
     "name": "stdout",
     "output_type": "stream",
     "text": [
      "AUC sur le  train  set:  0.7574071555460282\n"
     ]
    }
   ],
   "source": [
    "id_obs = id_train.copy()\n",
    "df = df_all_data_with_duplicates.copy()\n",
    "which_dataset = \"train\"\n",
    "\n",
    "X_all_columns = df[df['id_match'].isin(id_obs)]\n",
    "\n",
    "liste_columns =  liste_feat_for_xgboost_modele_1.copy()\n",
    "liste_columns.append(\"id_match\")\n",
    "df_temp = X_all_columns[liste_columns]\n",
    "del liste_columns\n",
    "\n",
    "Y = df[[\"id_match\",\"Y\"]][df[[\"id_match\",\"Y\"]]['id_match'].isin(id_obs)]\n",
    "\n",
    "df_temp = df_temp.sort_values(by = \"id_match\")\n",
    "Y = Y.sort_values(by = \"id_match\")\n",
    "\n",
    "df_temp_for_prediction = df_temp[[each for each in list(df_temp) if each != \"id_match\"]]\n",
    "\n",
    "predicted_values = xgb_model.predict_proba(df_temp_for_prediction)[:,1]\n",
    "predicted_values = np.expand_dims(predicted_values, axis=1)\n",
    "Y_without_id_match = Y.drop(\"id_match\", axis = 1)\n",
    "\n",
    "AUC_value = roc_auc_score(Y_without_id_match.values, predicted_values)\n",
    "# print (\"AUC sur le train set: \", AUC_train_value)\n",
    "print (\"AUC sur le \", which_dataset,  \" set: \", AUC_value)\n",
    "\n",
    "df_predicted_values = pd.DataFrame({'id_match':df_temp[\"id_match\"].values, 'pred': predicted_values[:, 0]})\n",
    "\n",
    "# df_predicted_values.shape\n",
    "# df_predicted_values.head()\n",
    "\n",
    "Y.reset_index(drop = False, inplace = True)\n",
    "df_predicted_values.reset_index(drop = False, inplace = True)\n",
    "\n",
    "df_predicted_values[\"Y\"] = Y[\"Y\"]\n",
    "df_predicted_values.head()\n",
    "\n",
    "df_temp_names_players = X_all_columns[[\"id_match\",\"player_name\",\"opponent_name\"]]\n",
    "df_temp_names_players = df_temp_names_players.sort_values(by = \"id_match\")\n",
    "\n",
    "df_temp_names_players.reset_index(drop = False, inplace = True)\n",
    "df_predicted_values.reset_index(drop = False, inplace = True)\n",
    "df_predicted_values[\"player_name\"] = df_temp_names_players[\"player_name\"]\n",
    "df_predicted_values[\"opponent_name\"] = df_temp_names_players[\"opponent_name\"]\n",
    "\n",
    "df_predicted_values = df_predicted_values.drop([\"level_0\",\"index\"], axis = 1)\n",
    "\n",
    "df_temp_0 = (df_predicted_values[[\"id_match\",\"pred\",\"Y\"]].groupby('id_match')\n",
    "                            .apply(lambda x: x['pred'].tolist())\n",
    "                            # .apply(lambda x: x['Y'].tolist())\n",
    "                            .reset_index())\n",
    "df_temp_1 = pd.DataFrame(df_temp_0[0].tolist(), )\n",
    "df_temp_0 = df_temp_0.drop(0, axis=1)\n",
    "df_pred = pd.concat([df_temp_0, df_temp_1], axis=1)\n",
    "df_pred.columns = ['id_match', 'pred_1', 'pred_2']\n",
    "\n",
    "df_pred['winning_margin'] = abs(df_pred['pred_1'] - df_pred['pred_2'])\n",
    "df_pred['pred_max'] = df_pred.apply(max_two, axis = 1)\n",
    "df_pred.head()\n",
    "\n",
    "df_temp_0 = (df_predicted_values[[\"id_match\",\"pred\",\"Y\"]].groupby('id_match')\n",
    "                            .apply(lambda x: x['Y'].tolist())\n",
    "                            .reset_index())\n",
    "\n",
    "df_temp_1 = pd.DataFrame(df_temp_0[0].tolist(), )\n",
    "\n",
    "df_temp_0 = df_temp_0.drop(0, axis=1)\n",
    "df_Y = pd.concat([df_temp_0, df_temp_1], axis=1)\n",
    "df_Y.columns = ['id_match', 'Y_1', 'Y_2']\n",
    "\n",
    "df_pred = pd.merge(df_pred,df_Y, on = \"id_match\", how = \"inner\")\n",
    "\n",
    "# On dédoublonne df_predicted_values par id_match en prenant la 1ère observation\n",
    "df_predicted_values = df_predicted_values.drop_duplicates(subset = 'id_match')\n",
    "df_pred_train = pd.merge(df_pred, df_predicted_values[[\"id_match\",\"player_name\",\"opponent_name\"]], on = \"id_match\", how = \"inner\")"
   ]
  },
  {
   "cell_type": "code",
   "execution_count": 73,
   "metadata": {},
   "outputs": [
    {
     "data": {
      "text/html": [
       "<div>\n",
       "<style scoped>\n",
       "    .dataframe tbody tr th:only-of-type {\n",
       "        vertical-align: middle;\n",
       "    }\n",
       "\n",
       "    .dataframe tbody tr th {\n",
       "        vertical-align: top;\n",
       "    }\n",
       "\n",
       "    .dataframe thead th {\n",
       "        text-align: right;\n",
       "    }\n",
       "</style>\n",
       "<table border=\"1\" class=\"dataframe\">\n",
       "  <thead>\n",
       "    <tr style=\"text-align: right;\">\n",
       "      <th></th>\n",
       "      <th>id_match</th>\n",
       "      <th>pred_1</th>\n",
       "      <th>pred_2</th>\n",
       "      <th>winning_margin</th>\n",
       "      <th>pred_max</th>\n",
       "      <th>Y_1</th>\n",
       "      <th>Y_2</th>\n",
       "      <th>player_name</th>\n",
       "      <th>opponent_name</th>\n",
       "    </tr>\n",
       "  </thead>\n",
       "  <tbody>\n",
       "    <tr>\n",
       "      <th>0</th>\n",
       "      <td>1991-201_1</td>\n",
       "      <td>0.772840</td>\n",
       "      <td>0.221411</td>\n",
       "      <td>0.551429</td>\n",
       "      <td>0.772840</td>\n",
       "      <td>0</td>\n",
       "      <td>1</td>\n",
       "      <td>Rodolphe Gilbert</td>\n",
       "      <td>Luiz Mattar</td>\n",
       "    </tr>\n",
       "    <tr>\n",
       "      <th>1</th>\n",
       "      <td>1991-201_10</td>\n",
       "      <td>0.424258</td>\n",
       "      <td>0.575079</td>\n",
       "      <td>0.150821</td>\n",
       "      <td>0.575079</td>\n",
       "      <td>1</td>\n",
       "      <td>0</td>\n",
       "      <td>Gianluca Pozzi</td>\n",
       "      <td>Henrik Holm</td>\n",
       "    </tr>\n",
       "    <tr>\n",
       "      <th>2</th>\n",
       "      <td>1991-201_11</td>\n",
       "      <td>0.525984</td>\n",
       "      <td>0.454042</td>\n",
       "      <td>0.071942</td>\n",
       "      <td>0.525984</td>\n",
       "      <td>0</td>\n",
       "      <td>1</td>\n",
       "      <td>Martin Wostenholme</td>\n",
       "      <td>Lawson Duncan</td>\n",
       "    </tr>\n",
       "    <tr>\n",
       "      <th>3</th>\n",
       "      <td>1991-201_12</td>\n",
       "      <td>0.700969</td>\n",
       "      <td>0.333900</td>\n",
       "      <td>0.367069</td>\n",
       "      <td>0.700969</td>\n",
       "      <td>0</td>\n",
       "      <td>1</td>\n",
       "      <td>Pablo Albano</td>\n",
       "      <td>Horacio De La Pena</td>\n",
       "    </tr>\n",
       "    <tr>\n",
       "      <th>4</th>\n",
       "      <td>1991-201_13</td>\n",
       "      <td>0.618972</td>\n",
       "      <td>0.377267</td>\n",
       "      <td>0.241705</td>\n",
       "      <td>0.618972</td>\n",
       "      <td>1</td>\n",
       "      <td>0</td>\n",
       "      <td>Marcelo Saliola</td>\n",
       "      <td>Tarik Benhabiles</td>\n",
       "    </tr>\n",
       "  </tbody>\n",
       "</table>\n",
       "</div>"
      ],
      "text/plain": [
       "      id_match    pred_1    pred_2  winning_margin  pred_max  Y_1  Y_2  \\\n",
       "0   1991-201_1  0.772840  0.221411        0.551429  0.772840    0    1   \n",
       "1  1991-201_10  0.424258  0.575079        0.150821  0.575079    1    0   \n",
       "2  1991-201_11  0.525984  0.454042        0.071942  0.525984    0    1   \n",
       "3  1991-201_12  0.700969  0.333900        0.367069  0.700969    0    1   \n",
       "4  1991-201_13  0.618972  0.377267        0.241705  0.618972    1    0   \n",
       "\n",
       "          player_name       opponent_name  \n",
       "0    Rodolphe Gilbert         Luiz Mattar  \n",
       "1      Gianluca Pozzi         Henrik Holm  \n",
       "2  Martin Wostenholme       Lawson Duncan  \n",
       "3        Pablo Albano  Horacio De La Pena  \n",
       "4     Marcelo Saliola    Tarik Benhabiles  "
      ]
     },
     "execution_count": 73,
     "metadata": {},
     "output_type": "execute_result"
    }
   ],
   "source": [
    "df_pred_train.head()"
   ]
  },
  {
   "cell_type": "code",
   "execution_count": 74,
   "metadata": {},
   "outputs": [],
   "source": [
    "def fun_wining_margin_pred_truth(df,id_obs,which_dataset):\n",
    "    \n",
    "    X_all_columns = df[df['id_match'].isin(id_obs)]\n",
    "    \n",
    "    liste_columns =  liste_feat_for_xgboost_modele_1.copy()\n",
    "    liste_columns.append(\"id_match\")\n",
    "    df_temp = X_all_columns[liste_columns]\n",
    "    del liste_columns\n",
    "\n",
    "    Y = df[[\"id_match\",\"Y\"]][df[[\"id_match\",\"Y\"]]['id_match'].isin(id_obs)]\n",
    "\n",
    "    df_temp = df_temp.sort_values(by = \"id_match\")\n",
    "    Y = Y.sort_values(by = \"id_match\")\n",
    "\n",
    "    df_temp_for_prediction = df_temp[[each for each in list(df_temp) if each != \"id_match\"]]\n",
    "\n",
    "    predicted_values = xgb_model.predict_proba(df_temp_for_prediction)[:,1]\n",
    "    predicted_values = np.expand_dims(predicted_values, axis=1)\n",
    "    Y_without_id_match = Y.drop(\"id_match\", axis = 1)\n",
    "\n",
    "    AUC_value = roc_auc_score(Y_without_id_match.values, predicted_values)\n",
    "    # print (\"AUC sur le train set: \", AUC_train_value)\n",
    "    print (\"AUC sur le \", which_dataset,  \" set: \", AUC_value)\n",
    "    \n",
    "    df_predicted_values = pd.DataFrame({'id_match':df_temp[\"id_match\"].values, 'pred': predicted_values[:, 0]})\n",
    "\n",
    "    # df_predicted_values.shape\n",
    "    # df_predicted_values.head()\n",
    "\n",
    "    Y.reset_index(drop = False, inplace = True)\n",
    "    df_predicted_values.reset_index(drop = False, inplace = True)\n",
    "\n",
    "    df_predicted_values[\"Y\"] = Y[\"Y\"]\n",
    "    df_predicted_values.head()\n",
    "\n",
    "    df_temp_names_players = X_all_columns[[\"id_match\",\"player_name\",\"opponent_name\"]]\n",
    "    df_temp_names_players = df_temp_names_players.sort_values(by = \"id_match\")\n",
    "\n",
    "    df_temp_names_players.reset_index(drop = False, inplace = True)\n",
    "    df_predicted_values.reset_index(drop = False, inplace = True)\n",
    "    df_predicted_values[\"player_name\"] = df_temp_names_players[\"player_name\"]\n",
    "    df_predicted_values[\"opponent_name\"] = df_temp_names_players[\"opponent_name\"]\n",
    "\n",
    "    df_predicted_values = df_predicted_values.drop([\"level_0\",\"index\"], axis = 1)\n",
    "\n",
    "    df_temp_0 = (df_predicted_values[[\"id_match\",\"pred\",\"Y\"]].groupby('id_match')\n",
    "                                .apply(lambda x: x['pred'].tolist())\n",
    "                                # .apply(lambda x: x['Y'].tolist())\n",
    "                                .reset_index())\n",
    "    df_temp_1 = pd.DataFrame(df_temp_0[0].tolist(), )\n",
    "    df_temp_0 = df_temp_0.drop(0, axis=1)\n",
    "    df_pred = pd.concat([df_temp_0, df_temp_1], axis=1)\n",
    "    df_pred.columns = ['id_match', 'pred_1', 'pred_2']\n",
    "\n",
    "    df_pred['winning_margin'] = round(abs(df_pred['pred_1'] - df_pred['pred_2'])*100)\n",
    "    df_pred['pred_max'] = df_pred.apply(max_two, axis = 1)\n",
    "    df_pred.head()\n",
    "\n",
    "    df_temp_0 = (df_predicted_values[[\"id_match\",\"pred\",\"Y\"]].groupby('id_match')\n",
    "                                .apply(lambda x: x['Y'].tolist())\n",
    "                                .reset_index())\n",
    "\n",
    "    df_temp_1 = pd.DataFrame(df_temp_0[0].tolist(), )\n",
    "\n",
    "    df_temp_0 = df_temp_0.drop(0, axis=1)\n",
    "    df_Y = pd.concat([df_temp_0, df_temp_1], axis=1)\n",
    "    df_Y.columns = ['id_match', 'Y_1', 'Y_2']\n",
    "\n",
    "    df_pred = pd.merge(df_pred,df_Y, on = \"id_match\", how = \"inner\")\n",
    "    \n",
    "    # On dédoublonne df_predicted_values par id_match en prenant la 1ère observation\n",
    "    df_predicted_values = df_predicted_values.drop_duplicates(subset = 'id_match')\n",
    "    df_pred = pd.merge(df_pred, df_predicted_values[[\"id_match\",\"player_name\",\"opponent_name\"]], on = \"id_match\", how = \"inner\")\n",
    "    \n",
    "    return df_pred"
   ]
  },
  {
   "cell_type": "code",
   "execution_count": 75,
   "metadata": {},
   "outputs": [
    {
     "name": "stdout",
     "output_type": "stream",
     "text": [
      "AUC sur le  train  set:  0.7574071555460282\n",
      "AUC sur le  valid  set:  0.7547084444637584\n",
      "AUC sur le  test  set:  0.7589609258246316\n"
     ]
    }
   ],
   "source": [
    "df_pred_train = fun_wining_margin_pred_truth(df_all_data_with_duplicates,id_train,\"train\")\n",
    "df_pred_valid = fun_wining_margin_pred_truth(df_all_data_with_duplicates,id_valid,\"valid\")\n",
    "df_pred_test = fun_wining_margin_pred_truth(df_all_data_with_duplicates,id_test,\"test\")"
   ]
  },
  {
   "cell_type": "code",
   "execution_count": 179,
   "metadata": {},
   "outputs": [],
   "source": [
    "# df_predicted_values_train[((df_predicted_values_train[\"opponent_name\"] == 'Roger Federer') & \\\n",
    "#                          (df_predicted_values_train[\"player_name\"] == 'Robin Soderling') & \\\n",
    "#                          (df_predicted_values_train[\"year\"] == '2009')) | \\\n",
    "#                         ((df_predicted_values_train[\"opponent_name\"] == 'Robin Soderling') & \\\n",
    "#                          (df_predicted_values_train[\"player_name\"] == 'Roger Federer') & \\\n",
    "#                          (df_predicted_values_train[\"year\"] == '2009'))]"
   ]
  },
  {
   "cell_type": "markdown",
   "metadata": {},
   "source": [
    "NB) Le vainqueur de chaque match est le joueur \"opponent\" si Y_1 = 1<br>\n",
    "sinon c'est le joueur \"player\""
   ]
  },
  {
   "cell_type": "code",
   "execution_count": 76,
   "metadata": {},
   "outputs": [
    {
     "data": {
      "text/html": [
       "<div>\n",
       "<style scoped>\n",
       "    .dataframe tbody tr th:only-of-type {\n",
       "        vertical-align: middle;\n",
       "    }\n",
       "\n",
       "    .dataframe tbody tr th {\n",
       "        vertical-align: top;\n",
       "    }\n",
       "\n",
       "    .dataframe thead th {\n",
       "        text-align: right;\n",
       "    }\n",
       "</style>\n",
       "<table border=\"1\" class=\"dataframe\">\n",
       "  <thead>\n",
       "    <tr style=\"text-align: right;\">\n",
       "      <th></th>\n",
       "      <th>id_match</th>\n",
       "      <th>pred_1</th>\n",
       "      <th>pred_2</th>\n",
       "      <th>winning_margin</th>\n",
       "      <th>pred_max</th>\n",
       "      <th>Y_1</th>\n",
       "      <th>Y_2</th>\n",
       "      <th>player_name</th>\n",
       "      <th>opponent_name</th>\n",
       "    </tr>\n",
       "  </thead>\n",
       "  <tbody>\n",
       "    <tr>\n",
       "      <th>35306</th>\n",
       "      <td>2007-741_15</td>\n",
       "      <td>0.383749</td>\n",
       "      <td>0.677451</td>\n",
       "      <td>29.0</td>\n",
       "      <td>0.677451</td>\n",
       "      <td>0</td>\n",
       "      <td>1</td>\n",
       "      <td>Tim Henman</td>\n",
       "      <td>Michael Russell</td>\n",
       "    </tr>\n",
       "    <tr>\n",
       "      <th>54156</th>\n",
       "      <td>2018-0605_288</td>\n",
       "      <td>0.559845</td>\n",
       "      <td>0.446872</td>\n",
       "      <td>11.0</td>\n",
       "      <td>0.559845</td>\n",
       "      <td>1</td>\n",
       "      <td>0</td>\n",
       "      <td>Dominic Thiem</td>\n",
       "      <td>Kevin Anderson</td>\n",
       "    </tr>\n",
       "    <tr>\n",
       "      <th>45373</th>\n",
       "      <td>2013-416_49</td>\n",
       "      <td>0.205758</td>\n",
       "      <td>0.811796</td>\n",
       "      <td>61.0</td>\n",
       "      <td>0.811796</td>\n",
       "      <td>1</td>\n",
       "      <td>0</td>\n",
       "      <td>Novak Djokovic</td>\n",
       "      <td>Tomas Berdych</td>\n",
       "    </tr>\n",
       "  </tbody>\n",
       "</table>\n",
       "</div>"
      ],
      "text/plain": [
       "            id_match    pred_1    pred_2  winning_margin  pred_max  Y_1  Y_2  \\\n",
       "35306    2007-741_15  0.383749  0.677451            29.0  0.677451    0    1   \n",
       "54156  2018-0605_288  0.559845  0.446872            11.0  0.559845    1    0   \n",
       "45373    2013-416_49  0.205758  0.811796            61.0  0.811796    1    0   \n",
       "\n",
       "          player_name    opponent_name  \n",
       "35306      Tim Henman  Michael Russell  \n",
       "54156   Dominic Thiem   Kevin Anderson  \n",
       "45373  Novak Djokovic    Tomas Berdych  "
      ]
     },
     "execution_count": 76,
     "metadata": {},
     "output_type": "execute_result"
    }
   ],
   "source": [
    "df_pred_train.sample(n=3)"
   ]
  },
  {
   "cell_type": "markdown",
   "metadata": {},
   "source": [
    "Calcul du Y_truth "
   ]
  },
  {
   "cell_type": "code",
   "execution_count": 77,
   "metadata": {},
   "outputs": [],
   "source": [
    "def y_truth(df):\n",
    "    if df['pred_max'] == df['pred_1']:\n",
    "        resultat = df['Y_1']\n",
    "    else:\n",
    "        resultat = df['Y_2']\n",
    "    return resultat"
   ]
  },
  {
   "cell_type": "code",
   "execution_count": 78,
   "metadata": {},
   "outputs": [],
   "source": [
    "def gain_for_each_match(df):\n",
    "    if df['Y_truth'] == df['Y_pred']:\n",
    "        gain = +1 \n",
    "    else:\n",
    "        gain = -1 \n",
    "    return gain"
   ]
  },
  {
   "cell_type": "code",
   "execution_count": 91,
   "metadata": {},
   "outputs": [],
   "source": [
    "# win_margin_thresh = 0.5\n",
    "# win_margin_thresh = 0.3\n",
    "# df_win_margin_thresh = df_pred[df_pred['winning_margin'] > win_margin_thresh]"
   ]
  },
  {
   "cell_type": "markdown",
   "metadata": {},
   "source": [
    "Si on considère une seule proba prédite<br>\n",
    "On peut en déduire la Precision P<br>\n",
    "Pour le Recall R, il faut calculer le nombre de faux négatifs<br>\n",
    "Nombre de faux négatifs = nombre de vainqueurs des matchs qui n'ont pas été prédits comme vainqueurs\n",
    "\n",
    "Ici: la proba prédite est pred_max"
   ]
  },
  {
   "cell_type": "code",
   "execution_count": 262,
   "metadata": {},
   "outputs": [],
   "source": [
    "# Trouver le seuil de winning margin qui conduit au Precision + Recall les plus élevés<br>"
   ]
  },
  {
   "cell_type": "markdown",
   "metadata": {},
   "source": [
    "- Une Precision élevée est équivalente à un taux faible de faux positifs \n",
    "- Un Recall élevé est équivalent à un taux faible de faux négatifs\n",
    "\n",
    "Sachant que :\n",
    "- Precision = nombre de bonnes prédictions / (nombre de prédictions bonnes + nombre de mauvaises prédictions)\n",
    "            = nombre de vrais positifs / (nombre de vrais positifs + nombre de faux positifs)\n",
    "    $P = \\frac{T_p}{T_p+F_p}$\n",
    "- Recall = nombre de vrais positifs / (nombre de vrais positifs + nombre de faux négatifs)\n",
    "    $R = \\frac{T_p}{T_p + F_n}$\n",
    "\n",
    "- F1-score:\n",
    "    $F1 = 2\\frac{P \\times R}{P+R}$"
   ]
  },
  {
   "cell_type": "markdown",
   "metadata": {},
   "source": [
    "Ou bien on peut calculer avec Scikit-learn"
   ]
  },
  {
   "cell_type": "markdown",
   "metadata": {},
   "source": [
    "On calcule les prédictions et les Y pour chaque match"
   ]
  },
  {
   "cell_type": "markdown",
   "metadata": {},
   "source": [
    "On peut calculer les gains obtenus en considérant:<br>\n",
    "si les prédictions > 0.6692 alors Y_pred = 1\n",
    "sinon Y_pred = 0"
   ]
  },
  {
   "cell_type": "code",
   "execution_count": 108,
   "metadata": {},
   "outputs": [
    {
     "data": {
      "text/html": [
       "<div>\n",
       "<style scoped>\n",
       "    .dataframe tbody tr th:only-of-type {\n",
       "        vertical-align: middle;\n",
       "    }\n",
       "\n",
       "    .dataframe tbody tr th {\n",
       "        vertical-align: top;\n",
       "    }\n",
       "\n",
       "    .dataframe thead th {\n",
       "        text-align: right;\n",
       "    }\n",
       "</style>\n",
       "<table border=\"1\" class=\"dataframe\">\n",
       "  <thead>\n",
       "    <tr style=\"text-align: right;\">\n",
       "      <th></th>\n",
       "      <th>id_match</th>\n",
       "      <th>pred_1</th>\n",
       "      <th>pred_2</th>\n",
       "      <th>winning_margin</th>\n",
       "      <th>pred_max</th>\n",
       "      <th>Y_1</th>\n",
       "      <th>Y_2</th>\n",
       "      <th>player_name</th>\n",
       "      <th>opponent_name</th>\n",
       "    </tr>\n",
       "  </thead>\n",
       "  <tbody>\n",
       "    <tr>\n",
       "      <th>0</th>\n",
       "      <td>1991-201_1</td>\n",
       "      <td>0.772840</td>\n",
       "      <td>0.221411</td>\n",
       "      <td>55.0</td>\n",
       "      <td>0.772840</td>\n",
       "      <td>0</td>\n",
       "      <td>1</td>\n",
       "      <td>Rodolphe Gilbert</td>\n",
       "      <td>Luiz Mattar</td>\n",
       "    </tr>\n",
       "    <tr>\n",
       "      <th>1</th>\n",
       "      <td>1991-201_10</td>\n",
       "      <td>0.424258</td>\n",
       "      <td>0.575079</td>\n",
       "      <td>15.0</td>\n",
       "      <td>0.575079</td>\n",
       "      <td>1</td>\n",
       "      <td>0</td>\n",
       "      <td>Gianluca Pozzi</td>\n",
       "      <td>Henrik Holm</td>\n",
       "    </tr>\n",
       "    <tr>\n",
       "      <th>2</th>\n",
       "      <td>1991-201_11</td>\n",
       "      <td>0.525984</td>\n",
       "      <td>0.454042</td>\n",
       "      <td>7.0</td>\n",
       "      <td>0.525984</td>\n",
       "      <td>0</td>\n",
       "      <td>1</td>\n",
       "      <td>Martin Wostenholme</td>\n",
       "      <td>Lawson Duncan</td>\n",
       "    </tr>\n",
       "    <tr>\n",
       "      <th>3</th>\n",
       "      <td>1991-201_12</td>\n",
       "      <td>0.700969</td>\n",
       "      <td>0.333900</td>\n",
       "      <td>37.0</td>\n",
       "      <td>0.700969</td>\n",
       "      <td>0</td>\n",
       "      <td>1</td>\n",
       "      <td>Pablo Albano</td>\n",
       "      <td>Horacio De La Pena</td>\n",
       "    </tr>\n",
       "    <tr>\n",
       "      <th>4</th>\n",
       "      <td>1991-201_13</td>\n",
       "      <td>0.618972</td>\n",
       "      <td>0.377267</td>\n",
       "      <td>24.0</td>\n",
       "      <td>0.618972</td>\n",
       "      <td>1</td>\n",
       "      <td>0</td>\n",
       "      <td>Marcelo Saliola</td>\n",
       "      <td>Tarik Benhabiles</td>\n",
       "    </tr>\n",
       "  </tbody>\n",
       "</table>\n",
       "</div>"
      ],
      "text/plain": [
       "      id_match    pred_1    pred_2  winning_margin  pred_max  Y_1  Y_2  \\\n",
       "0   1991-201_1  0.772840  0.221411            55.0  0.772840    0    1   \n",
       "1  1991-201_10  0.424258  0.575079            15.0  0.575079    1    0   \n",
       "2  1991-201_11  0.525984  0.454042             7.0  0.525984    0    1   \n",
       "3  1991-201_12  0.700969  0.333900            37.0  0.700969    0    1   \n",
       "4  1991-201_13  0.618972  0.377267            24.0  0.618972    1    0   \n",
       "\n",
       "          player_name       opponent_name  \n",
       "0    Rodolphe Gilbert         Luiz Mattar  \n",
       "1      Gianluca Pozzi         Henrik Holm  \n",
       "2  Martin Wostenholme       Lawson Duncan  \n",
       "3        Pablo Albano  Horacio De La Pena  \n",
       "4     Marcelo Saliola    Tarik Benhabiles  "
      ]
     },
     "execution_count": 108,
     "metadata": {},
     "output_type": "execute_result"
    }
   ],
   "source": [
    "df_pred_train.head()"
   ]
  },
  {
   "cell_type": "code",
   "execution_count": 80,
   "metadata": {},
   "outputs": [
    {
     "name": "stderr",
     "output_type": "stream",
     "text": [
      "/home/osboxes/anaconda3/envs/data/lib/python3.6/site-packages/ipykernel_launcher.py:5: SettingWithCopyWarning: \n",
      "A value is trying to be set on a copy of a slice from a DataFrame.\n",
      "Try using .loc[row_indexer,col_indexer] = value instead\n",
      "\n",
      "See the caveats in the documentation: http://pandas.pydata.org/pandas-docs/stable/indexing.html#indexing-view-versus-copy\n",
      "  \"\"\"\n",
      "/home/osboxes/anaconda3/envs/data/lib/python3.6/site-packages/ipykernel_launcher.py:12: SettingWithCopyWarning: \n",
      "A value is trying to be set on a copy of a slice from a DataFrame.\n",
      "Try using .loc[row_indexer,col_indexer] = value instead\n",
      "\n",
      "See the caveats in the documentation: http://pandas.pydata.org/pandas-docs/stable/indexing.html#indexing-view-versus-copy\n",
      "  if sys.path[0] == '':\n",
      "/home/osboxes/anaconda3/envs/data/lib/python3.6/site-packages/ipykernel_launcher.py:13: SettingWithCopyWarning: \n",
      "A value is trying to be set on a copy of a slice from a DataFrame.\n",
      "Try using .loc[row_indexer,col_indexer] = value instead\n",
      "\n",
      "See the caveats in the documentation: http://pandas.pydata.org/pandas-docs/stable/indexing.html#indexing-view-versus-copy\n",
      "  del sys.path[0]\n"
     ]
    }
   ],
   "source": [
    "# win_margin_thresh = 0.1\n",
    "win_margin_thresh = 30\n",
    "# df_win_margin_thresh = df_pred_train[df_pred_train['winning_margin'] > win_margin_thresh]\n",
    "df_win_margin_thresh = df_pred_train[df_pred_train['winning_margin'] == win_margin_thresh]\n",
    "df_win_margin_thresh[\"Y_truth\"] = df_win_margin_thresh.apply(y_truth, axis = 1)\n",
    "\n",
    "precision, recall, thresholds = precision_recall_curve(df_win_margin_thresh[[\"Y_truth\"]], df_win_margin_thresh[[\"pred_max\"]])\n",
    "f1 = 2*((precision*recall)/(precision+recall))\n",
    "\n",
    "thresh_proba = thresholds[np.where(f1 == max(f1))][0]\n",
    "\n",
    "df_win_margin_thresh['Y_pred'] = df_win_margin_thresh['pred_max'].map(lambda x: 1 if x > thresh_proba else 0)\n",
    "df_win_margin_thresh['gain'] = df_win_margin_thresh.apply(gain_for_each_match, axis = 1)"
   ]
  },
  {
   "cell_type": "code",
   "execution_count": 81,
   "metadata": {},
   "outputs": [
    {
     "data": {
      "text/plain": [
       "(799, 12)"
      ]
     },
     "execution_count": 81,
     "metadata": {},
     "output_type": "execute_result"
    }
   ],
   "source": [
    "df_win_margin_thresh.shape"
   ]
  },
  {
   "cell_type": "code",
   "execution_count": 82,
   "metadata": {},
   "outputs": [
    {
     "data": {
      "text/plain": [
       "(545, 12)"
      ]
     },
     "execution_count": 82,
     "metadata": {},
     "output_type": "execute_result"
    }
   ],
   "source": [
    "df_win_margin_thresh[df_win_margin_thresh.gain == 1].shape"
   ]
  },
  {
   "cell_type": "code",
   "execution_count": 102,
   "metadata": {},
   "outputs": [
    {
     "data": {
      "text/html": [
       "<div>\n",
       "<style scoped>\n",
       "    .dataframe tbody tr th:only-of-type {\n",
       "        vertical-align: middle;\n",
       "    }\n",
       "\n",
       "    .dataframe tbody tr th {\n",
       "        vertical-align: top;\n",
       "    }\n",
       "\n",
       "    .dataframe thead th {\n",
       "        text-align: right;\n",
       "    }\n",
       "</style>\n",
       "<table border=\"1\" class=\"dataframe\">\n",
       "  <thead>\n",
       "    <tr style=\"text-align: right;\">\n",
       "      <th></th>\n",
       "      <th>id_match</th>\n",
       "      <th>pred_1</th>\n",
       "      <th>pred_2</th>\n",
       "      <th>winning_margin</th>\n",
       "      <th>pred_max</th>\n",
       "      <th>Y_1</th>\n",
       "      <th>Y_2</th>\n",
       "      <th>player_name</th>\n",
       "      <th>opponent_name</th>\n",
       "      <th>Y_truth</th>\n",
       "      <th>Y_pred</th>\n",
       "      <th>gain</th>\n",
       "    </tr>\n",
       "  </thead>\n",
       "  <tbody>\n",
       "    <tr>\n",
       "      <th>39895</th>\n",
       "      <td>2010-421_15</td>\n",
       "      <td>0.639244</td>\n",
       "      <td>0.344007</td>\n",
       "      <td>30.0</td>\n",
       "      <td>0.639244</td>\n",
       "      <td>1</td>\n",
       "      <td>0</td>\n",
       "      <td>Gilles Simon</td>\n",
       "      <td>Mikhail Youzhny</td>\n",
       "      <td>1</td>\n",
       "      <td>1</td>\n",
       "      <td>1</td>\n",
       "    </tr>\n",
       "    <tr>\n",
       "      <th>16498</th>\n",
       "      <td>1998-403_10</td>\n",
       "      <td>0.626928</td>\n",
       "      <td>0.327942</td>\n",
       "      <td>30.0</td>\n",
       "      <td>0.626928</td>\n",
       "      <td>1</td>\n",
       "      <td>0</td>\n",
       "      <td>Lleyton Hewitt</td>\n",
       "      <td>Nicolas Escude</td>\n",
       "      <td>1</td>\n",
       "      <td>1</td>\n",
       "      <td>1</td>\n",
       "    </tr>\n",
       "    <tr>\n",
       "      <th>15710</th>\n",
       "      <td>1997-D010_2</td>\n",
       "      <td>0.639986</td>\n",
       "      <td>0.339733</td>\n",
       "      <td>30.0</td>\n",
       "      <td>0.639986</td>\n",
       "      <td>0</td>\n",
       "      <td>1</td>\n",
       "      <td>Jimy Szymanski</td>\n",
       "      <td>Mark Knowles</td>\n",
       "      <td>0</td>\n",
       "      <td>1</td>\n",
       "      <td>-1</td>\n",
       "    </tr>\n",
       "    <tr>\n",
       "      <th>44528</th>\n",
       "      <td>2012-D008_1</td>\n",
       "      <td>0.638702</td>\n",
       "      <td>0.337442</td>\n",
       "      <td>30.0</td>\n",
       "      <td>0.638702</td>\n",
       "      <td>1</td>\n",
       "      <td>0</td>\n",
       "      <td>Stanislas Wawrinka</td>\n",
       "      <td>Mardy Fish</td>\n",
       "      <td>1</td>\n",
       "      <td>1</td>\n",
       "      <td>1</td>\n",
       "    </tr>\n",
       "    <tr>\n",
       "      <th>53616</th>\n",
       "      <td>2018-0311_299</td>\n",
       "      <td>0.669495</td>\n",
       "      <td>0.367918</td>\n",
       "      <td>30.0</td>\n",
       "      <td>0.669495</td>\n",
       "      <td>1</td>\n",
       "      <td>0</td>\n",
       "      <td>Nick Kyrgios</td>\n",
       "      <td>Marin Cilic</td>\n",
       "      <td>1</td>\n",
       "      <td>1</td>\n",
       "      <td>1</td>\n",
       "    </tr>\n",
       "    <tr>\n",
       "      <th>7364</th>\n",
       "      <td>1994-337_7</td>\n",
       "      <td>0.356557</td>\n",
       "      <td>0.652137</td>\n",
       "      <td>30.0</td>\n",
       "      <td>0.652137</td>\n",
       "      <td>0</td>\n",
       "      <td>1</td>\n",
       "      <td>Alex Antonitsch</td>\n",
       "      <td>Roland Burtscher</td>\n",
       "      <td>1</td>\n",
       "      <td>1</td>\n",
       "      <td>1</td>\n",
       "    </tr>\n",
       "    <tr>\n",
       "      <th>23122</th>\n",
       "      <td>2001-481_25</td>\n",
       "      <td>0.639529</td>\n",
       "      <td>0.338730</td>\n",
       "      <td>30.0</td>\n",
       "      <td>0.639529</td>\n",
       "      <td>1</td>\n",
       "      <td>0</td>\n",
       "      <td>Bohdan Ulihrach</td>\n",
       "      <td>Tim Henman</td>\n",
       "      <td>1</td>\n",
       "      <td>1</td>\n",
       "      <td>1</td>\n",
       "    </tr>\n",
       "    <tr>\n",
       "      <th>49148</th>\n",
       "      <td>2015-495_6</td>\n",
       "      <td>0.354182</td>\n",
       "      <td>0.656032</td>\n",
       "      <td>30.0</td>\n",
       "      <td>0.656032</td>\n",
       "      <td>0</td>\n",
       "      <td>1</td>\n",
       "      <td>Simone Bolelli</td>\n",
       "      <td>Lucas Pouille</td>\n",
       "      <td>1</td>\n",
       "      <td>1</td>\n",
       "      <td>1</td>\n",
       "    </tr>\n",
       "    <tr>\n",
       "      <th>12295</th>\n",
       "      <td>1996-414_38</td>\n",
       "      <td>0.619179</td>\n",
       "      <td>0.321298</td>\n",
       "      <td>30.0</td>\n",
       "      <td>0.619179</td>\n",
       "      <td>0</td>\n",
       "      <td>1</td>\n",
       "      <td>Alex Corretja</td>\n",
       "      <td>Albert Costa</td>\n",
       "      <td>0</td>\n",
       "      <td>1</td>\n",
       "      <td>-1</td>\n",
       "    </tr>\n",
       "    <tr>\n",
       "      <th>26045</th>\n",
       "      <td>2003-314_5</td>\n",
       "      <td>0.314092</td>\n",
       "      <td>0.611577</td>\n",
       "      <td>30.0</td>\n",
       "      <td>0.611577</td>\n",
       "      <td>0</td>\n",
       "      <td>1</td>\n",
       "      <td>Gaston Gaudio</td>\n",
       "      <td>Kristof Vliegen</td>\n",
       "      <td>1</td>\n",
       "      <td>1</td>\n",
       "      <td>1</td>\n",
       "    </tr>\n",
       "  </tbody>\n",
       "</table>\n",
       "</div>"
      ],
      "text/plain": [
       "            id_match    pred_1    pred_2  winning_margin  pred_max  Y_1  Y_2  \\\n",
       "39895    2010-421_15  0.639244  0.344007            30.0  0.639244    1    0   \n",
       "16498    1998-403_10  0.626928  0.327942            30.0  0.626928    1    0   \n",
       "15710    1997-D010_2  0.639986  0.339733            30.0  0.639986    0    1   \n",
       "44528    2012-D008_1  0.638702  0.337442            30.0  0.638702    1    0   \n",
       "53616  2018-0311_299  0.669495  0.367918            30.0  0.669495    1    0   \n",
       "7364      1994-337_7  0.356557  0.652137            30.0  0.652137    0    1   \n",
       "23122    2001-481_25  0.639529  0.338730            30.0  0.639529    1    0   \n",
       "49148     2015-495_6  0.354182  0.656032            30.0  0.656032    0    1   \n",
       "12295    1996-414_38  0.619179  0.321298            30.0  0.619179    0    1   \n",
       "26045     2003-314_5  0.314092  0.611577            30.0  0.611577    0    1   \n",
       "\n",
       "              player_name     opponent_name  Y_truth  Y_pred  gain  \n",
       "39895        Gilles Simon   Mikhail Youzhny        1       1     1  \n",
       "16498      Lleyton Hewitt    Nicolas Escude        1       1     1  \n",
       "15710      Jimy Szymanski      Mark Knowles        0       1    -1  \n",
       "44528  Stanislas Wawrinka        Mardy Fish        1       1     1  \n",
       "53616        Nick Kyrgios       Marin Cilic        1       1     1  \n",
       "7364      Alex Antonitsch  Roland Burtscher        1       1     1  \n",
       "23122     Bohdan Ulihrach        Tim Henman        1       1     1  \n",
       "49148      Simone Bolelli     Lucas Pouille        1       1     1  \n",
       "12295       Alex Corretja      Albert Costa        0       1    -1  \n",
       "26045       Gaston Gaudio   Kristof Vliegen        1       1     1  "
      ]
     },
     "execution_count": 102,
     "metadata": {},
     "output_type": "execute_result"
    }
   ],
   "source": [
    "ten_matches = df_win_margin_thresh.sample(n=10)\n",
    "ten_matches"
   ]
  },
  {
   "cell_type": "markdown",
   "metadata": {},
   "source": [
    "On voit ci-dessus que Marat Safin et Roddick ont perdu leurs matchs alors que le modèle prévoyait leur victoire<br>\n",
    "Pour ces 2 matchs, pred_2 représente la probabilité (prédite) que Kiefer / Wawrinka gagne le match:\n",
    "- on voit que le modèle a prédit que Kiefer avait 33.2 % de chances de gagner le match et il a gagné le match\n",
    "- le modèle a aussi prédit que Wawrinka avait 37.6 % de chances de gagner le match et il a gagné le match    "
   ]
  },
  {
   "cell_type": "code",
   "execution_count": 103,
   "metadata": {},
   "outputs": [
    {
     "name": "stdout",
     "output_type": "stream",
     "text": [
      "j'ai gagné: 60.0 % de ma mise\n"
     ]
    }
   ],
   "source": [
    "print (\"j'ai gagné:\", (ten_matches.gain.sum()/len(ten_matches))*100, \"% de ma mise\")"
   ]
  },
  {
   "cell_type": "code",
   "execution_count": 105,
   "metadata": {},
   "outputs": [
    {
     "name": "stdout",
     "output_type": "stream",
     "text": [
      "j'ai gagné: 36.42052565707134 % de ma mise\n"
     ]
    }
   ],
   "source": [
    "print (\"j'ai gagné:\", (df_win_margin_thresh.gain.sum()/len(df_win_margin_thresh))*100, \"% de ma mise\")"
   ]
  },
  {
   "cell_type": "code",
   "execution_count": 106,
   "metadata": {},
   "outputs": [
    {
     "name": "stdout",
     "output_type": "stream",
     "text": [
      "% de bonnes prédictions:  68\n"
     ]
    }
   ],
   "source": [
    "print (\"% de bonnes prédictions: \", round((df_win_margin_thresh[df_win_margin_thresh.gain == 1].shape[0]/df_win_margin_thresh.shape[0])*100))"
   ]
  },
  {
   "cell_type": "markdown",
   "metadata": {},
   "source": [
    "Regarder par déciles de winning margin"
   ]
  },
  {
   "cell_type": "code",
   "execution_count": 111,
   "metadata": {},
   "outputs": [],
   "source": [
    "df_pred_train['deciles'] = pd.qcut(df_pred_train[\"winning_margin\"],10, labels = False)"
   ]
  },
  {
   "cell_type": "code",
   "execution_count": 112,
   "metadata": {},
   "outputs": [
    {
     "data": {
      "text/html": [
       "<div>\n",
       "<style scoped>\n",
       "    .dataframe tbody tr th:only-of-type {\n",
       "        vertical-align: middle;\n",
       "    }\n",
       "\n",
       "    .dataframe tbody tr th {\n",
       "        vertical-align: top;\n",
       "    }\n",
       "\n",
       "    .dataframe thead th {\n",
       "        text-align: right;\n",
       "    }\n",
       "</style>\n",
       "<table border=\"1\" class=\"dataframe\">\n",
       "  <thead>\n",
       "    <tr style=\"text-align: right;\">\n",
       "      <th></th>\n",
       "      <th>id_match</th>\n",
       "      <th>pred_1</th>\n",
       "      <th>pred_2</th>\n",
       "      <th>winning_margin</th>\n",
       "      <th>pred_max</th>\n",
       "      <th>Y_1</th>\n",
       "      <th>Y_2</th>\n",
       "      <th>player_name</th>\n",
       "      <th>opponent_name</th>\n",
       "      <th>deciles</th>\n",
       "    </tr>\n",
       "  </thead>\n",
       "  <tbody>\n",
       "    <tr>\n",
       "      <th>0</th>\n",
       "      <td>1991-201_1</td>\n",
       "      <td>0.772840</td>\n",
       "      <td>0.221411</td>\n",
       "      <td>55.0</td>\n",
       "      <td>0.772840</td>\n",
       "      <td>0</td>\n",
       "      <td>1</td>\n",
       "      <td>Rodolphe Gilbert</td>\n",
       "      <td>Luiz Mattar</td>\n",
       "      <td>7</td>\n",
       "    </tr>\n",
       "    <tr>\n",
       "      <th>1</th>\n",
       "      <td>1991-201_10</td>\n",
       "      <td>0.424258</td>\n",
       "      <td>0.575079</td>\n",
       "      <td>15.0</td>\n",
       "      <td>0.575079</td>\n",
       "      <td>1</td>\n",
       "      <td>0</td>\n",
       "      <td>Gianluca Pozzi</td>\n",
       "      <td>Henrik Holm</td>\n",
       "      <td>2</td>\n",
       "    </tr>\n",
       "    <tr>\n",
       "      <th>2</th>\n",
       "      <td>1991-201_11</td>\n",
       "      <td>0.525984</td>\n",
       "      <td>0.454042</td>\n",
       "      <td>7.0</td>\n",
       "      <td>0.525984</td>\n",
       "      <td>0</td>\n",
       "      <td>1</td>\n",
       "      <td>Martin Wostenholme</td>\n",
       "      <td>Lawson Duncan</td>\n",
       "      <td>1</td>\n",
       "    </tr>\n",
       "    <tr>\n",
       "      <th>3</th>\n",
       "      <td>1991-201_12</td>\n",
       "      <td>0.700969</td>\n",
       "      <td>0.333900</td>\n",
       "      <td>37.0</td>\n",
       "      <td>0.700969</td>\n",
       "      <td>0</td>\n",
       "      <td>1</td>\n",
       "      <td>Pablo Albano</td>\n",
       "      <td>Horacio De La Pena</td>\n",
       "      <td>5</td>\n",
       "    </tr>\n",
       "    <tr>\n",
       "      <th>4</th>\n",
       "      <td>1991-201_13</td>\n",
       "      <td>0.618972</td>\n",
       "      <td>0.377267</td>\n",
       "      <td>24.0</td>\n",
       "      <td>0.618972</td>\n",
       "      <td>1</td>\n",
       "      <td>0</td>\n",
       "      <td>Marcelo Saliola</td>\n",
       "      <td>Tarik Benhabiles</td>\n",
       "      <td>4</td>\n",
       "    </tr>\n",
       "  </tbody>\n",
       "</table>\n",
       "</div>"
      ],
      "text/plain": [
       "      id_match    pred_1    pred_2  winning_margin  pred_max  Y_1  Y_2  \\\n",
       "0   1991-201_1  0.772840  0.221411            55.0  0.772840    0    1   \n",
       "1  1991-201_10  0.424258  0.575079            15.0  0.575079    1    0   \n",
       "2  1991-201_11  0.525984  0.454042             7.0  0.525984    0    1   \n",
       "3  1991-201_12  0.700969  0.333900            37.0  0.700969    0    1   \n",
       "4  1991-201_13  0.618972  0.377267            24.0  0.618972    1    0   \n",
       "\n",
       "          player_name       opponent_name  deciles  \n",
       "0    Rodolphe Gilbert         Luiz Mattar        7  \n",
       "1      Gianluca Pozzi         Henrik Holm        2  \n",
       "2  Martin Wostenholme       Lawson Duncan        1  \n",
       "3        Pablo Albano  Horacio De La Pena        5  \n",
       "4     Marcelo Saliola    Tarik Benhabiles        4  "
      ]
     },
     "execution_count": 112,
     "metadata": {},
     "output_type": "execute_result"
    }
   ],
   "source": [
    "df_pred_train.head()"
   ]
  },
  {
   "cell_type": "code",
   "execution_count": 113,
   "metadata": {},
   "outputs": [],
   "source": [
    "# def compute_gain(df,win_margin_thresh):\n",
    "def compute_gain(df,dec_win_margin_thresh):\n",
    "    resultat = []\n",
    "    # > ou <= ou == ?\n",
    "    # df_win_margin_thresh = df[df['winning_margin'] > win_margin_thresh]\n",
    "    # df_win_margin_thresh = df[df['winning_margin'] == win_margin_thresh]\n",
    "    # df_win_margin_thresh = df[df['winning_margin'] >= win_margin_thresh]\n",
    "    df_win_margin_thresh = df[df['winning_margin'] == dec_win_margin_thresh]\n",
    "    df_win_margin_thresh[\"Y_truth\"] = df_win_margin_thresh.apply(y_truth, axis = 1)\n",
    "\n",
    "    precision, recall, thresholds = precision_recall_curve(df_win_margin_thresh[[\"Y_truth\"]], df_win_margin_thresh[[\"pred_max\"]])\n",
    "    f1 = 2*((precision*recall)/(precision+recall))\n",
    "\n",
    "    # On définit le seuil de probabilité : c'est la proba telle que le F1-score soit maximum\n",
    "    thresh_proba = thresholds[np.where(f1 == max(f1))][0]\n",
    "\n",
    "    df_win_margin_thresh['Y_pred'] = df_win_margin_thresh['pred_max'].map(lambda x: 1 if x > thresh_proba else 0)\n",
    "    df_win_margin_thresh['gain'] = df_win_margin_thresh.apply(gain_for_each_match, axis = 1)\n",
    "    \n",
    "    # Seuil de proba utilisé pour définir la prédiction d'une victoire\n",
    "    # % de victoires prédites \n",
    "    # % de gain obtenus si on mise 1 euro par match \n",
    "    resultat.append(thresh_proba)\n",
    "    resultat.append(round((len(df_win_margin_thresh[df_win_margin_thresh.gain == 1])/len(df_win_margin_thresh))*100))\n",
    "    resultat.append(round((df_win_margin_thresh.gain.sum()/len(df_win_margin_thresh))*100))\n",
    "    \n",
    "    return resultat"
   ]
  },
  {
   "cell_type": "code",
   "execution_count": 114,
   "metadata": {},
   "outputs": [
    {
     "name": "stderr",
     "output_type": "stream",
     "text": [
      "/home/osboxes/anaconda3/envs/data/lib/python3.6/site-packages/ipykernel_launcher.py:9: SettingWithCopyWarning: \n",
      "A value is trying to be set on a copy of a slice from a DataFrame.\n",
      "Try using .loc[row_indexer,col_indexer] = value instead\n",
      "\n",
      "See the caveats in the documentation: http://pandas.pydata.org/pandas-docs/stable/indexing.html#indexing-view-versus-copy\n",
      "  if __name__ == '__main__':\n",
      "/home/osboxes/anaconda3/envs/data/lib/python3.6/site-packages/ipykernel_launcher.py:17: SettingWithCopyWarning: \n",
      "A value is trying to be set on a copy of a slice from a DataFrame.\n",
      "Try using .loc[row_indexer,col_indexer] = value instead\n",
      "\n",
      "See the caveats in the documentation: http://pandas.pydata.org/pandas-docs/stable/indexing.html#indexing-view-versus-copy\n",
      "/home/osboxes/anaconda3/envs/data/lib/python3.6/site-packages/ipykernel_launcher.py:18: SettingWithCopyWarning: \n",
      "A value is trying to be set on a copy of a slice from a DataFrame.\n",
      "Try using .loc[row_indexer,col_indexer] = value instead\n",
      "\n",
      "See the caveats in the documentation: http://pandas.pydata.org/pandas-docs/stable/indexing.html#indexing-view-versus-copy\n"
     ]
    },
    {
     "data": {
      "text/plain": [
       "[0.46232980489730835, 52, 5.0]"
      ]
     },
     "execution_count": 114,
     "metadata": {},
     "output_type": "execute_result"
    }
   ],
   "source": [
    "compute_gain(df_pred_train,1)"
   ]
  },
  {
   "cell_type": "code",
   "execution_count": 123,
   "metadata": {},
   "outputs": [],
   "source": [
    "def compute_gain_for_all_thresholds(df_pred):\n",
    "    liste_gain = []\n",
    "    # for thresh in np.arange(0,1,0.1):\n",
    "    # for thresh in np.arange(0,100,10):\n",
    "    for thresh in np.arange(90,-10,-10):\n",
    "        # print (thresh)\n",
    "        # liste_gain.append(compute_gain(df_pred,round(thresh,2)))\n",
    "        print (\"Calcul pour winning margin >= \",thresh)\n",
    "        print (compute_gain(df_pred,thresh))\n",
    "        liste_gain.append(compute_gain(df_pred,thresh))\n",
    "    return liste_gain"
   ]
  },
  {
   "cell_type": "code",
   "execution_count": 116,
   "metadata": {},
   "outputs": [
    {
     "data": {
      "text/plain": [
       "(55696, 10)"
      ]
     },
     "execution_count": 116,
     "metadata": {},
     "output_type": "execute_result"
    }
   ],
   "source": [
    "df_pred_train.shape"
   ]
  },
  {
   "cell_type": "code",
   "execution_count": 117,
   "metadata": {},
   "outputs": [
    {
     "name": "stdout",
     "output_type": "stream",
     "text": [
      "Calcul pour winning margin >=  90\n",
      "[0.9399086833000183, 99, 97.0]\n"
     ]
    },
    {
     "name": "stderr",
     "output_type": "stream",
     "text": [
      "/home/osboxes/anaconda3/envs/data/lib/python3.6/site-packages/ipykernel_launcher.py:9: SettingWithCopyWarning: \n",
      "A value is trying to be set on a copy of a slice from a DataFrame.\n",
      "Try using .loc[row_indexer,col_indexer] = value instead\n",
      "\n",
      "See the caveats in the documentation: http://pandas.pydata.org/pandas-docs/stable/indexing.html#indexing-view-versus-copy\n",
      "  if __name__ == '__main__':\n",
      "/home/osboxes/anaconda3/envs/data/lib/python3.6/site-packages/ipykernel_launcher.py:17: SettingWithCopyWarning: \n",
      "A value is trying to be set on a copy of a slice from a DataFrame.\n",
      "Try using .loc[row_indexer,col_indexer] = value instead\n",
      "\n",
      "See the caveats in the documentation: http://pandas.pydata.org/pandas-docs/stable/indexing.html#indexing-view-versus-copy\n",
      "/home/osboxes/anaconda3/envs/data/lib/python3.6/site-packages/ipykernel_launcher.py:18: SettingWithCopyWarning: \n",
      "A value is trying to be set on a copy of a slice from a DataFrame.\n",
      "Try using .loc[row_indexer,col_indexer] = value instead\n",
      "\n",
      "See the caveats in the documentation: http://pandas.pydata.org/pandas-docs/stable/indexing.html#indexing-view-versus-copy\n"
     ]
    },
    {
     "name": "stdout",
     "output_type": "stream",
     "text": [
      "Calcul pour winning margin >=  80\n",
      "[0.8775449991226196, 90, 80.0]\n",
      "Calcul pour winning margin >=  70\n",
      "[0.8164915442466736, 85, 71.0]\n",
      "Calcul pour winning margin >=  60\n",
      "[0.7666109204292297, 81, 62.0]\n",
      "Calcul pour winning margin >=  50\n",
      "[0.6926813125610352, 78, 55.0]\n",
      "Calcul pour winning margin >=  40\n"
     ]
    },
    {
     "name": "stderr",
     "output_type": "stream",
     "text": [
      "/home/osboxes/anaconda3/envs/data/lib/python3.6/site-packages/ipykernel_launcher.py:12: RuntimeWarning: invalid value encountered in true_divide\n",
      "  if sys.path[0] == '':\n"
     ]
    },
    {
     "name": "stdout",
     "output_type": "stream",
     "text": [
      "[0.6437801122665405, 75, 49.0]\n",
      "Calcul pour winning margin >=  30\n",
      "[0.6009971499443054, 68, 36.0]\n",
      "Calcul pour winning margin >=  20\n",
      "[0.5350014567375183, 63, 25.0]\n",
      "Calcul pour winning margin >=  10\n",
      "[0.4737032949924469, 57, 14.0]\n",
      "Calcul pour winning margin >=  0\n",
      "[0.44542258977890015, 51, 2.0]\n"
     ]
    }
   ],
   "source": [
    "liste_gain_train = compute_gain_for_all_thresholds(df_pred_train)"
   ]
  },
  {
   "cell_type": "code",
   "execution_count": 119,
   "metadata": {},
   "outputs": [
    {
     "name": "stdout",
     "output_type": "stream",
     "text": [
      "Calcul pour winning margin >=  90\n",
      "[0.940824568271637, 92, 84.0]\n"
     ]
    },
    {
     "name": "stderr",
     "output_type": "stream",
     "text": [
      "/home/osboxes/anaconda3/envs/data/lib/python3.6/site-packages/ipykernel_launcher.py:9: SettingWithCopyWarning: \n",
      "A value is trying to be set on a copy of a slice from a DataFrame.\n",
      "Try using .loc[row_indexer,col_indexer] = value instead\n",
      "\n",
      "See the caveats in the documentation: http://pandas.pydata.org/pandas-docs/stable/indexing.html#indexing-view-versus-copy\n",
      "  if __name__ == '__main__':\n",
      "/home/osboxes/anaconda3/envs/data/lib/python3.6/site-packages/ipykernel_launcher.py:17: SettingWithCopyWarning: \n",
      "A value is trying to be set on a copy of a slice from a DataFrame.\n",
      "Try using .loc[row_indexer,col_indexer] = value instead\n",
      "\n",
      "See the caveats in the documentation: http://pandas.pydata.org/pandas-docs/stable/indexing.html#indexing-view-versus-copy\n",
      "/home/osboxes/anaconda3/envs/data/lib/python3.6/site-packages/ipykernel_launcher.py:18: SettingWithCopyWarning: \n",
      "A value is trying to be set on a copy of a slice from a DataFrame.\n",
      "Try using .loc[row_indexer,col_indexer] = value instead\n",
      "\n",
      "See the caveats in the documentation: http://pandas.pydata.org/pandas-docs/stable/indexing.html#indexing-view-versus-copy\n"
     ]
    },
    {
     "name": "stdout",
     "output_type": "stream",
     "text": [
      "Calcul pour winning margin >=  80\n",
      "[0.8873894810676575, 88, 75.0]\n",
      "Calcul pour winning margin >=  70\n",
      "[0.8313374519348145, 88, 75.0]\n",
      "Calcul pour winning margin >=  60\n",
      "[0.7631955742835999, 78, 55.0]\n",
      "Calcul pour winning margin >=  50\n",
      "[0.7119255065917969, 77, 55.0]\n",
      "Calcul pour winning margin >=  40\n"
     ]
    },
    {
     "name": "stderr",
     "output_type": "stream",
     "text": [
      "/home/osboxes/anaconda3/envs/data/lib/python3.6/site-packages/ipykernel_launcher.py:12: RuntimeWarning: invalid value encountered in true_divide\n",
      "  if sys.path[0] == '':\n"
     ]
    },
    {
     "name": "stdout",
     "output_type": "stream",
     "text": [
      "[0.642259418964386, 73, 45.0]\n",
      "Calcul pour winning margin >=  30\n",
      "[0.6044706106185913, 66, 33.0]\n",
      "Calcul pour winning margin >=  20\n",
      "[0.5730946063995361, 57, 13.0]\n",
      "Calcul pour winning margin >=  10\n",
      "[0.49981623888015747, 56, 13.0]\n",
      "Calcul pour winning margin >=  0\n",
      "[0.4490532875061035, 48, -4.0]\n"
     ]
    }
   ],
   "source": [
    "liste_gain_valid = compute_gain_for_all_thresholds(df_pred_valid)"
   ]
  },
  {
   "cell_type": "code",
   "execution_count": 124,
   "metadata": {},
   "outputs": [
    {
     "name": "stdout",
     "output_type": "stream",
     "text": [
      "Calcul pour winning margin >=  90\n",
      "[0.938831090927124, 93, 86.0]\n"
     ]
    },
    {
     "name": "stderr",
     "output_type": "stream",
     "text": [
      "/home/osboxes/anaconda3/envs/data/lib/python3.6/site-packages/ipykernel_launcher.py:9: SettingWithCopyWarning: \n",
      "A value is trying to be set on a copy of a slice from a DataFrame.\n",
      "Try using .loc[row_indexer,col_indexer] = value instead\n",
      "\n",
      "See the caveats in the documentation: http://pandas.pydata.org/pandas-docs/stable/indexing.html#indexing-view-versus-copy\n",
      "  if __name__ == '__main__':\n",
      "/home/osboxes/anaconda3/envs/data/lib/python3.6/site-packages/ipykernel_launcher.py:17: SettingWithCopyWarning: \n",
      "A value is trying to be set on a copy of a slice from a DataFrame.\n",
      "Try using .loc[row_indexer,col_indexer] = value instead\n",
      "\n",
      "See the caveats in the documentation: http://pandas.pydata.org/pandas-docs/stable/indexing.html#indexing-view-versus-copy\n",
      "/home/osboxes/anaconda3/envs/data/lib/python3.6/site-packages/ipykernel_launcher.py:18: SettingWithCopyWarning: \n",
      "A value is trying to be set on a copy of a slice from a DataFrame.\n",
      "Try using .loc[row_indexer,col_indexer] = value instead\n",
      "\n",
      "See the caveats in the documentation: http://pandas.pydata.org/pandas-docs/stable/indexing.html#indexing-view-versus-copy\n"
     ]
    },
    {
     "name": "stdout",
     "output_type": "stream",
     "text": [
      "Calcul pour winning margin >=  80\n",
      "[0.8740030527114868, 92, 85.0]\n",
      "Calcul pour winning margin >=  70\n",
      "[0.8252265453338623, 86, 72.0]\n",
      "Calcul pour winning margin >=  60\n",
      "[0.7588625550270081, 81, 62.0]\n",
      "Calcul pour winning margin >=  50\n",
      "[0.6879109740257263, 77, 53.0]\n",
      "Calcul pour winning margin >=  40\n",
      "[0.6452234387397766, 76, 52.0]\n",
      "Calcul pour winning margin >=  30\n",
      "[0.5998683571815491, 65, 30.0]\n"
     ]
    },
    {
     "name": "stderr",
     "output_type": "stream",
     "text": [
      "/home/osboxes/anaconda3/envs/data/lib/python3.6/site-packages/ipykernel_launcher.py:12: RuntimeWarning: invalid value encountered in true_divide\n",
      "  if sys.path[0] == '':\n"
     ]
    },
    {
     "name": "stdout",
     "output_type": "stream",
     "text": [
      "Calcul pour winning margin >=  20\n",
      "[0.5430514216423035, 62, 23.0]\n",
      "Calcul pour winning margin >=  10\n",
      "[0.5009743571281433, 59, 18.0]\n",
      "Calcul pour winning margin >=  0\n",
      "[0.45461130142211914, 44, -11.0]\n"
     ]
    }
   ],
   "source": [
    "liste_gain_test = compute_gain_for_all_thresholds(df_pred_test)"
   ]
  },
  {
   "cell_type": "code",
   "execution_count": 125,
   "metadata": {},
   "outputs": [
    {
     "name": "stdout",
     "output_type": "stream",
     "text": [
      "Calcul pour décile de winning margin  0\n"
     ]
    },
    {
     "name": "stderr",
     "output_type": "stream",
     "text": [
      "/home/osboxes/anaconda3/envs/data/lib/python3.6/site-packages/ipykernel_launcher.py:9: SettingWithCopyWarning: \n",
      "A value is trying to be set on a copy of a slice from a DataFrame.\n",
      "Try using .loc[row_indexer,col_indexer] = value instead\n",
      "\n",
      "See the caveats in the documentation: http://pandas.pydata.org/pandas-docs/stable/indexing.html#indexing-view-versus-copy\n",
      "  if __name__ == '__main__':\n",
      "/home/osboxes/anaconda3/envs/data/lib/python3.6/site-packages/ipykernel_launcher.py:17: SettingWithCopyWarning: \n",
      "A value is trying to be set on a copy of a slice from a DataFrame.\n",
      "Try using .loc[row_indexer,col_indexer] = value instead\n",
      "\n",
      "See the caveats in the documentation: http://pandas.pydata.org/pandas-docs/stable/indexing.html#indexing-view-versus-copy\n",
      "/home/osboxes/anaconda3/envs/data/lib/python3.6/site-packages/ipykernel_launcher.py:18: SettingWithCopyWarning: \n",
      "A value is trying to be set on a copy of a slice from a DataFrame.\n",
      "Try using .loc[row_indexer,col_indexer] = value instead\n",
      "\n",
      "See the caveats in the documentation: http://pandas.pydata.org/pandas-docs/stable/indexing.html#indexing-view-versus-copy\n"
     ]
    },
    {
     "name": "stdout",
     "output_type": "stream",
     "text": [
      "[0.44542258977890015, 51, 2.0]\n",
      "Calcul pour décile de winning margin  1\n",
      "[0.46232980489730835, 52, 5.0]\n",
      "Calcul pour décile de winning margin  2\n",
      "[0.4576075077056885, 52, 3.0]\n",
      "Calcul pour décile de winning margin  3\n",
      "[0.45501306653022766, 52, 3.0]\n",
      "Calcul pour décile de winning margin  4\n",
      "[0.46239352226257324, 52, 4.0]\n",
      "Calcul pour décile de winning margin  5\n",
      "[0.4717656373977661, 51, 3.0]\n",
      "Calcul pour décile de winning margin  6\n",
      "[0.47412508726119995, 51, 2.0]\n",
      "Calcul pour décile de winning margin  7\n"
     ]
    },
    {
     "name": "stderr",
     "output_type": "stream",
     "text": [
      "/home/osboxes/anaconda3/envs/data/lib/python3.6/site-packages/ipykernel_launcher.py:12: RuntimeWarning: invalid value encountered in true_divide\n",
      "  if sys.path[0] == '':\n"
     ]
    },
    {
     "name": "stdout",
     "output_type": "stream",
     "text": [
      "[0.472909152507782, 54, 8.0]\n",
      "Calcul pour décile de winning margin  8\n",
      "[0.49390777945518494, 54, 7.0]\n",
      "Calcul pour décile de winning margin  9\n",
      "[0.49561598896980286, 58, 16.0]\n"
     ]
    }
   ],
   "source": [
    "def compute_gain_for_all_dec_thresholds(df_pred):\n",
    "    liste_gain = []\n",
    "    for dec in np.arange(0,10,1):\n",
    "        print (\"Calcul pour décile de winning margin \",dec)\n",
    "        print (compute_gain(df_pred,dec))\n",
    "        liste_gain.append(compute_gain(df_pred,dec))\n",
    "    return liste_gain\n",
    "liste_gain_train = compute_gain_for_all_dec_thresholds(df_pred_train)"
   ]
  },
  {
   "cell_type": "code",
   "execution_count": 126,
   "metadata": {},
   "outputs": [
    {
     "name": "stdout",
     "output_type": "stream",
     "text": [
      "Calcul pour décile de winning margin  0\n"
     ]
    },
    {
     "name": "stderr",
     "output_type": "stream",
     "text": [
      "/home/osboxes/anaconda3/envs/data/lib/python3.6/site-packages/ipykernel_launcher.py:9: SettingWithCopyWarning: \n",
      "A value is trying to be set on a copy of a slice from a DataFrame.\n",
      "Try using .loc[row_indexer,col_indexer] = value instead\n",
      "\n",
      "See the caveats in the documentation: http://pandas.pydata.org/pandas-docs/stable/indexing.html#indexing-view-versus-copy\n",
      "  if __name__ == '__main__':\n",
      "/home/osboxes/anaconda3/envs/data/lib/python3.6/site-packages/ipykernel_launcher.py:17: SettingWithCopyWarning: \n",
      "A value is trying to be set on a copy of a slice from a DataFrame.\n",
      "Try using .loc[row_indexer,col_indexer] = value instead\n",
      "\n",
      "See the caveats in the documentation: http://pandas.pydata.org/pandas-docs/stable/indexing.html#indexing-view-versus-copy\n",
      "/home/osboxes/anaconda3/envs/data/lib/python3.6/site-packages/ipykernel_launcher.py:18: SettingWithCopyWarning: \n",
      "A value is trying to be set on a copy of a slice from a DataFrame.\n",
      "Try using .loc[row_indexer,col_indexer] = value instead\n",
      "\n",
      "See the caveats in the documentation: http://pandas.pydata.org/pandas-docs/stable/indexing.html#indexing-view-versus-copy\n"
     ]
    },
    {
     "name": "stdout",
     "output_type": "stream",
     "text": [
      "[0.4490532875061035, 48, -4.0]\n",
      "Calcul pour décile de winning margin  1\n",
      "[0.46769440174102783, 58, 15.0]\n",
      "Calcul pour décile de winning margin  2\n"
     ]
    },
    {
     "name": "stderr",
     "output_type": "stream",
     "text": [
      "/home/osboxes/anaconda3/envs/data/lib/python3.6/site-packages/ipykernel_launcher.py:12: RuntimeWarning: invalid value encountered in true_divide\n",
      "  if sys.path[0] == '':\n"
     ]
    },
    {
     "name": "stdout",
     "output_type": "stream",
     "text": [
      "[0.4707636833190918, 55, 10.0]\n",
      "Calcul pour décile de winning margin  3\n",
      "[0.4782981872558594, 52, 5.0]\n",
      "Calcul pour décile de winning margin  4\n",
      "[0.4795718789100647, 56, 11.0]\n",
      "Calcul pour décile de winning margin  5\n",
      "[0.45507577061653137, 53, 7.0]\n",
      "Calcul pour décile de winning margin  6\n",
      "[0.46584638953208923, 54, 9.0]\n",
      "Calcul pour décile de winning margin  7\n",
      "[0.4868432283401489, 56, 13.0]\n",
      "Calcul pour décile de winning margin  8\n",
      "[0.47292840480804443, 56, 13.0]\n",
      "Calcul pour décile de winning margin  9\n",
      "[0.5032801628112793, 58, 16.0]\n"
     ]
    }
   ],
   "source": [
    "liste_gain_valid = compute_gain_for_all_dec_thresholds(df_pred_valid)"
   ]
  },
  {
   "cell_type": "code",
   "execution_count": 127,
   "metadata": {},
   "outputs": [
    {
     "name": "stdout",
     "output_type": "stream",
     "text": [
      "Calcul pour décile de winning margin  0\n",
      "[0.45461130142211914, 44, -11.0]\n"
     ]
    },
    {
     "name": "stderr",
     "output_type": "stream",
     "text": [
      "/home/osboxes/anaconda3/envs/data/lib/python3.6/site-packages/ipykernel_launcher.py:9: SettingWithCopyWarning: \n",
      "A value is trying to be set on a copy of a slice from a DataFrame.\n",
      "Try using .loc[row_indexer,col_indexer] = value instead\n",
      "\n",
      "See the caveats in the documentation: http://pandas.pydata.org/pandas-docs/stable/indexing.html#indexing-view-versus-copy\n",
      "  if __name__ == '__main__':\n",
      "/home/osboxes/anaconda3/envs/data/lib/python3.6/site-packages/ipykernel_launcher.py:12: RuntimeWarning: invalid value encountered in true_divide\n",
      "  if sys.path[0] == '':\n",
      "/home/osboxes/anaconda3/envs/data/lib/python3.6/site-packages/ipykernel_launcher.py:17: SettingWithCopyWarning: \n",
      "A value is trying to be set on a copy of a slice from a DataFrame.\n",
      "Try using .loc[row_indexer,col_indexer] = value instead\n",
      "\n",
      "See the caveats in the documentation: http://pandas.pydata.org/pandas-docs/stable/indexing.html#indexing-view-versus-copy\n",
      "/home/osboxes/anaconda3/envs/data/lib/python3.6/site-packages/ipykernel_launcher.py:18: SettingWithCopyWarning: \n",
      "A value is trying to be set on a copy of a slice from a DataFrame.\n",
      "Try using .loc[row_indexer,col_indexer] = value instead\n",
      "\n",
      "See the caveats in the documentation: http://pandas.pydata.org/pandas-docs/stable/indexing.html#indexing-view-versus-copy\n"
     ]
    },
    {
     "name": "stdout",
     "output_type": "stream",
     "text": [
      "Calcul pour décile de winning margin  1\n",
      "[0.46102970838546753, 51, 3.0]\n",
      "Calcul pour décile de winning margin  2\n",
      "[0.4725917875766754, 51, 1.0]\n",
      "Calcul pour décile de winning margin  3\n",
      "[0.46663445234298706, 50, 0.0]\n",
      "Calcul pour décile de winning margin  4\n",
      "[0.4775600731372833, 49, -2.0]\n",
      "Calcul pour décile de winning margin  5\n",
      "[0.46520957350730896, 55, 10.0]\n",
      "Calcul pour décile de winning margin  6\n",
      "[0.4959281086921692, 51, 2.0]\n",
      "Calcul pour décile de winning margin  7\n",
      "[0.5051746368408203, 55, 11.0]\n",
      "Calcul pour décile de winning margin  8\n",
      "[0.4873581826686859, 56, 12.0]\n",
      "Calcul pour décile de winning margin  9\n",
      "[0.482721745967865, 54, 8.0]\n"
     ]
    }
   ],
   "source": [
    "liste_gain_test = compute_gain_for_all_dec_thresholds(df_pred_test)"
   ]
  },
  {
   "cell_type": "code",
   "execution_count": 115,
   "metadata": {},
   "outputs": [
    {
     "name": "stdout",
     "output_type": "stream",
     "text": [
      "Calcul pour winning margin >=  90\n",
      "[0.938831090927124, 99, 98.0]\n"
     ]
    },
    {
     "name": "stderr",
     "output_type": "stream",
     "text": [
      "/home/osboxes/anaconda3/envs/data/lib/python3.6/site-packages/ipykernel_launcher.py:6: SettingWithCopyWarning: \n",
      "A value is trying to be set on a copy of a slice from a DataFrame.\n",
      "Try using .loc[row_indexer,col_indexer] = value instead\n",
      "\n",
      "See the caveats in the documentation: http://pandas.pydata.org/pandas-docs/stable/indexing.html#indexing-view-versus-copy\n",
      "  \n",
      "/home/osboxes/anaconda3/envs/data/lib/python3.6/site-packages/ipykernel_launcher.py:14: SettingWithCopyWarning: \n",
      "A value is trying to be set on a copy of a slice from a DataFrame.\n",
      "Try using .loc[row_indexer,col_indexer] = value instead\n",
      "\n",
      "See the caveats in the documentation: http://pandas.pydata.org/pandas-docs/stable/indexing.html#indexing-view-versus-copy\n",
      "  \n",
      "/home/osboxes/anaconda3/envs/data/lib/python3.6/site-packages/ipykernel_launcher.py:15: SettingWithCopyWarning: \n",
      "A value is trying to be set on a copy of a slice from a DataFrame.\n",
      "Try using .loc[row_indexer,col_indexer] = value instead\n",
      "\n",
      "See the caveats in the documentation: http://pandas.pydata.org/pandas-docs/stable/indexing.html#indexing-view-versus-copy\n",
      "  from ipykernel import kernelapp as app\n"
     ]
    },
    {
     "name": "stdout",
     "output_type": "stream",
     "text": [
      "Calcul pour winning margin >=  80\n",
      "[0.8775449991226196, 94, 88.0]\n",
      "Calcul pour winning margin >=  70\n",
      "[0.8198207020759583, 92, 84.0]\n",
      "Calcul pour winning margin >=  60\n",
      "[0.7698660492897034, 89, 77.0]\n",
      "Calcul pour winning margin >=  50\n",
      "[0.7007735371589661, 85, 71.0]\n",
      "Calcul pour winning margin >=  40\n",
      "[0.6384737491607666, 82, 64.0]\n",
      "Calcul pour winning margin >=  30\n",
      "[0.6009806990623474, 79, 58.0]\n",
      "Calcul pour winning margin >=  20\n",
      "[0.5508314371109009, 75, 50.0]\n",
      "Calcul pour winning margin >=  10\n",
      "[0.5009743571281433, 72, 44.0]\n",
      "Calcul pour winning margin >=  0\n",
      "[0.4624705910682678, 69, 37.0]\n"
     ]
    }
   ],
   "source": [
    "liste_gain_test = compute_gain_for_all_thresholds(df_pred_test)"
   ]
  },
  {
   "cell_type": "markdown",
   "metadata": {},
   "source": [
    "On voit ci-dessus pour le test set que:<br>\n",
    "Calcul pour winning margin >=  0<br>\n",
    "[0.4624705910682678, 69, 37.0]\n",
    "Ce qui indique une meilleure performance avec la méthode winning margin\n",
    "versus sans wining margin sachant qu'on avait:\n"
   ]
  },
  {
   "cell_type": "code",
   "execution_count": 128,
   "metadata": {},
   "outputs": [],
   "source": [
    "gain_train = []\n",
    "for each in liste_gain_train:\n",
    "    gain_train.append(each[2])\n",
    "    \n",
    "gain_valid = []\n",
    "for each in liste_gain_valid:\n",
    "    gain_valid.append(each[2])\n",
    "    \n",
    "gain_test = []\n",
    "for each in liste_gain_test:\n",
    "    gain_test.append(each[2])"
   ]
  },
  {
   "cell_type": "markdown",
   "metadata": {},
   "source": [
    "On suppose qu'on mise 1 euro par match"
   ]
  },
  {
   "cell_type": "markdown",
   "metadata": {},
   "source": [
    "Ce sont ces v. de graphiques avec abscisses les déciles de winnin margin<br>\n",
    "qui sont les + intéressants<br>\n",
    "Et il est intéressant de réaliser ces graphiques avec abcisses les déciles des probabilités<br>\n",
    "obtenus grace auc déciles de thresholds (de precision_recall_curve) afin de comparer les courbes<br>\n",
    "avec ceux ontenus de la meme façon sans la méthode winning margin "
   ]
  },
  {
   "cell_type": "code",
   "execution_count": 135,
   "metadata": {},
   "outputs": [
    {
     "data": {
      "image/png": "[encoded data removed]",
      "text/plain": [
       "<Figure size 432x288 with 1 Axes>"
      ]
     },
     "metadata": {
      "needs_background": "light"
     },
     "output_type": "display_data"
    }
   ],
   "source": [
    "# Seuils de winning margin\n",
    "liste_thresh = []\n",
    "for dec in np.arange(0,10,1):\n",
    "    liste_thresh.append(dec)\n",
    "liste_thresh    \n",
    "plt.plot(liste_thresh,gain_train, label = \"train\")\n",
    "plt.plot(liste_thresh,gain_valid,label = \"valid\")\n",
    "plt.plot(liste_thresh,gain_test,label = \"test\")\n",
    "plt.xlabel('winning margin')\n",
    "plt.ylabel('% de gain')\n",
    "leg = plt.legend()"
   ]
  },
  {
   "cell_type": "code",
   "execution_count": 131,
   "metadata": {},
   "outputs": [],
   "source": [
    "pct_good_train = []\n",
    "for each in liste_gain_train:\n",
    "    pct_good_train.append(each[1])\n",
    "    \n",
    "pct_good_valid = []\n",
    "for each in liste_gain_valid:\n",
    "    pct_good_valid.append(each[1])\n",
    "    \n",
    "pct_good_test = []\n",
    "for each in liste_gain_test:\n",
    "    pct_good_test.append(each[1])"
   ]
  },
  {
   "cell_type": "code",
   "execution_count": 138,
   "metadata": {},
   "outputs": [
    {
     "data": {
      "image/png": "[encoded data removed]",
      "text/plain": [
       "<Figure size 432x288 with 1 Axes>"
      ]
     },
     "metadata": {
      "needs_background": "light"
     },
     "output_type": "display_data"
    }
   ],
   "source": [
    "# Seuils de winning margin\n",
    "liste_thresh = []\n",
    "for dec in np.arange(0,10,1):\n",
    "    liste_thresh.append(dec)\n",
    "    \n",
    "plt.plot(liste_thresh,pct_good_train, label = \"train\")\n",
    "plt.plot(liste_thresh,pct_good_valid,label = \"valid\")\n",
    "plt.plot(liste_thresh,pct_good_test,label = \"test\")\n",
    "plt.xlabel('winning margin')\n",
    "plt.ylabel('% de bonnes prédictions')\n",
    "leg = plt.legend()"
   ]
  },
  {
   "cell_type": "code",
   "execution_count": 133,
   "metadata": {},
   "outputs": [
    {
     "data": {
      "image/png": "[encoded data removed]",
      "text/plain": [
       "<Figure size 432x288 with 1 Axes>"
      ]
     },
     "metadata": {
      "needs_background": "light"
     },
     "output_type": "display_data"
    }
   ],
   "source": [
    "probas_train = []\n",
    "for each in liste_gain_train:\n",
    "    probas_train.append(each[0])\n",
    "    \n",
    "probas_valid = []\n",
    "for each in liste_gain_valid:\n",
    "    probas_valid.append(each[0])\n",
    "    \n",
    "probas_test = []\n",
    "for each in liste_gain_test:\n",
    "    probas_test.append(each[0])\n",
    "    \n",
    "# Seuils de winning margin\n",
    "liste_thresh = []\n",
    "for dec in np.arange(0,10,1):\n",
    "    liste_thresh.append(dec)\n",
    "    \n",
    "plt.plot(liste_thresh,probas_train, label = \"train\")\n",
    "plt.plot(liste_thresh,probas_valid,label = \"valid\")\n",
    "plt.plot(liste_thresh,probas_test,label = \"test\")\n",
    "plt.xlabel('winning margin')\n",
    "plt.ylabel('probas seuil')\n",
    "leg = plt.legend()"
   ]
  },
  {
   "cell_type": "markdown",
   "metadata": {},
   "source": [
    "##  Comment on calcule le % de gains obtenus globalement sur chaque dataset ?\n",
    "sachant que pour le modèle sans winning margin j'ai obtenu:\n",
    "- train : 33%\n",
    "- valid : 22%\n",
    "- test : 25%"
   ]
  },
  {
   "cell_type": "markdown",
   "metadata": {},
   "source": [
    "### Evaluation du modèle sur le test set margin\n",
    "- d'abord sur le test set que j'avais construit avec la méthode \"winning margin\"\n",
    "- ensuite, avec le test set construit sans la méthode \"wining margin\""
   ]
  },
  {
   "cell_type": "code",
   "execution_count": 224,
   "metadata": {},
   "outputs": [],
   "source": [
    "liste_columns_test =  liste_feat_for_xgboost_modele_1\n",
    "liste_columns_test.append(\"id_match\")"
   ]
  },
  {
   "cell_type": "code",
   "execution_count": 238,
   "metadata": {},
   "outputs": [
    {
     "data": {
      "text/plain": [
       "['surface_labels_encoding',\n",
       " 'tourney_level_labels_encoding',\n",
       " 'player_hand_labels_encoding',\n",
       " 'opponent_hand_labels_encoding',\n",
       " 'player_ht',\n",
       " 'player_age',\n",
       " 'player_rank',\n",
       " 'player_rank_points',\n",
       " 'opponent_ht',\n",
       " 'opponent_age',\n",
       " 'opponent_rank',\n",
       " 'opponent_rank_points',\n",
       " 'id_match']"
      ]
     },
     "execution_count": 238,
     "metadata": {},
     "output_type": "execute_result"
    }
   ],
   "source": [
    "liste_columns_test"
   ]
  },
  {
   "cell_type": "code",
   "execution_count": 225,
   "metadata": {},
   "outputs": [],
   "source": [
    "df_temp = X_test_all_columns[liste_columns_test]\n",
    "df_temp = df_temp.sort_values(by = \"id_match\")\n",
    "Y_test = Y_test.sort_values(by = \"id_match\")\n",
    "\n",
    "df_temp_for_prediction = df_temp[[each for each in list(df_temp) if each != \"id_match\"]]\n",
    "predicted_values_test = xgb_model.predict_proba(df_temp_for_prediction)[:,1]\n",
    "predicted_values_test = np.expand_dims(predicted_values_test, axis=1)\n",
    "Y_test_without_id_match = Y_test.drop(\"id_match\", axis = 1)"
   ]
  },
  {
   "cell_type": "code",
   "execution_count": 226,
   "metadata": {},
   "outputs": [
    {
     "name": "stdout",
     "output_type": "stream",
     "text": [
      "AUC sur le test set:  0.7554500448957953\n"
     ]
    }
   ],
   "source": [
    "AUC_test_value = roc_auc_score(Y_test_without_id_match.values, predicted_values_test)\n",
    "print (\"AUC sur le test set: \", AUC_test_value)\n",
    "\n",
    "df_predicted_values_test = pd.DataFrame({'id_match':df_temp[\"id_match\"].values, 'pred': predicted_values_test[:, 0]})"
   ]
  },
  {
   "cell_type": "code",
   "execution_count": 227,
   "metadata": {},
   "outputs": [
    {
     "data": {
      "text/html": [
       "<div>\n",
       "<style scoped>\n",
       "    .dataframe tbody tr th:only-of-type {\n",
       "        vertical-align: middle;\n",
       "    }\n",
       "\n",
       "    .dataframe tbody tr th {\n",
       "        vertical-align: top;\n",
       "    }\n",
       "\n",
       "    .dataframe thead th {\n",
       "        text-align: right;\n",
       "    }\n",
       "</style>\n",
       "<table border=\"1\" class=\"dataframe\">\n",
       "  <thead>\n",
       "    <tr style=\"text-align: right;\">\n",
       "      <th></th>\n",
       "      <th>id_match</th>\n",
       "      <th>pred</th>\n",
       "    </tr>\n",
       "  </thead>\n",
       "  <tbody>\n",
       "    <tr>\n",
       "      <th>0</th>\n",
       "      <td>1991-201_13</td>\n",
       "      <td>0.618972</td>\n",
       "    </tr>\n",
       "    <tr>\n",
       "      <th>1</th>\n",
       "      <td>1991-201_13</td>\n",
       "      <td>0.377267</td>\n",
       "    </tr>\n",
       "    <tr>\n",
       "      <th>2</th>\n",
       "      <td>1991-201_14</td>\n",
       "      <td>0.559953</td>\n",
       "    </tr>\n",
       "    <tr>\n",
       "      <th>3</th>\n",
       "      <td>1991-201_14</td>\n",
       "      <td>0.420432</td>\n",
       "    </tr>\n",
       "    <tr>\n",
       "      <th>4</th>\n",
       "      <td>1991-201_19</td>\n",
       "      <td>0.567847</td>\n",
       "    </tr>\n",
       "  </tbody>\n",
       "</table>\n",
       "</div>"
      ],
      "text/plain": [
       "      id_match      pred\n",
       "0  1991-201_13  0.618972\n",
       "1  1991-201_13  0.377267\n",
       "2  1991-201_14  0.559953\n",
       "3  1991-201_14  0.420432\n",
       "4  1991-201_19  0.567847"
      ]
     },
     "execution_count": 227,
     "metadata": {},
     "output_type": "execute_result"
    }
   ],
   "source": [
    "df_predicted_values_test.head()"
   ]
  },
  {
   "cell_type": "code",
   "execution_count": 228,
   "metadata": {},
   "outputs": [],
   "source": [
    "Y_test.reset_index(drop = False, inplace = True)\n",
    "df_predicted_values_test.reset_index(drop = False, inplace = True)\n",
    "df_predicted_values_test[\"Y\"] = Y_test[\"Y\"]"
   ]
  },
  {
   "cell_type": "code",
   "execution_count": 229,
   "metadata": {},
   "outputs": [
    {
     "data": {
      "text/html": [
       "<div>\n",
       "<style scoped>\n",
       "    .dataframe tbody tr th:only-of-type {\n",
       "        vertical-align: middle;\n",
       "    }\n",
       "\n",
       "    .dataframe tbody tr th {\n",
       "        vertical-align: top;\n",
       "    }\n",
       "\n",
       "    .dataframe thead th {\n",
       "        text-align: right;\n",
       "    }\n",
       "</style>\n",
       "<table border=\"1\" class=\"dataframe\">\n",
       "  <thead>\n",
       "    <tr style=\"text-align: right;\">\n",
       "      <th></th>\n",
       "      <th>id_match</th>\n",
       "      <th>pred</th>\n",
       "      <th>Y</th>\n",
       "      <th>player_name</th>\n",
       "      <th>opponent_name</th>\n",
       "    </tr>\n",
       "  </thead>\n",
       "  <tbody>\n",
       "    <tr>\n",
       "      <th>0</th>\n",
       "      <td>1991-201_13</td>\n",
       "      <td>0.618972</td>\n",
       "      <td>1</td>\n",
       "      <td>Marcelo Saliola</td>\n",
       "      <td>Tarik Benhabiles</td>\n",
       "    </tr>\n",
       "    <tr>\n",
       "      <th>1</th>\n",
       "      <td>1991-201_13</td>\n",
       "      <td>0.377267</td>\n",
       "      <td>0</td>\n",
       "      <td>Tarik Benhabiles</td>\n",
       "      <td>Marcelo Saliola</td>\n",
       "    </tr>\n",
       "    <tr>\n",
       "      <th>2</th>\n",
       "      <td>1991-201_14</td>\n",
       "      <td>0.559953</td>\n",
       "      <td>0</td>\n",
       "      <td>Chris Garner</td>\n",
       "      <td>Christer Allgardh</td>\n",
       "    </tr>\n",
       "    <tr>\n",
       "      <th>3</th>\n",
       "      <td>1991-201_14</td>\n",
       "      <td>0.420432</td>\n",
       "      <td>1</td>\n",
       "      <td>Christer Allgardh</td>\n",
       "      <td>Chris Garner</td>\n",
       "    </tr>\n",
       "    <tr>\n",
       "      <th>4</th>\n",
       "      <td>1991-201_19</td>\n",
       "      <td>0.567847</td>\n",
       "      <td>1</td>\n",
       "      <td>Gabriel Markus</td>\n",
       "      <td>Patrick Baur</td>\n",
       "    </tr>\n",
       "    <tr>\n",
       "      <th>5</th>\n",
       "      <td>1991-201_19</td>\n",
       "      <td>0.442596</td>\n",
       "      <td>0</td>\n",
       "      <td>Patrick Baur</td>\n",
       "      <td>Gabriel Markus</td>\n",
       "    </tr>\n",
       "    <tr>\n",
       "      <th>6</th>\n",
       "      <td>1991-201_25</td>\n",
       "      <td>0.479592</td>\n",
       "      <td>0</td>\n",
       "      <td>Shuzo Matsuoka</td>\n",
       "      <td>Rodolphe Gilbert</td>\n",
       "    </tr>\n",
       "    <tr>\n",
       "      <th>7</th>\n",
       "      <td>1991-201_25</td>\n",
       "      <td>0.563067</td>\n",
       "      <td>1</td>\n",
       "      <td>Rodolphe Gilbert</td>\n",
       "      <td>Shuzo Matsuoka</td>\n",
       "    </tr>\n",
       "    <tr>\n",
       "      <th>8</th>\n",
       "      <td>1991-201_26</td>\n",
       "      <td>0.483966</td>\n",
       "      <td>0</td>\n",
       "      <td>Patrick Baur</td>\n",
       "      <td>Diego Perez</td>\n",
       "    </tr>\n",
       "    <tr>\n",
       "      <th>9</th>\n",
       "      <td>1991-201_26</td>\n",
       "      <td>0.513814</td>\n",
       "      <td>1</td>\n",
       "      <td>Diego Perez</td>\n",
       "      <td>Patrick Baur</td>\n",
       "    </tr>\n",
       "    <tr>\n",
       "      <th>10</th>\n",
       "      <td>1991-201_29</td>\n",
       "      <td>0.492559</td>\n",
       "      <td>0</td>\n",
       "      <td>Patrick Baur</td>\n",
       "      <td>Shuzo Matsuoka</td>\n",
       "    </tr>\n",
       "    <tr>\n",
       "      <th>11</th>\n",
       "      <td>1991-201_29</td>\n",
       "      <td>0.512902</td>\n",
       "      <td>1</td>\n",
       "      <td>Shuzo Matsuoka</td>\n",
       "      <td>Patrick Baur</td>\n",
       "    </tr>\n",
       "    <tr>\n",
       "      <th>12</th>\n",
       "      <td>1991-201_7</td>\n",
       "      <td>0.440195</td>\n",
       "      <td>0</td>\n",
       "      <td>Diego Perez</td>\n",
       "      <td>Thierry Tulasne</td>\n",
       "    </tr>\n",
       "    <tr>\n",
       "      <th>13</th>\n",
       "      <td>1991-201_7</td>\n",
       "      <td>0.543894</td>\n",
       "      <td>1</td>\n",
       "      <td>Thierry Tulasne</td>\n",
       "      <td>Diego Perez</td>\n",
       "    </tr>\n",
       "    <tr>\n",
       "      <th>14</th>\n",
       "      <td>1991-215_10</td>\n",
       "      <td>0.379005</td>\n",
       "      <td>1</td>\n",
       "      <td>Patrick Baur</td>\n",
       "      <td>Fernando Roese</td>\n",
       "    </tr>\n",
       "    <tr>\n",
       "      <th>15</th>\n",
       "      <td>1991-215_10</td>\n",
       "      <td>0.586798</td>\n",
       "      <td>0</td>\n",
       "      <td>Fernando Roese</td>\n",
       "      <td>Patrick Baur</td>\n",
       "    </tr>\n",
       "    <tr>\n",
       "      <th>16</th>\n",
       "      <td>1991-215_15</td>\n",
       "      <td>0.572193</td>\n",
       "      <td>0</td>\n",
       "      <td>Jose Daher</td>\n",
       "      <td>Gabriel Markus</td>\n",
       "    </tr>\n",
       "    <tr>\n",
       "      <th>17</th>\n",
       "      <td>1991-215_15</td>\n",
       "      <td>0.361425</td>\n",
       "      <td>1</td>\n",
       "      <td>Gabriel Markus</td>\n",
       "      <td>Jose Daher</td>\n",
       "    </tr>\n",
       "    <tr>\n",
       "      <th>18</th>\n",
       "      <td>1991-215_25</td>\n",
       "      <td>0.548889</td>\n",
       "      <td>1</td>\n",
       "      <td>Markus Zoecke</td>\n",
       "      <td>Jaime Oncins</td>\n",
       "    </tr>\n",
       "    <tr>\n",
       "      <th>19</th>\n",
       "      <td>1991-215_25</td>\n",
       "      <td>0.421736</td>\n",
       "      <td>0</td>\n",
       "      <td>Jaime Oncins</td>\n",
       "      <td>Markus Zoecke</td>\n",
       "    </tr>\n",
       "  </tbody>\n",
       "</table>\n",
       "</div>"
      ],
      "text/plain": [
       "       id_match      pred  Y        player_name      opponent_name\n",
       "0   1991-201_13  0.618972  1    Marcelo Saliola   Tarik Benhabiles\n",
       "1   1991-201_13  0.377267  0   Tarik Benhabiles    Marcelo Saliola\n",
       "2   1991-201_14  0.559953  0       Chris Garner  Christer Allgardh\n",
       "3   1991-201_14  0.420432  1  Christer Allgardh       Chris Garner\n",
       "4   1991-201_19  0.567847  1     Gabriel Markus       Patrick Baur\n",
       "5   1991-201_19  0.442596  0       Patrick Baur     Gabriel Markus\n",
       "6   1991-201_25  0.479592  0     Shuzo Matsuoka   Rodolphe Gilbert\n",
       "7   1991-201_25  0.563067  1   Rodolphe Gilbert     Shuzo Matsuoka\n",
       "8   1991-201_26  0.483966  0       Patrick Baur        Diego Perez\n",
       "9   1991-201_26  0.513814  1        Diego Perez       Patrick Baur\n",
       "10  1991-201_29  0.492559  0       Patrick Baur     Shuzo Matsuoka\n",
       "11  1991-201_29  0.512902  1     Shuzo Matsuoka       Patrick Baur\n",
       "12   1991-201_7  0.440195  0        Diego Perez    Thierry Tulasne\n",
       "13   1991-201_7  0.543894  1    Thierry Tulasne        Diego Perez\n",
       "14  1991-215_10  0.379005  1       Patrick Baur     Fernando Roese\n",
       "15  1991-215_10  0.586798  0     Fernando Roese       Patrick Baur\n",
       "16  1991-215_15  0.572193  0         Jose Daher     Gabriel Markus\n",
       "17  1991-215_15  0.361425  1     Gabriel Markus         Jose Daher\n",
       "18  1991-215_25  0.548889  1      Markus Zoecke       Jaime Oncins\n",
       "19  1991-215_25  0.421736  0       Jaime Oncins      Markus Zoecke"
      ]
     },
     "execution_count": 229,
     "metadata": {},
     "output_type": "execute_result"
    }
   ],
   "source": [
    "df_temp_names_players = X_test_all_columns[[\"id_match\",\"player_name\",\"opponent_name\"]]\n",
    "df_temp_names_players = df_temp_names_players.sort_values(by = \"id_match\")\n",
    "df_temp_names_players.reset_index(drop = False, inplace = True)\n",
    "df_predicted_values_test.reset_index(drop = False, inplace = True)\n",
    "df_predicted_values_test[\"player_name\"] = df_temp_names_players[\"player_name\"]\n",
    "df_predicted_values_test[\"opponent_name\"] = df_temp_names_players[\"opponent_name\"]\n",
    "\n",
    "df_predicted_values_test = df_predicted_values_test.drop([\"level_0\",\"index\"], axis = 1)\n",
    "df_predicted_values_test.head(n=20)"
   ]
  },
  {
   "cell_type": "markdown",
   "metadata": {},
   "source": [
    "#### Evaluation grâce aux gains en cas de bonnes prédictions ou de mauvaises prédictions:\n",
    "on utilise \"df_pred_test_built_without_win_margin\""
   ]
  },
  {
   "cell_type": "code",
   "execution_count": 277,
   "metadata": {},
   "outputs": [],
   "source": [
    "def compute_gain(df):\n",
    "    resultat = []\n",
    "    precision, recall, thresholds = precision_recall_curve(df[[\"Y\"]], df[[\"pred\"]])\n",
    "    f1 = 2*((precision*recall)/(precision+recall))\n",
    "\n",
    "    # On définit le seuil de probabilité : c'est la proba telle que le F1-score soit maximum\n",
    "    thresh_proba = thresholds[np.where(f1 == max(f1))][0]\n",
    "    \n",
    "    print (\"THRESHOLD PROBA with MAX F1 :\", thresh_proba)\n",
    "\n",
    "    df['Y_pred'] = df['pred'].map(lambda x: 1 if x > thresh_proba else 0)\n",
    "    df['gain'] = df.apply(gain_for_each_match, axis = 1)\n",
    "    \n",
    "    # % des victoires prédites correctement\n",
    "    # Et % des gains obtenus en misant 1 euro pour chaque match\n",
    "    resultat.append(round((len(df[df.gain == 1])/len(df))*100))\n",
    "    resultat.append(round((df.gain.sum()/len(df))*100))\n",
    "\n",
    "    return resultat"
   ]
  },
  {
   "cell_type": "code",
   "execution_count": 278,
   "metadata": {},
   "outputs": [],
   "source": [
    "def gain_for_each_match(df):\n",
    "    if df['Y'] == df['Y_pred']:\n",
    "        gain = +1 \n",
    "    else:\n",
    "        gain = -1 \n",
    "    return gain"
   ]
  },
  {
   "cell_type": "code",
   "execution_count": 269,
   "metadata": {},
   "outputs": [],
   "source": [
    "df_pred_test_built_without_win_margin = pd.read_pickle('df_pred_test_built_without_win_margin.pkl')\n",
    "Y_test_built_without_win_margin = pd.read_pickle('Y_test_built_without_win_margin.pkl')"
   ]
  },
  {
   "cell_type": "code",
   "execution_count": 270,
   "metadata": {},
   "outputs": [
    {
     "data": {
      "text/plain": [
       "['Y']"
      ]
     },
     "execution_count": 270,
     "metadata": {},
     "output_type": "execute_result"
    }
   ],
   "source": [
    "list(Y_test_built_without_win_margin)"
   ]
  },
  {
   "cell_type": "code",
   "execution_count": 254,
   "metadata": {},
   "outputs": [],
   "source": [
    "# df_pred_test_built_without_win_margin = df_pred_test_built_without_win_margin.drop(labels= ['pred','Y_pred','gain'],axis = 1)"
   ]
  },
  {
   "cell_type": "code",
   "execution_count": 271,
   "metadata": {},
   "outputs": [
    {
     "data": {
      "text/plain": [
       "['surface_labels_encoding',\n",
       " 'tourney_level_labels_encoding',\n",
       " 'player_hand_labels_encoding',\n",
       " 'opponent_hand_labels_encoding',\n",
       " 'player_ht',\n",
       " 'player_age',\n",
       " 'player_rank',\n",
       " 'player_rank_points',\n",
       " 'opponent_ht',\n",
       " 'opponent_age',\n",
       " 'opponent_rank',\n",
       " 'opponent_rank_points',\n",
       " 'id_match']"
      ]
     },
     "execution_count": 271,
     "metadata": {},
     "output_type": "execute_result"
    }
   ],
   "source": [
    "list(df_pred_test_built_without_win_margin)"
   ]
  },
  {
   "cell_type": "code",
   "execution_count": 272,
   "metadata": {},
   "outputs": [
    {
     "data": {
      "text/plain": [
       "['surface_labels_encoding',\n",
       " 'tourney_level_labels_encoding',\n",
       " 'player_hand_labels_encoding',\n",
       " 'opponent_hand_labels_encoding',\n",
       " 'player_ht',\n",
       " 'player_age',\n",
       " 'player_rank',\n",
       " 'player_rank_points',\n",
       " 'opponent_ht',\n",
       " 'opponent_age',\n",
       " 'opponent_rank',\n",
       " 'opponent_rank_points',\n",
       " 'id_match']"
      ]
     },
     "execution_count": 272,
     "metadata": {},
     "output_type": "execute_result"
    }
   ],
   "source": [
    "liste_columns_test"
   ]
  },
  {
   "cell_type": "code",
   "execution_count": 273,
   "metadata": {},
   "outputs": [],
   "source": [
    "df_temp = df_pred_test_built_without_win_margin[liste_columns_test]\n",
    "df_temp = df_temp.sort_values(by = \"id_match\")\n",
    "\n",
    "df_temp_for_prediction = df_temp[[each for each in list(df_temp) if each != \"id_match\"]]\n",
    "predicted_values_test = xgb_model.predict_proba(df_temp_for_prediction)[:,1]\n",
    "predicted_values_test = np.expand_dims(predicted_values_test, axis=1)"
   ]
  },
  {
   "cell_type": "code",
   "execution_count": 274,
   "metadata": {},
   "outputs": [],
   "source": [
    "df_predicted_values_test = pd.DataFrame({'id_match':df_temp.id_match, 'Y':Y_test_built_without_win_margin.Y,'pred': predicted_values_test[:, 0]})"
   ]
  },
  {
   "cell_type": "code",
   "execution_count": 258,
   "metadata": {},
   "outputs": [],
   "source": [
    "# df_predicted_values_test = pd.DataFrame({'id_match':df_temp[\"id_match\"].values, 'Y':Y_test_built_without_win_margin.Y_test_built_without_win_margin,'pred': predicted_values_test[:, 0]})"
   ]
  },
  {
   "cell_type": "code",
   "execution_count": 276,
   "metadata": {},
   "outputs": [
    {
     "data": {
      "text/plain": [
       "['id_match', 'Y', 'pred', 'Y_pred']"
      ]
     },
     "execution_count": 276,
     "metadata": {},
     "output_type": "execute_result"
    }
   ],
   "source": [
    "list(df_predicted_values_test)"
   ]
  },
  {
   "cell_type": "code",
   "execution_count": 279,
   "metadata": {},
   "outputs": [
    {
     "name": "stdout",
     "output_type": "stream",
     "text": [
      "THRESHOLD PROBA with MAX F1 : 0.34551278\n"
     ]
    },
    {
     "data": {
      "text/plain": [
       "[65, 30.0]"
      ]
     },
     "execution_count": 279,
     "metadata": {},
     "output_type": "execute_result"
    }
   ],
   "source": [
    "compute_gain(df_predicted_values_test)"
   ]
  },
  {
   "cell_type": "markdown",
   "metadata": {},
   "source": [
    "VERSUS résultat avec modèle sans winning margin appliqué sur les mêmes données de test:<br>\n",
    "THRESHOLD PROBA with MAX F1 : 0.3253111<br>\n",
    "[62, 24.0]"
   ]
  },
  {
   "cell_type": "markdown",
   "metadata": {},
   "source": [
    "Conclusion: le modèle avec winning margin est meilleur<br>\n",
    "- la proba seuil pour décider qu'une prédiction est équivalente à une victoire, est supérieure (0.3455 contre 0.3253)\n",
    "- le % de victoires prédites est meilleur (65% contre 62%)\n",
    "- le % de gains obtenus est meilleur (30% contre 24%)"
   ]
  },
  {
   "cell_type": "markdown",
   "metadata": {},
   "source": [
    "On pourrait se demander si on peut gagner de l'argent en pariant pour 100 matchs ? <br>\n",
    "et le modèle donnerait 30 euros de gains pour 1 euro parié par match<br>\n",
    "Malheureusement, un match est toujours accompagné de cotes pour chaque joueur, et cela varie en fonction<br> \n",
    "de chaque match."
   ]
  }
 ],
 "metadata": {
  "kernelspec": {
   "display_name": "data bike sharing",
   "language": "python",
   "name": "data"
  },
  "language_info": {
   "codemirror_mode": {
    "name": "ipython",
    "version": 3
   },
   "file_extension": ".py",
   "mimetype": "text/x-python",
   "name": "python",
   "nbconvert_exporter": "python",
   "pygments_lexer": "ipython3",
   "version": "3.6.8"
  }
 },
 "nbformat": 4,
 "nbformat_minor": 4
}
