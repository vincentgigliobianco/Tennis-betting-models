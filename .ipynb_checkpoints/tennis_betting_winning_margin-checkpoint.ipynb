{
 "cells": [
  {
   "cell_type": "code",
   "execution_count": 2,
   "metadata": {},
   "outputs": [
    {
     "name": "stderr",
     "output_type": "stream",
     "text": [
      "/home/osboxes/anaconda3/envs/data/lib/python3.6/site-packages/sklearn/externals/joblib/__init__.py:15: DeprecationWarning: sklearn.externals.joblib is deprecated in 0.21 and will be removed in 0.23. Please import this functionality directly from joblib, which can be installed with: pip install joblib. If this warning is raised when loading pickled models, you may need to re-serialize those models with scikit-learn 0.21+.\n",
      "  warnings.warn(msg, category=DeprecationWarning)\n"
     ]
    }
   ],
   "source": [
    "import pandas as pd\n",
    "import numpy as np\n",
    "from functions import fun as f\n",
    "from itertools import chain\n",
    "from sklearn.model_selection import train_test_split\n",
    "import xgboost as xgb\n",
    "from xgboost import plot_importance\n",
    "from sklearn.metrics import roc_auc_score\n",
    "from sklearn.metrics import precision_recall_curve\n",
    "from sklearn.externals import joblib\n",
    "import matplotlib.pyplot as plt\n",
    "\n",
    "%load_ext autoreload\n",
    "%autoreload 2"
   ]
  },
  {
   "cell_type": "markdown",
   "metadata": {},
   "source": [
    "#### Import des données"
   ]
  },
  {
   "cell_type": "code",
   "execution_count": 3,
   "metadata": {},
   "outputs": [],
   "source": [
    "df_all_data = pd.read_csv(\"data/ATP.csv\")"
   ]
  },
  {
   "cell_type": "code",
   "execution_count": 4,
   "metadata": {},
   "outputs": [
    {
     "data": {
      "text/plain": [
       "(169690, 49)"
      ]
     },
     "execution_count": 4,
     "metadata": {},
     "output_type": "execute_result"
    }
   ],
   "source": [
    "df_all_data.shape"
   ]
  },
  {
   "cell_type": "markdown",
   "metadata": {},
   "source": [
    "#### On se considère comme un parieur sportif ou un bookmaker<br>\n",
    "Par conséquent, je considère que les informations connues avant le début d'un match<br>\n",
    "Je vais utiliser seulement, les variables ci-dessoous"
   ]
  },
  {
   "cell_type": "code",
   "execution_count": 5,
   "metadata": {},
   "outputs": [],
   "source": [
    "# list(df_all_data)"
   ]
  },
  {
   "cell_type": "code",
   "execution_count": 6,
   "metadata": {},
   "outputs": [],
   "source": [
    "liste_of_feat_used = ['tourney_id', 'tourney_name','surface','draw_size','tourney_level','tourney_date', 'match_num','best_of','round',\n",
    "'loser_id','loser_seed','loser_entry','loser_name','loser_hand','loser_ht','loser_ioc','loser_age','loser_rank','loser_rank_points',\n",
    "'winner_id', 'winner_seed','winner_entry','winner_name','winner_hand','winner_ht','winner_ioc','winner_age','winner_rank','winner_rank_points']  "
   ]
  },
  {
   "cell_type": "code",
   "execution_count": 7,
   "metadata": {},
   "outputs": [
    {
     "name": "stdout",
     "output_type": "stream",
     "text": [
      "feature tourney_id :  0.0\n",
      "feature tourney_name :  0.0\n",
      "feature surface :  1.4962578820201544\n",
      "feature draw_size :  99.27397018091814\n",
      "feature tourney_level :  0.0\n",
      "feature tourney_date :  0.0\n",
      "feature match_num :  0.0\n",
      "feature best_of :  0.0\n",
      "feature round :  0.0\n",
      "feature loser_id :  0.0\n",
      "feature loser_seed :  80.63940126112323\n",
      "feature loser_entry :  85.06747598562083\n",
      "feature loser_name :  0.0\n",
      "feature loser_hand :  0.05009134303730332\n",
      "feature loser_ht :  18.05527727031646\n",
      "feature loser_ioc :  0.0\n",
      "feature loser_age :  2.9406564912487476\n",
      "feature loser_rank :  14.014379162001298\n",
      "feature loser_rank_points :  45.17944487005716\n",
      "feature winner_id :  0.0\n",
      "feature winner_seed :  61.521008898579765\n",
      "feature winner_entry :  91.30885732806883\n",
      "feature winner_name :  0.0\n",
      "feature winner_hand :  0.022983086805350935\n",
      "feature winner_ht :  11.082562319523838\n",
      "feature winner_ioc :  0.0\n",
      "feature winner_age :  1.0377747657493075\n",
      "feature winner_rank :  11.737285638517296\n",
      "feature winner_rank_points :  44.43337851376039\n"
     ]
    }
   ],
   "source": [
    "# liste_features_to_keep = []\n",
    "# liste_features_with_missing = []\n",
    "for each_col in liste_of_feat_used:\n",
    "    # On regarde quelles variables ont moins de 5% de valeurs manquantes\n",
    "    pct_nan_values = (len(df_all_data[df_all_data[each_col].isnull()])/len(df_all_data)*100)  \n",
    "    print (\"feature\", each_col,\": \", pct_nan_values)"
   ]
  },
  {
   "cell_type": "markdown",
   "metadata": {},
   "source": [
    "On voit qu'il y a beaucoup de valeurs manquantes, plaçons nous après 1991"
   ]
  },
  {
   "cell_type": "code",
   "execution_count": 8,
   "metadata": {},
   "outputs": [],
   "source": [
    "df_all_data = df_all_data[liste_of_feat_used]"
   ]
  },
  {
   "cell_type": "code",
   "execution_count": 9,
   "metadata": {},
   "outputs": [],
   "source": [
    "df_all_data['tourney_date_str'] = df_all_data['tourney_date'].map(str)\n",
    "df_all_data['tourney_year_numeric'] = df_all_data['tourney_date_str'].map(lambda x: int(x[0:4]))"
   ]
  },
  {
   "cell_type": "code",
   "execution_count": 10,
   "metadata": {},
   "outputs": [],
   "source": [
    "df_all_data_after_1991 = df_all_data[df_all_data['tourney_year_numeric'] >= 1991]"
   ]
  },
  {
   "cell_type": "code",
   "execution_count": 11,
   "metadata": {},
   "outputs": [],
   "source": [
    "#df_all_data_after_1992 = df_all_data[df_all_data['tourney_year_numeric'] >= 1992]\n",
    "#df_all_data_after_1992.shape"
   ]
  },
  {
   "cell_type": "code",
   "execution_count": 12,
   "metadata": {},
   "outputs": [
    {
     "name": "stdout",
     "output_type": "stream",
     "text": [
      "feature tourney_id :  0.0\n",
      "feature tourney_name :  0.0\n",
      "feature surface :  0.06953857033413872\n",
      "feature draw_size :  54.703871766161825\n",
      "feature tourney_level :  0.0\n",
      "feature tourney_date :  0.0\n",
      "feature match_num :  0.0\n",
      "feature best_of :  0.0\n",
      "feature round :  0.0\n",
      "feature loser_id :  0.0\n",
      "feature loser_seed :  42.70375390417821\n",
      "feature loser_entry :  43.996110554540635\n",
      "feature loser_name :  0.0\n",
      "feature loser_hand :  0.025340326477694623\n",
      "feature loser_ht :  5.147622134480524\n",
      "feature loser_ioc :  0.0\n",
      "feature loser_age :  0.11609405386292651\n",
      "feature loser_rank :  1.3135718074135188\n",
      "feature loser_rank_points :  1.8563262419706523\n",
      "feature winner_id :  0.0\n",
      "feature winner_seed :  32.61358948671106\n",
      "feature winner_entry :  48.27744710943485\n",
      "feature winner_name :  0.0\n",
      "feature winner_hand :  0.010607578525546585\n",
      "feature winner_ht :  3.094466379869173\n",
      "feature winner_ioc :  0.0\n",
      "feature winner_age :  0.051269962873475156\n",
      "feature winner_rank :  0.6016854263657258\n",
      "feature winner_rank_points :  1.1497436501856326\n"
     ]
    }
   ],
   "source": [
    "# On extrait les % de valeurs manquantes par colonne (NaN values)\n",
    "for each_col in liste_of_feat_used:\n",
    "    # On regarde quelles variables ont moins de 5% de valeurs manquantes\n",
    "    pct_nan_values = (len(df_all_data_after_1991[df_all_data_after_1991[each_col].isnull()])/len(df_all_data)*100)  \n",
    "    print (\"feature\", each_col,\": \", pct_nan_values)"
   ]
  },
  {
   "cell_type": "markdown",
   "metadata": {},
   "source": [
    "On enlève les variables ayant des % valeurs manquantes superieurs à 30%,<br>\n",
    "commme : draw_size, loser_seed,loser_entry, winner_seed,winner_entry<br>\n",
    "<br>\n",
    "En effet, on va utiliser un modèle XGBoost qui sait gérer les valeurs manquantes<br>\n",
    "tant que le taux de valeurs manquantes pour une variable donnée n'est pas trop élevé "
   ]
  },
  {
   "cell_type": "code",
   "execution_count": 13,
   "metadata": {},
   "outputs": [],
   "source": [
    "liste_of_feat_used = [each for each in liste_of_feat_used if each not in ['draw_size', 'loser_seed','loser_entry', 'winner_seed','winner_entry']]"
   ]
  },
  {
   "cell_type": "code",
   "execution_count": 14,
   "metadata": {},
   "outputs": [],
   "source": [
    "liste_of_feat_used.append('tourney_year_numeric')"
   ]
  },
  {
   "cell_type": "code",
   "execution_count": 15,
   "metadata": {},
   "outputs": [],
   "source": [
    "df_all_data_after_1991 = df_all_data_after_1991[liste_of_feat_used]"
   ]
  },
  {
   "cell_type": "code",
   "execution_count": 16,
   "metadata": {},
   "outputs": [
    {
     "data": {
      "text/plain": [
       "(92827, 25)"
      ]
     },
     "execution_count": 16,
     "metadata": {},
     "output_type": "execute_result"
    }
   ],
   "source": [
    "df_all_data_after_1991.shape"
   ]
  },
  {
   "cell_type": "markdown",
   "metadata": {},
   "source": [
    "On a maintenant un dataset avec 92827 lignes et 24 variables"
   ]
  },
  {
   "cell_type": "markdown",
   "metadata": {},
   "source": [
    "Je suis parti du principe que les statistiques des joueurs sont fiables"
   ]
  },
  {
   "cell_type": "markdown",
   "metadata": {},
   "source": [
    "Principe du modèle de Machine Learning:<br>\n",
    "étant donné un match entre un joueur 1 = Djokovic et un joueur 2 = Federer<br>\n",
    "je pense qu'il est important de distinguer :\n",
    "- la probabilité que le joueur 1, Djokovic gagne sachant que son adversaire est le joueur 2, Federer \n",
    "- la probabilité que le joueur 2, Federer gagne sachant que son adversaire est le joueur 1, Dojokovic "
   ]
  },
  {
   "cell_type": "markdown",
   "metadata": {},
   "source": [
    "En raison de ce principe, je crée un dataset avec les lignes dupliquées et en inversant l'ordre des joueurs en colonnes"
   ]
  },
  {
   "cell_type": "code",
   "execution_count": 17,
   "metadata": {},
   "outputs": [],
   "source": [
    "# On se sert de \"df_temp\" pour créer le dataset de lignes dupliquées\n",
    "df_temp = df_all_data_after_1991"
   ]
  },
  {
   "cell_type": "markdown",
   "metadata": {},
   "source": [
    "On crée d'abord la colonne des Y = 1 signifiant que le joueur de \"droite\" dans le dataframe est le vainqueur<br>\n",
    "Ajout des Y pour les lignes non dupliquées"
   ]
  },
  {
   "cell_type": "code",
   "execution_count": 18,
   "metadata": {},
   "outputs": [],
   "source": [
    "liste_var_tourney = ['tourney_id','tourney_name','surface','tourney_level','tourney_date','match_num','best_of','round','tourney_year_numeric']\n",
    "liste_var_loser = [each for each in list(df_temp) if 'loser' in each]\n",
    "liste_var_winner = [each for each in list(df_temp) if 'winner' in each]\n",
    "df_temp = pd.concat([df_temp[liste_var_tourney], df_temp[liste_var_loser], df_temp[liste_var_winner]], axis = 1)"
   ]
  },
  {
   "cell_type": "code",
   "execution_count": 19,
   "metadata": {},
   "outputs": [
    {
     "data": {
      "text/plain": [
       "(92827, 25)"
      ]
     },
     "execution_count": 19,
     "metadata": {},
     "output_type": "execute_result"
    }
   ],
   "source": [
    "df_temp.shape"
   ]
  },
  {
   "cell_type": "code",
   "execution_count": 20,
   "metadata": {},
   "outputs": [
    {
     "data": {
      "text/plain": [
       "['tourney_id',\n",
       " 'tourney_name',\n",
       " 'surface',\n",
       " 'tourney_level',\n",
       " 'tourney_date',\n",
       " 'match_num',\n",
       " 'best_of',\n",
       " 'round',\n",
       " 'tourney_year_numeric',\n",
       " 'loser_id',\n",
       " 'loser_name',\n",
       " 'loser_hand',\n",
       " 'loser_ht',\n",
       " 'loser_ioc',\n",
       " 'loser_age',\n",
       " 'loser_rank',\n",
       " 'loser_rank_points',\n",
       " 'winner_id',\n",
       " 'winner_name',\n",
       " 'winner_hand',\n",
       " 'winner_ht',\n",
       " 'winner_ioc',\n",
       " 'winner_age',\n",
       " 'winner_rank',\n",
       " 'winner_rank_points']"
      ]
     },
     "execution_count": 20,
     "metadata": {},
     "output_type": "execute_result"
    }
   ],
   "source": [
    "list(df_temp)"
   ]
  },
  {
   "cell_type": "code",
   "execution_count": 21,
   "metadata": {},
   "outputs": [],
   "source": [
    "#del liste_player_opponent\n",
    "liste_player_opponent = [each.replace(\"loser\",\"player\") for each in list(df_temp)]\n",
    "liste_player_opponent = [each.replace(\"winner\",\"opponent\") for each in liste_player_opponent]"
   ]
  },
  {
   "cell_type": "code",
   "execution_count": 22,
   "metadata": {},
   "outputs": [
    {
     "data": {
      "text/plain": [
       "['tourney_id',\n",
       " 'tourney_name',\n",
       " 'surface',\n",
       " 'tourney_level',\n",
       " 'tourney_date',\n",
       " 'match_num',\n",
       " 'best_of',\n",
       " 'round',\n",
       " 'tourney_year_numeric',\n",
       " 'player_id',\n",
       " 'player_name',\n",
       " 'player_hand',\n",
       " 'player_ht',\n",
       " 'player_ioc',\n",
       " 'player_age',\n",
       " 'player_rank',\n",
       " 'player_rank_points',\n",
       " 'opponent_id',\n",
       " 'opponent_name',\n",
       " 'opponent_hand',\n",
       " 'opponent_ht',\n",
       " 'opponent_ioc',\n",
       " 'opponent_age',\n",
       " 'opponent_rank',\n",
       " 'opponent_rank_points']"
      ]
     },
     "execution_count": 22,
     "metadata": {},
     "output_type": "execute_result"
    }
   ],
   "source": [
    "liste_player_opponent"
   ]
  },
  {
   "cell_type": "code",
   "execution_count": 23,
   "metadata": {},
   "outputs": [],
   "source": [
    "df_temp.columns = liste_player_opponent"
   ]
  },
  {
   "cell_type": "code",
   "execution_count": 24,
   "metadata": {},
   "outputs": [
    {
     "data": {
      "text/html": [
       "<div>\n",
       "<style scoped>\n",
       "    .dataframe tbody tr th:only-of-type {\n",
       "        vertical-align: middle;\n",
       "    }\n",
       "\n",
       "    .dataframe tbody tr th {\n",
       "        vertical-align: top;\n",
       "    }\n",
       "\n",
       "    .dataframe thead th {\n",
       "        text-align: right;\n",
       "    }\n",
       "</style>\n",
       "<table border=\"1\" class=\"dataframe\">\n",
       "  <thead>\n",
       "    <tr style=\"text-align: right;\">\n",
       "      <th></th>\n",
       "      <th>tourney_id</th>\n",
       "      <th>tourney_name</th>\n",
       "      <th>surface</th>\n",
       "      <th>tourney_level</th>\n",
       "      <th>tourney_date</th>\n",
       "      <th>match_num</th>\n",
       "      <th>best_of</th>\n",
       "      <th>round</th>\n",
       "      <th>tourney_year_numeric</th>\n",
       "      <th>player_id</th>\n",
       "      <th>...</th>\n",
       "      <th>player_rank</th>\n",
       "      <th>player_rank_points</th>\n",
       "      <th>opponent_id</th>\n",
       "      <th>opponent_name</th>\n",
       "      <th>opponent_hand</th>\n",
       "      <th>opponent_ht</th>\n",
       "      <th>opponent_ioc</th>\n",
       "      <th>opponent_age</th>\n",
       "      <th>opponent_rank</th>\n",
       "      <th>opponent_rank_points</th>\n",
       "    </tr>\n",
       "  </thead>\n",
       "  <tbody>\n",
       "    <tr>\n",
       "      <th>76863</th>\n",
       "      <td>1991-301</td>\n",
       "      <td>Auckland</td>\n",
       "      <td>Hard</td>\n",
       "      <td>A</td>\n",
       "      <td>19910107</td>\n",
       "      <td>1</td>\n",
       "      <td>3</td>\n",
       "      <td>R32</td>\n",
       "      <td>1991</td>\n",
       "      <td>101746</td>\n",
       "      <td>...</td>\n",
       "      <td>78.0</td>\n",
       "      <td>459.0</td>\n",
       "      <td>101142</td>\n",
       "      <td>Emilio Sanchez</td>\n",
       "      <td>R</td>\n",
       "      <td>180.0</td>\n",
       "      <td>ESP</td>\n",
       "      <td>25.61</td>\n",
       "      <td>9.0</td>\n",
       "      <td>1487.0</td>\n",
       "    </tr>\n",
       "    <tr>\n",
       "      <th>76864</th>\n",
       "      <td>1991-301</td>\n",
       "      <td>Auckland</td>\n",
       "      <td>Hard</td>\n",
       "      <td>A</td>\n",
       "      <td>19910107</td>\n",
       "      <td>2</td>\n",
       "      <td>3</td>\n",
       "      <td>R32</td>\n",
       "      <td>1991</td>\n",
       "      <td>100587</td>\n",
       "      <td>...</td>\n",
       "      <td>220.0</td>\n",
       "      <td>114.0</td>\n",
       "      <td>101613</td>\n",
       "      <td>Malivai Washington</td>\n",
       "      <td>R</td>\n",
       "      <td>180.0</td>\n",
       "      <td>USA</td>\n",
       "      <td>21.55</td>\n",
       "      <td>94.0</td>\n",
       "      <td>371.0</td>\n",
       "    </tr>\n",
       "    <tr>\n",
       "      <th>76865</th>\n",
       "      <td>1991-301</td>\n",
       "      <td>Auckland</td>\n",
       "      <td>Hard</td>\n",
       "      <td>A</td>\n",
       "      <td>19910107</td>\n",
       "      <td>3</td>\n",
       "      <td>3</td>\n",
       "      <td>R32</td>\n",
       "      <td>1991</td>\n",
       "      <td>101601</td>\n",
       "      <td>...</td>\n",
       "      <td>212.0</td>\n",
       "      <td>116.0</td>\n",
       "      <td>101179</td>\n",
       "      <td>Jean Philippe Fleurian</td>\n",
       "      <td>R</td>\n",
       "      <td>185.0</td>\n",
       "      <td>FRA</td>\n",
       "      <td>25.32</td>\n",
       "      <td>77.0</td>\n",
       "      <td>468.0</td>\n",
       "    </tr>\n",
       "    <tr>\n",
       "      <th>76866</th>\n",
       "      <td>1991-301</td>\n",
       "      <td>Auckland</td>\n",
       "      <td>Hard</td>\n",
       "      <td>A</td>\n",
       "      <td>19910107</td>\n",
       "      <td>4</td>\n",
       "      <td>3</td>\n",
       "      <td>R32</td>\n",
       "      <td>1991</td>\n",
       "      <td>101332</td>\n",
       "      <td>...</td>\n",
       "      <td>72.0</td>\n",
       "      <td>483.0</td>\n",
       "      <td>101117</td>\n",
       "      <td>Eric Jelen</td>\n",
       "      <td>R</td>\n",
       "      <td>180.0</td>\n",
       "      <td>GER</td>\n",
       "      <td>25.83</td>\n",
       "      <td>65.0</td>\n",
       "      <td>502.0</td>\n",
       "    </tr>\n",
       "    <tr>\n",
       "      <th>76867</th>\n",
       "      <td>1991-301</td>\n",
       "      <td>Auckland</td>\n",
       "      <td>Hard</td>\n",
       "      <td>A</td>\n",
       "      <td>19910107</td>\n",
       "      <td>5</td>\n",
       "      <td>3</td>\n",
       "      <td>R32</td>\n",
       "      <td>1991</td>\n",
       "      <td>101735</td>\n",
       "      <td>...</td>\n",
       "      <td>28.0</td>\n",
       "      <td>876.0</td>\n",
       "      <td>101901</td>\n",
       "      <td>Chuck Adams</td>\n",
       "      <td>R</td>\n",
       "      <td>185.0</td>\n",
       "      <td>USA</td>\n",
       "      <td>19.71</td>\n",
       "      <td>190.0</td>\n",
       "      <td>142.0</td>\n",
       "    </tr>\n",
       "  </tbody>\n",
       "</table>\n",
       "<p>5 rows × 25 columns</p>\n",
       "</div>"
      ],
      "text/plain": [
       "      tourney_id tourney_name surface tourney_level  tourney_date  match_num  \\\n",
       "76863   1991-301     Auckland    Hard             A      19910107          1   \n",
       "76864   1991-301     Auckland    Hard             A      19910107          2   \n",
       "76865   1991-301     Auckland    Hard             A      19910107          3   \n",
       "76866   1991-301     Auckland    Hard             A      19910107          4   \n",
       "76867   1991-301     Auckland    Hard             A      19910107          5   \n",
       "\n",
       "       best_of round  tourney_year_numeric  player_id  ... player_rank  \\\n",
       "76863        3   R32                  1991     101746  ...        78.0   \n",
       "76864        3   R32                  1991     100587  ...       220.0   \n",
       "76865        3   R32                  1991     101601  ...       212.0   \n",
       "76866        3   R32                  1991     101332  ...        72.0   \n",
       "76867        3   R32                  1991     101735  ...        28.0   \n",
       "\n",
       "      player_rank_points  opponent_id           opponent_name  opponent_hand  \\\n",
       "76863              459.0       101142          Emilio Sanchez              R   \n",
       "76864              114.0       101613      Malivai Washington              R   \n",
       "76865              116.0       101179  Jean Philippe Fleurian              R   \n",
       "76866              483.0       101117              Eric Jelen              R   \n",
       "76867              876.0       101901             Chuck Adams              R   \n",
       "\n",
       "       opponent_ht  opponent_ioc  opponent_age opponent_rank  \\\n",
       "76863        180.0           ESP         25.61           9.0   \n",
       "76864        180.0           USA         21.55          94.0   \n",
       "76865        185.0           FRA         25.32          77.0   \n",
       "76866        180.0           GER         25.83          65.0   \n",
       "76867        185.0           USA         19.71         190.0   \n",
       "\n",
       "      opponent_rank_points  \n",
       "76863               1487.0  \n",
       "76864                371.0  \n",
       "76865                468.0  \n",
       "76866                502.0  \n",
       "76867                142.0  \n",
       "\n",
       "[5 rows x 25 columns]"
      ]
     },
     "execution_count": 24,
     "metadata": {},
     "output_type": "execute_result"
    }
   ],
   "source": [
    "df_temp.head()"
   ]
  },
  {
   "cell_type": "markdown",
   "metadata": {},
   "source": [
    "Boucler pour chaque match\n",
    "Tirer au hasard un nb compris entre 0 et 1\n",
    "Si ce nb est > 1, garder les colonnes \"player\" et \"opponent\" dans le même ordre et créer Y = 1\n",
    "Sinon, mettre les colonnes \"opponent\" avant les colonnes \"player\" et créer Y = 0"
   ]
  },
  {
   "cell_type": "code",
   "execution_count": 25,
   "metadata": {},
   "outputs": [],
   "source": [
    "# df_temp['Y'] = 1"
   ]
  },
  {
   "cell_type": "code",
   "execution_count": 26,
   "metadata": {},
   "outputs": [],
   "source": [
    "liste_var_tourney = ['tourney_id','tourney_name','surface','tourney_level','tourney_date','match_num','best_of','round','tourney_year_numeric']\n",
    "liste_var_player = [each for each in list(df_temp) if 'player' in each]\n",
    "liste_var_opponent = [each for each in list(df_temp) if 'opponent' in each]"
   ]
  },
  {
   "cell_type": "code",
   "execution_count": 27,
   "metadata": {},
   "outputs": [],
   "source": [
    "# liste_var_player"
   ]
  },
  {
   "cell_type": "code",
   "execution_count": 28,
   "metadata": {},
   "outputs": [
    {
     "data": {
      "text/plain": [
       "['tourney_id',\n",
       " 'tourney_name',\n",
       " 'surface',\n",
       " 'tourney_level',\n",
       " 'tourney_date',\n",
       " 'match_num',\n",
       " 'best_of',\n",
       " 'round',\n",
       " 'tourney_year_numeric',\n",
       " 'player_id',\n",
       " 'player_name',\n",
       " 'player_hand',\n",
       " 'player_ht',\n",
       " 'player_ioc',\n",
       " 'player_age',\n",
       " 'player_rank',\n",
       " 'player_rank_points',\n",
       " 'opponent_id',\n",
       " 'opponent_name',\n",
       " 'opponent_hand',\n",
       " 'opponent_ht',\n",
       " 'opponent_ioc',\n",
       " 'opponent_age',\n",
       " 'opponent_rank',\n",
       " 'opponent_rank_points']"
      ]
     },
     "execution_count": 28,
     "metadata": {},
     "output_type": "execute_result"
    }
   ],
   "source": [
    "list(df_temp)"
   ]
  },
  {
   "cell_type": "code",
   "execution_count": 29,
   "metadata": {},
   "outputs": [],
   "source": [
    "# test = df_temp.sample(n=3)"
   ]
  },
  {
   "cell_type": "code",
   "execution_count": 30,
   "metadata": {},
   "outputs": [
    {
     "data": {
      "text/html": [
       "<div>\n",
       "<style scoped>\n",
       "    .dataframe tbody tr th:only-of-type {\n",
       "        vertical-align: middle;\n",
       "    }\n",
       "\n",
       "    .dataframe tbody tr th {\n",
       "        vertical-align: top;\n",
       "    }\n",
       "\n",
       "    .dataframe thead th {\n",
       "        text-align: right;\n",
       "    }\n",
       "</style>\n",
       "<table border=\"1\" class=\"dataframe\">\n",
       "  <thead>\n",
       "    <tr style=\"text-align: right;\">\n",
       "      <th></th>\n",
       "      <th>tourney_id</th>\n",
       "      <th>tourney_name</th>\n",
       "      <th>surface</th>\n",
       "      <th>tourney_level</th>\n",
       "      <th>tourney_date</th>\n",
       "      <th>match_num</th>\n",
       "      <th>best_of</th>\n",
       "      <th>round</th>\n",
       "      <th>tourney_year_numeric</th>\n",
       "      <th>player_id</th>\n",
       "      <th>...</th>\n",
       "      <th>player_rank</th>\n",
       "      <th>player_rank_points</th>\n",
       "      <th>opponent_id</th>\n",
       "      <th>opponent_name</th>\n",
       "      <th>opponent_hand</th>\n",
       "      <th>opponent_ht</th>\n",
       "      <th>opponent_ioc</th>\n",
       "      <th>opponent_age</th>\n",
       "      <th>opponent_rank</th>\n",
       "      <th>opponent_rank_points</th>\n",
       "    </tr>\n",
       "  </thead>\n",
       "  <tbody>\n",
       "    <tr>\n",
       "      <th>76863</th>\n",
       "      <td>1991-301</td>\n",
       "      <td>Auckland</td>\n",
       "      <td>Hard</td>\n",
       "      <td>A</td>\n",
       "      <td>19910107</td>\n",
       "      <td>1</td>\n",
       "      <td>3</td>\n",
       "      <td>R32</td>\n",
       "      <td>1991</td>\n",
       "      <td>101746</td>\n",
       "      <td>...</td>\n",
       "      <td>78.0</td>\n",
       "      <td>459.0</td>\n",
       "      <td>101142</td>\n",
       "      <td>Emilio Sanchez</td>\n",
       "      <td>R</td>\n",
       "      <td>180.0</td>\n",
       "      <td>ESP</td>\n",
       "      <td>25.61</td>\n",
       "      <td>9.0</td>\n",
       "      <td>1487.0</td>\n",
       "    </tr>\n",
       "    <tr>\n",
       "      <th>76864</th>\n",
       "      <td>1991-301</td>\n",
       "      <td>Auckland</td>\n",
       "      <td>Hard</td>\n",
       "      <td>A</td>\n",
       "      <td>19910107</td>\n",
       "      <td>2</td>\n",
       "      <td>3</td>\n",
       "      <td>R32</td>\n",
       "      <td>1991</td>\n",
       "      <td>100587</td>\n",
       "      <td>...</td>\n",
       "      <td>220.0</td>\n",
       "      <td>114.0</td>\n",
       "      <td>101613</td>\n",
       "      <td>Malivai Washington</td>\n",
       "      <td>R</td>\n",
       "      <td>180.0</td>\n",
       "      <td>USA</td>\n",
       "      <td>21.55</td>\n",
       "      <td>94.0</td>\n",
       "      <td>371.0</td>\n",
       "    </tr>\n",
       "    <tr>\n",
       "      <th>76865</th>\n",
       "      <td>1991-301</td>\n",
       "      <td>Auckland</td>\n",
       "      <td>Hard</td>\n",
       "      <td>A</td>\n",
       "      <td>19910107</td>\n",
       "      <td>3</td>\n",
       "      <td>3</td>\n",
       "      <td>R32</td>\n",
       "      <td>1991</td>\n",
       "      <td>101601</td>\n",
       "      <td>...</td>\n",
       "      <td>212.0</td>\n",
       "      <td>116.0</td>\n",
       "      <td>101179</td>\n",
       "      <td>Jean Philippe Fleurian</td>\n",
       "      <td>R</td>\n",
       "      <td>185.0</td>\n",
       "      <td>FRA</td>\n",
       "      <td>25.32</td>\n",
       "      <td>77.0</td>\n",
       "      <td>468.0</td>\n",
       "    </tr>\n",
       "    <tr>\n",
       "      <th>76866</th>\n",
       "      <td>1991-301</td>\n",
       "      <td>Auckland</td>\n",
       "      <td>Hard</td>\n",
       "      <td>A</td>\n",
       "      <td>19910107</td>\n",
       "      <td>4</td>\n",
       "      <td>3</td>\n",
       "      <td>R32</td>\n",
       "      <td>1991</td>\n",
       "      <td>101332</td>\n",
       "      <td>...</td>\n",
       "      <td>72.0</td>\n",
       "      <td>483.0</td>\n",
       "      <td>101117</td>\n",
       "      <td>Eric Jelen</td>\n",
       "      <td>R</td>\n",
       "      <td>180.0</td>\n",
       "      <td>GER</td>\n",
       "      <td>25.83</td>\n",
       "      <td>65.0</td>\n",
       "      <td>502.0</td>\n",
       "    </tr>\n",
       "    <tr>\n",
       "      <th>76867</th>\n",
       "      <td>1991-301</td>\n",
       "      <td>Auckland</td>\n",
       "      <td>Hard</td>\n",
       "      <td>A</td>\n",
       "      <td>19910107</td>\n",
       "      <td>5</td>\n",
       "      <td>3</td>\n",
       "      <td>R32</td>\n",
       "      <td>1991</td>\n",
       "      <td>101735</td>\n",
       "      <td>...</td>\n",
       "      <td>28.0</td>\n",
       "      <td>876.0</td>\n",
       "      <td>101901</td>\n",
       "      <td>Chuck Adams</td>\n",
       "      <td>R</td>\n",
       "      <td>185.0</td>\n",
       "      <td>USA</td>\n",
       "      <td>19.71</td>\n",
       "      <td>190.0</td>\n",
       "      <td>142.0</td>\n",
       "    </tr>\n",
       "  </tbody>\n",
       "</table>\n",
       "<p>5 rows × 25 columns</p>\n",
       "</div>"
      ],
      "text/plain": [
       "      tourney_id tourney_name surface tourney_level  tourney_date  match_num  \\\n",
       "76863   1991-301     Auckland    Hard             A      19910107          1   \n",
       "76864   1991-301     Auckland    Hard             A      19910107          2   \n",
       "76865   1991-301     Auckland    Hard             A      19910107          3   \n",
       "76866   1991-301     Auckland    Hard             A      19910107          4   \n",
       "76867   1991-301     Auckland    Hard             A      19910107          5   \n",
       "\n",
       "       best_of round  tourney_year_numeric  player_id  ... player_rank  \\\n",
       "76863        3   R32                  1991     101746  ...        78.0   \n",
       "76864        3   R32                  1991     100587  ...       220.0   \n",
       "76865        3   R32                  1991     101601  ...       212.0   \n",
       "76866        3   R32                  1991     101332  ...        72.0   \n",
       "76867        3   R32                  1991     101735  ...        28.0   \n",
       "\n",
       "      player_rank_points  opponent_id           opponent_name  opponent_hand  \\\n",
       "76863              459.0       101142          Emilio Sanchez              R   \n",
       "76864              114.0       101613      Malivai Washington              R   \n",
       "76865              116.0       101179  Jean Philippe Fleurian              R   \n",
       "76866              483.0       101117              Eric Jelen              R   \n",
       "76867              876.0       101901             Chuck Adams              R   \n",
       "\n",
       "       opponent_ht  opponent_ioc  opponent_age opponent_rank  \\\n",
       "76863        180.0           ESP         25.61           9.0   \n",
       "76864        180.0           USA         21.55          94.0   \n",
       "76865        185.0           FRA         25.32          77.0   \n",
       "76866        180.0           GER         25.83          65.0   \n",
       "76867        185.0           USA         19.71         190.0   \n",
       "\n",
       "      opponent_rank_points  \n",
       "76863               1487.0  \n",
       "76864                371.0  \n",
       "76865                468.0  \n",
       "76866                502.0  \n",
       "76867                142.0  \n",
       "\n",
       "[5 rows x 25 columns]"
      ]
     },
     "execution_count": 30,
     "metadata": {},
     "output_type": "execute_result"
    }
   ],
   "source": [
    "df_temp.head()"
   ]
  },
  {
   "cell_type": "code",
   "execution_count": 31,
   "metadata": {},
   "outputs": [],
   "source": [
    "# df_temp.dtypes"
   ]
  },
  {
   "cell_type": "code",
   "execution_count": 32,
   "metadata": {},
   "outputs": [],
   "source": [
    "all_columns = list(df_temp).copy()\n",
    "all_columns.append(\"Y\")\n",
    "# all_columns"
   ]
  },
  {
   "cell_type": "code",
   "execution_count": 33,
   "metadata": {},
   "outputs": [
    {
     "data": {
      "text/plain": [
       "['tourney_id',\n",
       " 'tourney_name',\n",
       " 'surface',\n",
       " 'tourney_level',\n",
       " 'tourney_date',\n",
       " 'match_num',\n",
       " 'best_of',\n",
       " 'round',\n",
       " 'tourney_year_numeric',\n",
       " 'player_id',\n",
       " 'player_name',\n",
       " 'player_hand',\n",
       " 'player_ht',\n",
       " 'player_ioc',\n",
       " 'player_age',\n",
       " 'player_rank',\n",
       " 'player_rank_points',\n",
       " 'opponent_id',\n",
       " 'opponent_name',\n",
       " 'opponent_hand',\n",
       " 'opponent_ht',\n",
       " 'opponent_ioc',\n",
       " 'opponent_age',\n",
       " 'opponent_rank',\n",
       " 'opponent_rank_points']"
      ]
     },
     "execution_count": 33,
     "metadata": {},
     "output_type": "execute_result"
    }
   ],
   "source": [
    "list(df_temp)"
   ]
  },
  {
   "cell_type": "code",
   "execution_count": 34,
   "metadata": {},
   "outputs": [
    {
     "name": "stdout",
     "output_type": "stream",
     "text": [
      "CPU times: user 1.46 s, sys: 50.9 ms, total: 1.51 s\n",
      "Wall time: 1.53 s\n"
     ]
    }
   ],
   "source": [
    "%%time\n",
    "\n",
    "# df_toload = pd.DataFrame(columns = all_columns) \n",
    "dict_toload = {}\n",
    "\n",
    "i = 0\n",
    "for row in df_temp.itertuples():\n",
    "    # print (row)\n",
    "    # Tirer au hasard un nb compris entre 0 et 1\n",
    "    my_number = np.random.uniform()\n",
    "    #print (my_number)\n",
    "    dict_toload[i] = []\n",
    "    if my_number > 0.5:\n",
    "        # print (i)\n",
    "        dict_toload[i].append((row.tourney_id,\n",
    "                          row.tourney_name,\n",
    "                          row.surface,\n",
    "                          row.tourney_level,\n",
    "                          row.tourney_date,\n",
    "                          row.match_num,\n",
    "                          row.best_of,\n",
    "                          row.round,\n",
    "                          row.tourney_year_numeric,\n",
    "                          row.player_id,\n",
    "                          row.player_name,\n",
    "                          row.player_hand,\n",
    "                          row.player_ht,\n",
    "                          row.player_ioc,\n",
    "                          row.player_age,\n",
    "                          row.player_rank,\n",
    "                          row.player_rank_points,\n",
    "                          row.opponent_id,\n",
    "                          row.opponent_name,\n",
    "                          row.opponent_hand,\n",
    "                          row.opponent_ht,\n",
    "                          row.opponent_ioc,\n",
    "                          row.opponent_age,\n",
    "                          row.opponent_rank,\n",
    "                          row.opponent_rank_points,\n",
    "                          1))\n",
    "    else:\n",
    "        dict_toload[i].append((row.tourney_id,\n",
    "                          row.tourney_name,\n",
    "                          row.surface,\n",
    "                          row.tourney_level,\n",
    "                          row.tourney_date,\n",
    "                          row.match_num,\n",
    "                          row.best_of,\n",
    "                          row.round,\n",
    "                          row.tourney_year_numeric,\n",
    "                          row.opponent_id,\n",
    "                          row.opponent_name,\n",
    "                          row.opponent_hand,\n",
    "                          row.opponent_ht,\n",
    "                          row.opponent_ioc,\n",
    "                          row.opponent_age,\n",
    "                          row.opponent_rank,\n",
    "                          row.opponent_rank_points,\n",
    "                          row.player_id,\n",
    "                          row.player_name,\n",
    "                          row.player_hand,\n",
    "                          row.player_ht,\n",
    "                          row.player_ioc,\n",
    "                          row.player_age,\n",
    "                          row.player_rank,\n",
    "                          row.player_rank_points,\n",
    "                          0))\n",
    "    i = i + 1"
   ]
  },
  {
   "cell_type": "code",
   "execution_count": 35,
   "metadata": {},
   "outputs": [
    {
     "data": {
      "text/plain": [
       "(92827, 25)"
      ]
     },
     "execution_count": 35,
     "metadata": {},
     "output_type": "execute_result"
    }
   ],
   "source": [
    "df_temp.shape"
   ]
  },
  {
   "cell_type": "code",
   "execution_count": 36,
   "metadata": {},
   "outputs": [],
   "source": [
    "# dict_toload"
   ]
  },
  {
   "cell_type": "code",
   "execution_count": 37,
   "metadata": {},
   "outputs": [
    {
     "data": {
      "text/plain": [
       "92827"
      ]
     },
     "execution_count": 37,
     "metadata": {},
     "output_type": "execute_result"
    }
   ],
   "source": [
    "len(dict_toload)"
   ]
  },
  {
   "cell_type": "code",
   "execution_count": 38,
   "metadata": {},
   "outputs": [
    {
     "name": "stdout",
     "output_type": "stream",
     "text": [
      "CPU times: user 215 ms, sys: 22.8 ms, total: 238 ms\n",
      "Wall time: 268 ms\n"
     ]
    }
   ],
   "source": [
    "%%time\n",
    "dict_toload_modified = {}\n",
    "for k,v in dict_toload.items():\n",
    "    dict_toload_modified[k] = list(dict_toload[k][0])"
   ]
  },
  {
   "cell_type": "code",
   "execution_count": 39,
   "metadata": {},
   "outputs": [
    {
     "name": "stdout",
     "output_type": "stream",
     "text": [
      "CPU times: user 400 ms, sys: 35 ms, total: 435 ms\n",
      "Wall time: 447 ms\n"
     ]
    }
   ],
   "source": [
    "%%time\n",
    "df_all_data = pd.DataFrame.from_dict(dict_toload_modified, orient='index', columns= all_columns)"
   ]
  },
  {
   "cell_type": "markdown",
   "metadata": {},
   "source": [
    "Identifiants de matchs"
   ]
  },
  {
   "cell_type": "code",
   "execution_count": 40,
   "metadata": {},
   "outputs": [],
   "source": [
    "df_all_data['id_match'] = df_all_data['tourney_id'].astype(str) + \"_\" + df_all_data['match_num'].astype(str)"
   ]
  },
  {
   "cell_type": "code",
   "execution_count": 205,
   "metadata": {},
   "outputs": [],
   "source": [
    "# df_all_data = df_temp.copy()"
   ]
  },
  {
   "cell_type": "code",
   "execution_count": 41,
   "metadata": {},
   "outputs": [
    {
     "data": {
      "text/plain": [
       "(92827, 27)"
      ]
     },
     "execution_count": 41,
     "metadata": {},
     "output_type": "execute_result"
    }
   ],
   "source": [
    "df_all_data.shape"
   ]
  },
  {
   "cell_type": "code",
   "execution_count": 42,
   "metadata": {},
   "outputs": [
    {
     "data": {
      "text/html": [
       "<div>\n",
       "<style scoped>\n",
       "    .dataframe tbody tr th:only-of-type {\n",
       "        vertical-align: middle;\n",
       "    }\n",
       "\n",
       "    .dataframe tbody tr th {\n",
       "        vertical-align: top;\n",
       "    }\n",
       "\n",
       "    .dataframe thead th {\n",
       "        text-align: right;\n",
       "    }\n",
       "</style>\n",
       "<table border=\"1\" class=\"dataframe\">\n",
       "  <thead>\n",
       "    <tr style=\"text-align: right;\">\n",
       "      <th></th>\n",
       "      <th>tourney_id</th>\n",
       "      <th>match_num</th>\n",
       "      <th>id_match</th>\n",
       "    </tr>\n",
       "  </thead>\n",
       "  <tbody>\n",
       "    <tr>\n",
       "      <th>0</th>\n",
       "      <td>1991-301</td>\n",
       "      <td>1</td>\n",
       "      <td>1991-301_1</td>\n",
       "    </tr>\n",
       "    <tr>\n",
       "      <th>1</th>\n",
       "      <td>1991-301</td>\n",
       "      <td>2</td>\n",
       "      <td>1991-301_2</td>\n",
       "    </tr>\n",
       "    <tr>\n",
       "      <th>2</th>\n",
       "      <td>1991-301</td>\n",
       "      <td>3</td>\n",
       "      <td>1991-301_3</td>\n",
       "    </tr>\n",
       "    <tr>\n",
       "      <th>3</th>\n",
       "      <td>1991-301</td>\n",
       "      <td>4</td>\n",
       "      <td>1991-301_4</td>\n",
       "    </tr>\n",
       "    <tr>\n",
       "      <th>4</th>\n",
       "      <td>1991-301</td>\n",
       "      <td>5</td>\n",
       "      <td>1991-301_5</td>\n",
       "    </tr>\n",
       "  </tbody>\n",
       "</table>\n",
       "</div>"
      ],
      "text/plain": [
       "  tourney_id  match_num    id_match\n",
       "0   1991-301          1  1991-301_1\n",
       "1   1991-301          2  1991-301_2\n",
       "2   1991-301          3  1991-301_3\n",
       "3   1991-301          4  1991-301_4\n",
       "4   1991-301          5  1991-301_5"
      ]
     },
     "execution_count": 42,
     "metadata": {},
     "output_type": "execute_result"
    }
   ],
   "source": [
    "df_all_data[[\"tourney_id\",\"match_num\",\"id_match\"]].head()"
   ]
  },
  {
   "cell_type": "markdown",
   "metadata": {},
   "source": [
    "On crée maintenant les features"
   ]
  },
  {
   "cell_type": "markdown",
   "metadata": {},
   "source": [
    "Recodage de la variable 'round' de manière relative au type de tournoi:\n",
    "on compte le nombre de tours de manière différente en fonction de si il s'agit\n",
    "d'un tournoi du Grand Chelem, d'un Master 1000 ou bien d'un tournoi de type ATP Final (Masters de fin de saison)"
   ]
  },
  {
   "cell_type": "code",
   "execution_count": 43,
   "metadata": {},
   "outputs": [
    {
     "data": {
      "text/plain": [
       "['tourney_id',\n",
       " 'tourney_name',\n",
       " 'surface',\n",
       " 'tourney_level',\n",
       " 'tourney_date',\n",
       " 'match_num',\n",
       " 'best_of',\n",
       " 'round',\n",
       " 'tourney_year_numeric',\n",
       " 'player_id',\n",
       " 'player_name',\n",
       " 'player_hand',\n",
       " 'player_ht',\n",
       " 'player_ioc',\n",
       " 'player_age',\n",
       " 'player_rank',\n",
       " 'player_rank_points',\n",
       " 'opponent_id',\n",
       " 'opponent_name',\n",
       " 'opponent_hand',\n",
       " 'opponent_ht',\n",
       " 'opponent_ioc',\n",
       " 'opponent_age',\n",
       " 'opponent_rank',\n",
       " 'opponent_rank_points',\n",
       " 'Y',\n",
       " 'id_match']"
      ]
     },
     "execution_count": 43,
     "metadata": {},
     "output_type": "execute_result"
    }
   ],
   "source": [
    "list(df_all_data)"
   ]
  },
  {
   "cell_type": "code",
   "execution_count": 209,
   "metadata": {},
   "outputs": [],
   "source": [
    "#df_all_data['round'].unique()\n",
    "#df_all_data.groupby(['tourney_level'])['round'].unique()"
   ]
  },
  {
   "cell_type": "code",
   "execution_count": 44,
   "metadata": {},
   "outputs": [],
   "source": [
    "df_all_data['round_ordinal'] = df_all_data.apply(f.recode_round_to_ordinal, axis = 1)"
   ]
  },
  {
   "cell_type": "code",
   "execution_count": 45,
   "metadata": {},
   "outputs": [],
   "source": [
    "del liste_of_feat_used\n",
    "liste_of_feat_used = list(df_all_data)\n",
    "liste_var_numeric = list(df_all_data.describe())\n",
    "liste_var_non_numeric = [each for each in liste_of_feat_used if each not in liste_var_numeric]"
   ]
  },
  {
   "cell_type": "markdown",
   "metadata": {},
   "source": [
    "On peut :\n",
    "- on pourrait extraire le pays à partir du nom du tournoi mais ici, on ne le fait pas\n",
    "- on a besoin de la variable surface = priorité\n",
    "- on a besoin de la variable tourney_level = priorité\n",
    "- on auarait besoin de loser_ioc et winner_ioc pour savoir si un joueur joue dans son pays ou pas"
   ]
  },
  {
   "cell_type": "code",
   "execution_count": 46,
   "metadata": {},
   "outputs": [
    {
     "data": {
      "text/plain": [
       "['tourney_id',\n",
       " 'tourney_name',\n",
       " 'surface',\n",
       " 'tourney_level',\n",
       " 'round',\n",
       " 'player_name',\n",
       " 'player_hand',\n",
       " 'player_ioc',\n",
       " 'opponent_name',\n",
       " 'opponent_hand',\n",
       " 'opponent_ioc',\n",
       " 'id_match']"
      ]
     },
     "execution_count": 46,
     "metadata": {},
     "output_type": "execute_result"
    }
   ],
   "source": [
    "liste_var_non_numeric"
   ]
  },
  {
   "cell_type": "code",
   "execution_count": 213,
   "metadata": {},
   "outputs": [],
   "source": [
    "# Création du pays du tournoi<br>\n",
    "# Ensuite toutes les variables pourront être transformées avec \"labels encoding\" de Scikit-learn"
   ]
  },
  {
   "cell_type": "code",
   "execution_count": 214,
   "metadata": {},
   "outputs": [],
   "source": [
    "# Pays du tournoi"
   ]
  },
  {
   "cell_type": "code",
   "execution_count": 215,
   "metadata": {},
   "outputs": [],
   "source": [
    "# df_all_data_with_duplicates['tourney_name'].value_counts()"
   ]
  },
  {
   "cell_type": "markdown",
   "metadata": {},
   "source": [
    "Application de \"labels encoding\" aux variables : surface et tourney_level"
   ]
  },
  {
   "cell_type": "code",
   "execution_count": 47,
   "metadata": {},
   "outputs": [],
   "source": [
    "df_all_data['surface'] = df_all_data['surface'].astype(str)\n",
    "df_all_data['player_hand'] = df_all_data['player_hand'].astype(str)\n",
    "df_all_data['opponent_hand'] = df_all_data['opponent_hand'].astype(str)"
   ]
  },
  {
   "cell_type": "code",
   "execution_count": 48,
   "metadata": {},
   "outputs": [],
   "source": [
    "for each in ['surface','tourney_level','player_hand','opponent_hand']:\n",
    "    #print (each)\n",
    "    df_all_data = f.to_le(df_all_data,each)"
   ]
  },
  {
   "cell_type": "code",
   "execution_count": 49,
   "metadata": {},
   "outputs": [
    {
     "data": {
      "text/html": [
       "<div>\n",
       "<style scoped>\n",
       "    .dataframe tbody tr th:only-of-type {\n",
       "        vertical-align: middle;\n",
       "    }\n",
       "\n",
       "    .dataframe tbody tr th {\n",
       "        vertical-align: top;\n",
       "    }\n",
       "\n",
       "    .dataframe thead th {\n",
       "        text-align: right;\n",
       "    }\n",
       "</style>\n",
       "<table border=\"1\" class=\"dataframe\">\n",
       "  <thead>\n",
       "    <tr style=\"text-align: right;\">\n",
       "      <th></th>\n",
       "      <th>tourney_id</th>\n",
       "      <th>tourney_name</th>\n",
       "      <th>surface</th>\n",
       "      <th>tourney_level</th>\n",
       "      <th>tourney_date</th>\n",
       "      <th>match_num</th>\n",
       "      <th>best_of</th>\n",
       "      <th>round</th>\n",
       "      <th>tourney_year_numeric</th>\n",
       "      <th>player_id</th>\n",
       "      <th>...</th>\n",
       "      <th>opponent_age</th>\n",
       "      <th>opponent_rank</th>\n",
       "      <th>opponent_rank_points</th>\n",
       "      <th>Y</th>\n",
       "      <th>id_match</th>\n",
       "      <th>round_ordinal</th>\n",
       "      <th>surface_labels_encoding</th>\n",
       "      <th>tourney_level_labels_encoding</th>\n",
       "      <th>player_hand_labels_encoding</th>\n",
       "      <th>opponent_hand_labels_encoding</th>\n",
       "    </tr>\n",
       "  </thead>\n",
       "  <tbody>\n",
       "    <tr>\n",
       "      <th>0</th>\n",
       "      <td>1991-301</td>\n",
       "      <td>Auckland</td>\n",
       "      <td>Hard</td>\n",
       "      <td>A</td>\n",
       "      <td>19910107</td>\n",
       "      <td>1</td>\n",
       "      <td>3</td>\n",
       "      <td>R32</td>\n",
       "      <td>1991</td>\n",
       "      <td>101746</td>\n",
       "      <td>...</td>\n",
       "      <td>25.61</td>\n",
       "      <td>9.0</td>\n",
       "      <td>1487.0</td>\n",
       "      <td>1</td>\n",
       "      <td>1991-301_1</td>\n",
       "      <td>4</td>\n",
       "      <td>3</td>\n",
       "      <td>0</td>\n",
       "      <td>1</td>\n",
       "      <td>1</td>\n",
       "    </tr>\n",
       "    <tr>\n",
       "      <th>1</th>\n",
       "      <td>1991-301</td>\n",
       "      <td>Auckland</td>\n",
       "      <td>Hard</td>\n",
       "      <td>A</td>\n",
       "      <td>19910107</td>\n",
       "      <td>2</td>\n",
       "      <td>3</td>\n",
       "      <td>R32</td>\n",
       "      <td>1991</td>\n",
       "      <td>101613</td>\n",
       "      <td>...</td>\n",
       "      <td>31.82</td>\n",
       "      <td>220.0</td>\n",
       "      <td>114.0</td>\n",
       "      <td>0</td>\n",
       "      <td>1991-301_2</td>\n",
       "      <td>4</td>\n",
       "      <td>3</td>\n",
       "      <td>0</td>\n",
       "      <td>1</td>\n",
       "      <td>1</td>\n",
       "    </tr>\n",
       "    <tr>\n",
       "      <th>2</th>\n",
       "      <td>1991-301</td>\n",
       "      <td>Auckland</td>\n",
       "      <td>Hard</td>\n",
       "      <td>A</td>\n",
       "      <td>19910107</td>\n",
       "      <td>3</td>\n",
       "      <td>3</td>\n",
       "      <td>R32</td>\n",
       "      <td>1991</td>\n",
       "      <td>101179</td>\n",
       "      <td>...</td>\n",
       "      <td>21.70</td>\n",
       "      <td>212.0</td>\n",
       "      <td>116.0</td>\n",
       "      <td>0</td>\n",
       "      <td>1991-301_3</td>\n",
       "      <td>4</td>\n",
       "      <td>3</td>\n",
       "      <td>0</td>\n",
       "      <td>1</td>\n",
       "      <td>1</td>\n",
       "    </tr>\n",
       "    <tr>\n",
       "      <th>3</th>\n",
       "      <td>1991-301</td>\n",
       "      <td>Auckland</td>\n",
       "      <td>Hard</td>\n",
       "      <td>A</td>\n",
       "      <td>19910107</td>\n",
       "      <td>4</td>\n",
       "      <td>3</td>\n",
       "      <td>R32</td>\n",
       "      <td>1991</td>\n",
       "      <td>101117</td>\n",
       "      <td>...</td>\n",
       "      <td>23.85</td>\n",
       "      <td>72.0</td>\n",
       "      <td>483.0</td>\n",
       "      <td>0</td>\n",
       "      <td>1991-301_4</td>\n",
       "      <td>4</td>\n",
       "      <td>3</td>\n",
       "      <td>0</td>\n",
       "      <td>1</td>\n",
       "      <td>0</td>\n",
       "    </tr>\n",
       "    <tr>\n",
       "      <th>4</th>\n",
       "      <td>1991-301</td>\n",
       "      <td>Auckland</td>\n",
       "      <td>Hard</td>\n",
       "      <td>A</td>\n",
       "      <td>19910107</td>\n",
       "      <td>5</td>\n",
       "      <td>3</td>\n",
       "      <td>R32</td>\n",
       "      <td>1991</td>\n",
       "      <td>101735</td>\n",
       "      <td>...</td>\n",
       "      <td>19.71</td>\n",
       "      <td>190.0</td>\n",
       "      <td>142.0</td>\n",
       "      <td>1</td>\n",
       "      <td>1991-301_5</td>\n",
       "      <td>4</td>\n",
       "      <td>3</td>\n",
       "      <td>0</td>\n",
       "      <td>1</td>\n",
       "      <td>1</td>\n",
       "    </tr>\n",
       "  </tbody>\n",
       "</table>\n",
       "<p>5 rows × 32 columns</p>\n",
       "</div>"
      ],
      "text/plain": [
       "  tourney_id tourney_name surface tourney_level  tourney_date  match_num  \\\n",
       "0   1991-301     Auckland    Hard             A      19910107          1   \n",
       "1   1991-301     Auckland    Hard             A      19910107          2   \n",
       "2   1991-301     Auckland    Hard             A      19910107          3   \n",
       "3   1991-301     Auckland    Hard             A      19910107          4   \n",
       "4   1991-301     Auckland    Hard             A      19910107          5   \n",
       "\n",
       "   best_of round  tourney_year_numeric  player_id  ... opponent_age  \\\n",
       "0        3   R32                  1991     101746  ...        25.61   \n",
       "1        3   R32                  1991     101613  ...        31.82   \n",
       "2        3   R32                  1991     101179  ...        21.70   \n",
       "3        3   R32                  1991     101117  ...        23.85   \n",
       "4        3   R32                  1991     101735  ...        19.71   \n",
       "\n",
       "  opponent_rank  opponent_rank_points  Y    id_match  round_ordinal  \\\n",
       "0           9.0                1487.0  1  1991-301_1              4   \n",
       "1         220.0                 114.0  0  1991-301_2              4   \n",
       "2         212.0                 116.0  0  1991-301_3              4   \n",
       "3          72.0                 483.0  0  1991-301_4              4   \n",
       "4         190.0                 142.0  1  1991-301_5              4   \n",
       "\n",
       "   surface_labels_encoding  tourney_level_labels_encoding  \\\n",
       "0                        3                              0   \n",
       "1                        3                              0   \n",
       "2                        3                              0   \n",
       "3                        3                              0   \n",
       "4                        3                              0   \n",
       "\n",
       "  player_hand_labels_encoding opponent_hand_labels_encoding  \n",
       "0                           1                             1  \n",
       "1                           1                             1  \n",
       "2                           1                             1  \n",
       "3                           1                             0  \n",
       "4                           1                             1  \n",
       "\n",
       "[5 rows x 32 columns]"
      ]
     },
     "execution_count": 49,
     "metadata": {},
     "output_type": "execute_result"
    }
   ],
   "source": [
    "df_all_data.head()"
   ]
  },
  {
   "cell_type": "markdown",
   "metadata": {},
   "source": [
    "On s'occupe maintenant de la création des features numériques"
   ]
  },
  {
   "cell_type": "code",
   "execution_count": 50,
   "metadata": {},
   "outputs": [
    {
     "data": {
      "text/plain": [
       "['tourney_date',\n",
       " 'match_num',\n",
       " 'best_of',\n",
       " 'tourney_year_numeric',\n",
       " 'player_id',\n",
       " 'player_ht',\n",
       " 'player_age',\n",
       " 'player_rank',\n",
       " 'player_rank_points',\n",
       " 'opponent_id',\n",
       " 'opponent_ht',\n",
       " 'opponent_age',\n",
       " 'opponent_rank',\n",
       " 'opponent_rank_points',\n",
       " 'Y',\n",
       " 'round_ordinal']"
      ]
     },
     "execution_count": 50,
     "metadata": {},
     "output_type": "execute_result"
    }
   ],
   "source": [
    "liste_var_numeric"
   ]
  },
  {
   "cell_type": "markdown",
   "metadata": {},
   "source": [
    "On va utiliser en priorité les variables : \"player_\" et \"opponent_\" comme features numériques"
   ]
  },
  {
   "cell_type": "code",
   "execution_count": 51,
   "metadata": {},
   "outputs": [],
   "source": [
    "liste_var_player = [each for each in liste_var_numeric if 'player' in each and each != 'player_id']\n",
    "liste_var_opponent = [each for each in liste_var_numeric if 'opponent' in each and each != 'opponent_id']"
   ]
  },
  {
   "cell_type": "code",
   "execution_count": 104,
   "metadata": {},
   "outputs": [],
   "source": [
    "# liste_feat_le_for_xgboost = [each for each in list(df_all_data_with_duplicates) if 'labels_encoding' in each or 'ordinal' in each]\n",
    "liste_feat_le_for_xgboost = [each for each in list(df_all_data) if 'labels_encoding' in each]"
   ]
  },
  {
   "cell_type": "code",
   "execution_count": 105,
   "metadata": {},
   "outputs": [
    {
     "data": {
      "text/plain": [
       "['surface_labels_encoding',\n",
       " 'tourney_level_labels_encoding',\n",
       " 'player_hand_labels_encoding',\n",
       " 'opponent_hand_labels_encoding']"
      ]
     },
     "execution_count": 105,
     "metadata": {},
     "output_type": "execute_result"
    }
   ],
   "source": [
    "liste_feat_le_for_xgboost"
   ]
  },
  {
   "cell_type": "code",
   "execution_count": 106,
   "metadata": {},
   "outputs": [],
   "source": [
    "init = []\n",
    "init.append(liste_feat_le_for_xgboost)\n",
    "init.append(liste_var_player)\n",
    "init.append(liste_var_opponent)\n",
    "\n",
    "liste_feat_for_xgboost_modele_1 = list(chain(*init))"
   ]
  },
  {
   "cell_type": "code",
   "execution_count": 107,
   "metadata": {},
   "outputs": [
    {
     "data": {
      "text/plain": [
       "['surface_labels_encoding',\n",
       " 'tourney_level_labels_encoding',\n",
       " 'player_hand_labels_encoding',\n",
       " 'opponent_hand_labels_encoding',\n",
       " 'player_ht',\n",
       " 'player_age',\n",
       " 'player_rank',\n",
       " 'player_rank_points',\n",
       " 'opponent_ht',\n",
       " 'opponent_age',\n",
       " 'opponent_rank',\n",
       " 'opponent_rank_points']"
      ]
     },
     "execution_count": 107,
     "metadata": {},
     "output_type": "execute_result"
    }
   ],
   "source": [
    "liste_feat_for_xgboost_modele_1"
   ]
  },
  {
   "cell_type": "markdown",
   "metadata": {},
   "source": [
    "#### On réalise Holdout : on va créer \n",
    "- un train set =  60 % \n",
    "- validation set = , 20 % \n",
    "- test set = 20 %"
   ]
  },
  {
   "cell_type": "code",
   "execution_count": 56,
   "metadata": {},
   "outputs": [
    {
     "data": {
      "text/html": [
       "<div>\n",
       "<style scoped>\n",
       "    .dataframe tbody tr th:only-of-type {\n",
       "        vertical-align: middle;\n",
       "    }\n",
       "\n",
       "    .dataframe tbody tr th {\n",
       "        vertical-align: top;\n",
       "    }\n",
       "\n",
       "    .dataframe thead th {\n",
       "        text-align: right;\n",
       "    }\n",
       "</style>\n",
       "<table border=\"1\" class=\"dataframe\">\n",
       "  <thead>\n",
       "    <tr style=\"text-align: right;\">\n",
       "      <th></th>\n",
       "      <th>id_match</th>\n",
       "      <th>player_name</th>\n",
       "      <th>opponent_name</th>\n",
       "    </tr>\n",
       "  </thead>\n",
       "  <tbody>\n",
       "    <tr>\n",
       "      <th>268</th>\n",
       "      <td>1991-201_1</td>\n",
       "      <td>Rodolphe Gilbert</td>\n",
       "      <td>Luiz Mattar</td>\n",
       "    </tr>\n",
       "    <tr>\n",
       "      <th>277</th>\n",
       "      <td>1991-201_10</td>\n",
       "      <td>Gianluca Pozzi</td>\n",
       "      <td>Henrik Holm</td>\n",
       "    </tr>\n",
       "    <tr>\n",
       "      <th>278</th>\n",
       "      <td>1991-201_11</td>\n",
       "      <td>Martin Wostenholme</td>\n",
       "      <td>Lawson Duncan</td>\n",
       "    </tr>\n",
       "    <tr>\n",
       "      <th>279</th>\n",
       "      <td>1991-201_12</td>\n",
       "      <td>Horacio De La Pena</td>\n",
       "      <td>Pablo Albano</td>\n",
       "    </tr>\n",
       "    <tr>\n",
       "      <th>280</th>\n",
       "      <td>1991-201_13</td>\n",
       "      <td>Tarik Benhabiles</td>\n",
       "      <td>Marcelo Saliola</td>\n",
       "    </tr>\n",
       "  </tbody>\n",
       "</table>\n",
       "</div>"
      ],
      "text/plain": [
       "        id_match         player_name    opponent_name\n",
       "268   1991-201_1    Rodolphe Gilbert      Luiz Mattar\n",
       "277  1991-201_10      Gianluca Pozzi      Henrik Holm\n",
       "278  1991-201_11  Martin Wostenholme    Lawson Duncan\n",
       "279  1991-201_12  Horacio De La Pena     Pablo Albano\n",
       "280  1991-201_13    Tarik Benhabiles  Marcelo Saliola"
      ]
     },
     "execution_count": 56,
     "metadata": {},
     "output_type": "execute_result"
    }
   ],
   "source": [
    "df_all_data[['id_match','player_name','opponent_name']].sort_values(by=['id_match']).head()"
   ]
  },
  {
   "cell_type": "code",
   "execution_count": 57,
   "metadata": {},
   "outputs": [],
   "source": [
    "id_match_unique = df_all_data['id_match'].unique()"
   ]
  },
  {
   "cell_type": "code",
   "execution_count": 58,
   "metadata": {},
   "outputs": [],
   "source": [
    "# Shuffle du numpy array\n",
    "np.random.shuffle(id_match_unique)"
   ]
  },
  {
   "cell_type": "code",
   "execution_count": 59,
   "metadata": {},
   "outputs": [],
   "source": [
    "# 60%, 20% et 20%\n",
    "idx_1 = int(0.6*len(id_match_unique))\n",
    "idx_2 = int(0.8*len(id_match_unique))\n",
    "id_train = id_match_unique[:idx_1]\n",
    "id_valid = id_match_unique[idx_1+1:idx_2]\n",
    "id_test = id_match_unique[idx_2+1:]"
   ]
  },
  {
   "cell_type": "code",
   "execution_count": 60,
   "metadata": {},
   "outputs": [
    {
     "data": {
      "text/plain": [
       "(92827, 32)"
      ]
     },
     "execution_count": 60,
     "metadata": {},
     "output_type": "execute_result"
    }
   ],
   "source": [
    "df_all_data.shape"
   ]
  },
  {
   "cell_type": "code",
   "execution_count": 61,
   "metadata": {},
   "outputs": [],
   "source": [
    "X_train_all_columns = df_all_data[df_all_data['id_match'].isin(id_train)]\n",
    "Y_train = df_all_data[[\"id_match\",\"Y\"]][df_all_data[[\"id_match\",\"Y\"]]['id_match'].isin(id_train)][[\"Y\"]]"
   ]
  },
  {
   "cell_type": "code",
   "execution_count": 62,
   "metadata": {},
   "outputs": [
    {
     "data": {
      "text/html": [
       "<div>\n",
       "<style scoped>\n",
       "    .dataframe tbody tr th:only-of-type {\n",
       "        vertical-align: middle;\n",
       "    }\n",
       "\n",
       "    .dataframe tbody tr th {\n",
       "        vertical-align: top;\n",
       "    }\n",
       "\n",
       "    .dataframe thead th {\n",
       "        text-align: right;\n",
       "    }\n",
       "</style>\n",
       "<table border=\"1\" class=\"dataframe\">\n",
       "  <thead>\n",
       "    <tr style=\"text-align: right;\">\n",
       "      <th></th>\n",
       "      <th>id_match</th>\n",
       "    </tr>\n",
       "  </thead>\n",
       "  <tbody>\n",
       "    <tr>\n",
       "      <th>0</th>\n",
       "      <td>1991-301_1</td>\n",
       "    </tr>\n",
       "    <tr>\n",
       "      <th>1</th>\n",
       "      <td>1991-301_2</td>\n",
       "    </tr>\n",
       "    <tr>\n",
       "      <th>2</th>\n",
       "      <td>1991-301_3</td>\n",
       "    </tr>\n",
       "    <tr>\n",
       "      <th>3</th>\n",
       "      <td>1991-301_4</td>\n",
       "    </tr>\n",
       "    <tr>\n",
       "      <th>4</th>\n",
       "      <td>1991-301_5</td>\n",
       "    </tr>\n",
       "  </tbody>\n",
       "</table>\n",
       "</div>"
      ],
      "text/plain": [
       "     id_match\n",
       "0  1991-301_1\n",
       "1  1991-301_2\n",
       "2  1991-301_3\n",
       "3  1991-301_4\n",
       "4  1991-301_5"
      ]
     },
     "execution_count": 62,
     "metadata": {},
     "output_type": "execute_result"
    }
   ],
   "source": [
    "X_train_all_columns[['id_match']].head()"
   ]
  },
  {
   "cell_type": "code",
   "execution_count": 63,
   "metadata": {},
   "outputs": [
    {
     "data": {
      "text/plain": [
       "(55696, 32)"
      ]
     },
     "execution_count": 63,
     "metadata": {},
     "output_type": "execute_result"
    }
   ],
   "source": [
    "X_train_all_columns.shape"
   ]
  },
  {
   "cell_type": "code",
   "execution_count": 64,
   "metadata": {},
   "outputs": [
    {
     "data": {
      "text/html": [
       "<div>\n",
       "<style scoped>\n",
       "    .dataframe tbody tr th:only-of-type {\n",
       "        vertical-align: middle;\n",
       "    }\n",
       "\n",
       "    .dataframe tbody tr th {\n",
       "        vertical-align: top;\n",
       "    }\n",
       "\n",
       "    .dataframe thead th {\n",
       "        text-align: right;\n",
       "    }\n",
       "</style>\n",
       "<table border=\"1\" class=\"dataframe\">\n",
       "  <thead>\n",
       "    <tr style=\"text-align: right;\">\n",
       "      <th></th>\n",
       "      <th>Y</th>\n",
       "    </tr>\n",
       "  </thead>\n",
       "  <tbody>\n",
       "    <tr>\n",
       "      <th>70780</th>\n",
       "      <td>0</td>\n",
       "    </tr>\n",
       "    <tr>\n",
       "      <th>30290</th>\n",
       "      <td>1</td>\n",
       "    </tr>\n",
       "    <tr>\n",
       "      <th>23249</th>\n",
       "      <td>1</td>\n",
       "    </tr>\n",
       "    <tr>\n",
       "      <th>15422</th>\n",
       "      <td>1</td>\n",
       "    </tr>\n",
       "    <tr>\n",
       "      <th>23293</th>\n",
       "      <td>0</td>\n",
       "    </tr>\n",
       "    <tr>\n",
       "      <th>40717</th>\n",
       "      <td>1</td>\n",
       "    </tr>\n",
       "    <tr>\n",
       "      <th>91275</th>\n",
       "      <td>1</td>\n",
       "    </tr>\n",
       "    <tr>\n",
       "      <th>82849</th>\n",
       "      <td>1</td>\n",
       "    </tr>\n",
       "    <tr>\n",
       "      <th>92240</th>\n",
       "      <td>1</td>\n",
       "    </tr>\n",
       "    <tr>\n",
       "      <th>45041</th>\n",
       "      <td>1</td>\n",
       "    </tr>\n",
       "  </tbody>\n",
       "</table>\n",
       "</div>"
      ],
      "text/plain": [
       "       Y\n",
       "70780  0\n",
       "30290  1\n",
       "23249  1\n",
       "15422  1\n",
       "23293  0\n",
       "40717  1\n",
       "91275  1\n",
       "82849  1\n",
       "92240  1\n",
       "45041  1"
      ]
     },
     "execution_count": 64,
     "metadata": {},
     "output_type": "execute_result"
    }
   ],
   "source": [
    "Y_train.sample(n=10)"
   ]
  },
  {
   "cell_type": "code",
   "execution_count": 234,
   "metadata": {},
   "outputs": [],
   "source": [
    "# (X_train_all_columns.shape[0]/df_all_data.shape[0])*100"
   ]
  },
  {
   "cell_type": "code",
   "execution_count": 65,
   "metadata": {},
   "outputs": [],
   "source": [
    "X_valid_all_columns = df_all_data[df_all_data['id_match'].isin(id_valid)]\n",
    "Y_valid = df_all_data[[\"id_match\",\"Y\"]][df_all_data[[\"id_match\",\"Y\"]]['id_match'].isin(id_valid)][[\"Y\"]]\n",
    "X_test_all_columns =  df_all_data[df_all_data['id_match'].isin(id_test)]\n",
    "Y_test = df_all_data[[\"id_match\",\"Y\"]][df_all_data[[\"id_match\",\"Y\"]]['id_match'].isin(id_test)]"
   ]
  },
  {
   "cell_type": "code",
   "execution_count": 236,
   "metadata": {},
   "outputs": [],
   "source": [
    "# (X_valid_all_columns.shape[0]/df_all_data_with_duplicates.shape[0])*100"
   ]
  },
  {
   "cell_type": "code",
   "execution_count": 237,
   "metadata": {},
   "outputs": [],
   "source": [
    "# X_test_all_columns.shape"
   ]
  },
  {
   "cell_type": "code",
   "execution_count": 238,
   "metadata": {},
   "outputs": [],
   "source": [
    "# Y_valid.shape"
   ]
  },
  {
   "cell_type": "code",
   "execution_count": 239,
   "metadata": {},
   "outputs": [],
   "source": [
    "# X_test_all_columns.shape"
   ]
  },
  {
   "cell_type": "code",
   "execution_count": 240,
   "metadata": {},
   "outputs": [],
   "source": [
    "# (X_test_all_columns.shape[0]/df_all_data_with_duplicates.shape[0])*100"
   ]
  },
  {
   "cell_type": "code",
   "execution_count": 241,
   "metadata": {},
   "outputs": [],
   "source": [
    "#Y_test.shape"
   ]
  },
  {
   "cell_type": "code",
   "execution_count": 66,
   "metadata": {},
   "outputs": [],
   "source": [
    "X_train = X_train_all_columns[liste_feat_for_xgboost_modele_1]\n",
    "X_valid = X_valid_all_columns[liste_feat_for_xgboost_modele_1]"
   ]
  },
  {
   "cell_type": "markdown",
   "metadata": {},
   "source": [
    "On crée un XGBoost accompagné d'un tuning des hyperparamètres"
   ]
  },
  {
   "cell_type": "code",
   "execution_count": 67,
   "metadata": {},
   "outputs": [
    {
     "data": {
      "text/plain": [
       "(55696, 12)"
      ]
     },
     "execution_count": 67,
     "metadata": {},
     "output_type": "execute_result"
    }
   ],
   "source": [
    "X_train.shape"
   ]
  },
  {
   "cell_type": "code",
   "execution_count": 68,
   "metadata": {},
   "outputs": [
    {
     "data": {
      "text/html": [
       "<div>\n",
       "<style scoped>\n",
       "    .dataframe tbody tr th:only-of-type {\n",
       "        vertical-align: middle;\n",
       "    }\n",
       "\n",
       "    .dataframe tbody tr th {\n",
       "        vertical-align: top;\n",
       "    }\n",
       "\n",
       "    .dataframe thead th {\n",
       "        text-align: right;\n",
       "    }\n",
       "</style>\n",
       "<table border=\"1\" class=\"dataframe\">\n",
       "  <thead>\n",
       "    <tr style=\"text-align: right;\">\n",
       "      <th></th>\n",
       "      <th>surface_labels_encoding</th>\n",
       "      <th>tourney_level_labels_encoding</th>\n",
       "      <th>player_hand_labels_encoding</th>\n",
       "      <th>opponent_hand_labels_encoding</th>\n",
       "      <th>player_ht</th>\n",
       "      <th>player_age</th>\n",
       "      <th>player_rank</th>\n",
       "      <th>player_rank_points</th>\n",
       "      <th>opponent_ht</th>\n",
       "      <th>opponent_age</th>\n",
       "      <th>opponent_rank</th>\n",
       "      <th>opponent_rank_points</th>\n",
       "    </tr>\n",
       "  </thead>\n",
       "  <tbody>\n",
       "    <tr>\n",
       "      <th>0</th>\n",
       "      <td>3</td>\n",
       "      <td>0</td>\n",
       "      <td>1</td>\n",
       "      <td>1</td>\n",
       "      <td>175.0</td>\n",
       "      <td>20.64</td>\n",
       "      <td>78.0</td>\n",
       "      <td>459.0</td>\n",
       "      <td>180.0</td>\n",
       "      <td>25.61</td>\n",
       "      <td>9.0</td>\n",
       "      <td>1487.0</td>\n",
       "    </tr>\n",
       "    <tr>\n",
       "      <th>1</th>\n",
       "      <td>3</td>\n",
       "      <td>0</td>\n",
       "      <td>1</td>\n",
       "      <td>1</td>\n",
       "      <td>180.0</td>\n",
       "      <td>21.55</td>\n",
       "      <td>94.0</td>\n",
       "      <td>371.0</td>\n",
       "      <td>188.0</td>\n",
       "      <td>31.82</td>\n",
       "      <td>220.0</td>\n",
       "      <td>114.0</td>\n",
       "    </tr>\n",
       "    <tr>\n",
       "      <th>2</th>\n",
       "      <td>3</td>\n",
       "      <td>0</td>\n",
       "      <td>1</td>\n",
       "      <td>1</td>\n",
       "      <td>185.0</td>\n",
       "      <td>25.32</td>\n",
       "      <td>77.0</td>\n",
       "      <td>468.0</td>\n",
       "      <td>185.0</td>\n",
       "      <td>21.70</td>\n",
       "      <td>212.0</td>\n",
       "      <td>116.0</td>\n",
       "    </tr>\n",
       "    <tr>\n",
       "      <th>3</th>\n",
       "      <td>3</td>\n",
       "      <td>0</td>\n",
       "      <td>1</td>\n",
       "      <td>0</td>\n",
       "      <td>180.0</td>\n",
       "      <td>25.83</td>\n",
       "      <td>65.0</td>\n",
       "      <td>502.0</td>\n",
       "      <td>173.0</td>\n",
       "      <td>23.85</td>\n",
       "      <td>72.0</td>\n",
       "      <td>483.0</td>\n",
       "    </tr>\n",
       "    <tr>\n",
       "      <th>4</th>\n",
       "      <td>3</td>\n",
       "      <td>0</td>\n",
       "      <td>1</td>\n",
       "      <td>1</td>\n",
       "      <td>196.0</td>\n",
       "      <td>20.70</td>\n",
       "      <td>28.0</td>\n",
       "      <td>876.0</td>\n",
       "      <td>185.0</td>\n",
       "      <td>19.71</td>\n",
       "      <td>190.0</td>\n",
       "      <td>142.0</td>\n",
       "    </tr>\n",
       "  </tbody>\n",
       "</table>\n",
       "</div>"
      ],
      "text/plain": [
       "   surface_labels_encoding  tourney_level_labels_encoding  \\\n",
       "0                        3                              0   \n",
       "1                        3                              0   \n",
       "2                        3                              0   \n",
       "3                        3                              0   \n",
       "4                        3                              0   \n",
       "\n",
       "   player_hand_labels_encoding  opponent_hand_labels_encoding  player_ht  \\\n",
       "0                            1                              1      175.0   \n",
       "1                            1                              1      180.0   \n",
       "2                            1                              1      185.0   \n",
       "3                            1                              0      180.0   \n",
       "4                            1                              1      196.0   \n",
       "\n",
       "   player_age  player_rank  player_rank_points  opponent_ht  opponent_age  \\\n",
       "0       20.64         78.0               459.0        180.0         25.61   \n",
       "1       21.55         94.0               371.0        188.0         31.82   \n",
       "2       25.32         77.0               468.0        185.0         21.70   \n",
       "3       25.83         65.0               502.0        173.0         23.85   \n",
       "4       20.70         28.0               876.0        185.0         19.71   \n",
       "\n",
       "   opponent_rank  opponent_rank_points  \n",
       "0            9.0                1487.0  \n",
       "1          220.0                 114.0  \n",
       "2          212.0                 116.0  \n",
       "3           72.0                 483.0  \n",
       "4          190.0                 142.0  "
      ]
     },
     "execution_count": 68,
     "metadata": {},
     "output_type": "execute_result"
    }
   ],
   "source": [
    "X_train.head()"
   ]
  },
  {
   "cell_type": "code",
   "execution_count": 69,
   "metadata": {},
   "outputs": [
    {
     "data": {
      "text/plain": [
       "['surface_labels_encoding',\n",
       " 'tourney_level_labels_encoding',\n",
       " 'player_hand_labels_encoding',\n",
       " 'opponent_hand_labels_encoding',\n",
       " 'player_ht',\n",
       " 'player_age',\n",
       " 'player_rank',\n",
       " 'player_rank_points',\n",
       " 'opponent_ht',\n",
       " 'opponent_age',\n",
       " 'opponent_rank',\n",
       " 'opponent_rank_points']"
      ]
     },
     "execution_count": 69,
     "metadata": {},
     "output_type": "execute_result"
    }
   ],
   "source": [
    "liste_feat_for_xgboost_modele_1"
   ]
  },
  {
   "cell_type": "code",
   "execution_count": 70,
   "metadata": {},
   "outputs": [
    {
     "data": {
      "text/plain": [
       "(55696, 1)"
      ]
     },
     "execution_count": 70,
     "metadata": {},
     "output_type": "execute_result"
    }
   ],
   "source": [
    "Y_train.shape"
   ]
  },
  {
   "cell_type": "code",
   "execution_count": 73,
   "metadata": {},
   "outputs": [
    {
     "name": "stdout",
     "output_type": "stream",
     "text": [
      "CPU times: user 44.3 s, sys: 496 ms, total: 44.8 s\n",
      "Wall time: 22.9 s\n"
     ]
    }
   ],
   "source": [
    "%%time\n",
    "# n_iter = 100\n",
    "n_iter = 2\n",
    "df_result_models = pd.DataFrame(columns = ['colsample_bytree','learning_rate','max_depth','n_estimators','subsample','min_child_weight','reg_lambda','AUC_train','AUC_valid'])\n",
    "\n",
    "for each in range(1,n_iter):\n",
    "    \n",
    "    colsample_bytree_value = np.random.uniform(0.3,0.7)\n",
    "    learning_rate_value = np.random.uniform(0.03, 0.3)\n",
    "    max_depth_value = np.random.randint(7,20)\n",
    "    # max_depth_value = np.random.randint(5,12)\n",
    "    n_estimators_value = np.random.randint(400, 500)\n",
    "    # n_estimators_value = np.random.randint(100, 200)\n",
    "    # subsample_value = np.random.uniform(0.4, 0.6)\n",
    "    subsample_value = 1\n",
    "    reg_lambda_value = np.random.uniform(5, 20)\n",
    "    min_child_weight_value = np.random.randint(0,300)\n",
    "    \n",
    "    xgb_model = xgb.XGBClassifier(\n",
    "        colsample_bytree = colsample_bytree_value,\n",
    "        learning_rate = learning_rate_value,\n",
    "        max_depth = max_depth_value,\n",
    "        n_estimators = n_estimators_value,\n",
    "        subsample = subsample_value,\n",
    "        reg_lambda = reg_lambda_value,\n",
    "        n_jobs = 2,\n",
    "        min_child_weight = min_child_weight_value,\n",
    "        objective='binary:logistic')\n",
    "        \n",
    "    result = xgb_model.fit(X_train, Y_train.values.ravel())\n",
    "    predicted_values = xgb_model.predict_proba(X_train)[:,1]\n",
    "    predicted_values = np.expand_dims(predicted_values, axis=1)\n",
    "    \n",
    "    AUC_train_value = roc_auc_score(Y_train.values, predicted_values)\n",
    "    \n",
    "    predicted_values = xgb_model.predict_proba(X_valid)[:,1]\n",
    "    predicted_values = np.expand_dims(predicted_values, axis=1)\n",
    "        \n",
    "    AUC_valid_value = roc_auc_score(Y_valid.values, predicted_values)\n",
    "    \n",
    "    if AUC_train_value != None and AUC_valid_value != None:\n",
    "    \n",
    "        df_result_models = df_result_models.append({'colsample_bytree': colsample_bytree_value, \n",
    "                                 'learning_rate':learning_rate_value,\n",
    "                                 'max_depth':max_depth_value,\n",
    "                                 'n_estimators':n_estimators_value,\n",
    "                                 'subsample':subsample_value,\n",
    "                                 'reg_lambda':reg_lambda_value,\n",
    "                                 'min_child_weight':min_child_weight_value,                 \n",
    "                                 'AUC_train':AUC_train_value,\n",
    "                                 'AUC_valid':AUC_valid_value}, ignore_index= True)"
   ]
  },
  {
   "cell_type": "code",
   "execution_count": 75,
   "metadata": {},
   "outputs": [],
   "source": [
    "# stockage en .pkl\n",
    "joblib.dump(xgb_model, \"xgboost_modele_1_without_win_margin.pkl\", compress=9)\n",
    "# pour le reload\n",
    "xgb_model = joblib.load(\"xgboost_modele_1_without_win_margin.pkl\")"
   ]
  },
  {
   "cell_type": "code",
   "execution_count": 76,
   "metadata": {},
   "outputs": [
    {
     "data": {
      "text/plain": [
       "(55696, 1)"
      ]
     },
     "execution_count": 76,
     "metadata": {},
     "output_type": "execute_result"
    }
   ],
   "source": [
    "predicted_values = xgb_model.predict_proba(X_train)[:,1]\n",
    "predicted_values = np.expand_dims(predicted_values, axis=1)\n",
    "predicted_values.shape"
   ]
  },
  {
   "cell_type": "code",
   "execution_count": 253,
   "metadata": {},
   "outputs": [
    {
     "data": {
      "text/html": [
       "<div>\n",
       "<style scoped>\n",
       "    .dataframe tbody tr th:only-of-type {\n",
       "        vertical-align: middle;\n",
       "    }\n",
       "\n",
       "    .dataframe tbody tr th {\n",
       "        vertical-align: top;\n",
       "    }\n",
       "\n",
       "    .dataframe thead th {\n",
       "        text-align: right;\n",
       "    }\n",
       "</style>\n",
       "<table border=\"1\" class=\"dataframe\">\n",
       "  <thead>\n",
       "    <tr style=\"text-align: right;\">\n",
       "      <th></th>\n",
       "      <th>colsample_bytree</th>\n",
       "      <th>learning_rate</th>\n",
       "      <th>max_depth</th>\n",
       "      <th>n_estimators</th>\n",
       "      <th>subsample</th>\n",
       "      <th>min_child_weight</th>\n",
       "      <th>reg_lambda</th>\n",
       "      <th>AUC_train</th>\n",
       "      <th>AUC_valid</th>\n",
       "    </tr>\n",
       "  </thead>\n",
       "  <tbody>\n",
       "    <tr>\n",
       "      <th>0</th>\n",
       "      <td>0.402319</td>\n",
       "      <td>0.22827</td>\n",
       "      <td>7.0</td>\n",
       "      <td>477.0</td>\n",
       "      <td>1.0</td>\n",
       "      <td>294.0</td>\n",
       "      <td>5.124797</td>\n",
       "      <td>0.765798</td>\n",
       "      <td>0.717142</td>\n",
       "    </tr>\n",
       "  </tbody>\n",
       "</table>\n",
       "</div>"
      ],
      "text/plain": [
       "   colsample_bytree  learning_rate  max_depth  n_estimators  subsample  \\\n",
       "0          0.402319        0.22827        7.0         477.0        1.0   \n",
       "\n",
       "   min_child_weight  reg_lambda  AUC_train  AUC_valid  \n",
       "0             294.0    5.124797   0.765798   0.717142  "
      ]
     },
     "execution_count": 253,
     "metadata": {},
     "output_type": "execute_result"
    }
   ],
   "source": [
    "df_result_models"
   ]
  },
  {
   "cell_type": "markdown",
   "metadata": {},
   "source": [
    "##### Avec subsample = 1 : j'avais ce résultat :"
   ]
  },
  {
   "cell_type": "code",
   "execution_count": 515,
   "metadata": {},
   "outputs": [
    {
     "data": {
      "text/html": [
       "<div>\n",
       "<style scoped>\n",
       "    .dataframe tbody tr th:only-of-type {\n",
       "        vertical-align: middle;\n",
       "    }\n",
       "\n",
       "    .dataframe tbody tr th {\n",
       "        vertical-align: top;\n",
       "    }\n",
       "\n",
       "    .dataframe thead th {\n",
       "        text-align: right;\n",
       "    }\n",
       "</style>\n",
       "<table border=\"1\" class=\"dataframe\">\n",
       "  <thead>\n",
       "    <tr style=\"text-align: right;\">\n",
       "      <th></th>\n",
       "      <th>colsample_bytree</th>\n",
       "      <th>learning_rate</th>\n",
       "      <th>max_depth</th>\n",
       "      <th>n_estimators</th>\n",
       "      <th>subsample</th>\n",
       "      <th>min_child_weight</th>\n",
       "      <th>reg_lambda</th>\n",
       "      <th>AUC_train</th>\n",
       "      <th>AUC_valid</th>\n",
       "    </tr>\n",
       "  </thead>\n",
       "  <tbody>\n",
       "    <tr>\n",
       "      <th>0</th>\n",
       "      <td>0.400109</td>\n",
       "      <td>0.032849</td>\n",
       "      <td>18.0</td>\n",
       "      <td>469.0</td>\n",
       "      <td>1.0</td>\n",
       "      <td>69.0</td>\n",
       "      <td>13.445332</td>\n",
       "      <td>0.787675</td>\n",
       "      <td>0.72605</td>\n",
       "    </tr>\n",
       "  </tbody>\n",
       "</table>\n",
       "</div>"
      ],
      "text/plain": [
       "   colsample_bytree  learning_rate  max_depth  n_estimators  subsample  \\\n",
       "0          0.400109       0.032849       18.0         469.0        1.0   \n",
       "\n",
       "   min_child_weight  reg_lambda  AUC_train  AUC_valid  \n",
       "0              69.0   13.445332   0.787675    0.72605  "
      ]
     },
     "execution_count": 515,
     "metadata": {},
     "output_type": "execute_result"
    }
   ],
   "source": [
    "df_result_models"
   ]
  },
  {
   "cell_type": "markdown",
   "metadata": {},
   "source": [
    "Avec 'round_ordinal' : PAS TESTE<br>\n",
    "Cela semble donner du sur-apprentissage:<br>\n",
    "On pourrait faire varier successivement chaque hyperparamètre en gardant les autres hyperparamètres fixé"
   ]
  },
  {
   "cell_type": "markdown",
   "metadata": {},
   "source": [
    "Importance des variables: AVANT:"
   ]
  },
  {
   "cell_type": "code",
   "execution_count": 66,
   "metadata": {},
   "outputs": [
    {
     "name": "stdout",
     "output_type": "stream",
     "text": [
      "player_rank  :: 0.17257395\n",
      "opponent_rank_points  :: 0.12709759\n",
      "opponent_rank  :: 0.119993925\n",
      "player_rank_points  :: 0.088540286\n",
      "player_hand_labels_encoding  :: 0.085398465\n",
      "tourney_level_labels_encoding  :: 0.08162489\n",
      "opponent_hand_labels_encoding  :: 0.07802199\n",
      "player_ht  :: 0.076015785\n",
      "opponent_ht  :: 0.055617627\n",
      "surface_labels_encoding  :: 0.03886766\n",
      "player_age  :: 0.03855893\n",
      "opponent_age  :: 0.03768892\n"
     ]
    }
   ],
   "source": [
    "dict_feature_importance = {}\n",
    "for each in list(zip(list(X_train),xgb_model.feature_importances_)):\n",
    "    dict_feature_importance[each[0]] = each[1]\n",
    "sorted_importances = sorted(dict_feature_importance.items() , reverse = True, key=lambda x: x[1])\n",
    "for elem in sorted_importances :\n",
    "    print(elem[0] , \" ::\" , elem[1])"
   ]
  },
  {
   "cell_type": "code",
   "execution_count": 254,
   "metadata": {},
   "outputs": [
    {
     "name": "stdout",
     "output_type": "stream",
     "text": [
      "player_rank  :: 0.21202485\n",
      "opponent_rank  :: 0.16643013\n",
      "opponent_rank_points  :: 0.13429113\n",
      "player_rank_points  :: 0.10057502\n",
      "player_ht  :: 0.083280616\n",
      "tourney_level_labels_encoding  :: 0.076903276\n",
      "opponent_ht  :: 0.062523544\n",
      "player_age  :: 0.039800752\n",
      "opponent_age  :: 0.03814017\n",
      "surface_labels_encoding  :: 0.032589827\n",
      "player_hand_labels_encoding  :: 0.031197162\n",
      "opponent_hand_labels_encoding  :: 0.022243459\n"
     ]
    }
   ],
   "source": [
    "dict_feature_importance = {}\n",
    "for each in list(zip(list(X_train),xgb_model.feature_importances_)):\n",
    "    dict_feature_importance[each[0]] = each[1]\n",
    "sorted_importances = sorted(dict_feature_importance.items() , reverse = True, key=lambda x: x[1])\n",
    "for elem in sorted_importances :\n",
    "    print(elem[0] , \" ::\" , elem[1])"
   ]
  },
  {
   "cell_type": "markdown",
   "metadata": {},
   "source": [
    "Ci-dessous, on calcule la prédiction pour un match donné dans le test set (3ème échantillon)"
   ]
  },
  {
   "cell_type": "code",
   "execution_count": 255,
   "metadata": {},
   "outputs": [
    {
     "data": {
      "text/plain": [
       "['surface_labels_encoding',\n",
       " 'tourney_level_labels_encoding',\n",
       " 'player_hand_labels_encoding',\n",
       " 'opponent_hand_labels_encoding',\n",
       " 'player_ht',\n",
       " 'player_age',\n",
       " 'player_rank',\n",
       " 'player_rank_points',\n",
       " 'opponent_ht',\n",
       " 'opponent_age',\n",
       " 'opponent_rank',\n",
       " 'opponent_rank_points']"
      ]
     },
     "execution_count": 255,
     "metadata": {},
     "output_type": "execute_result"
    }
   ],
   "source": [
    "liste_feat_for_xgboost_modele_1"
   ]
  },
  {
   "cell_type": "markdown",
   "metadata": {},
   "source": [
    "#### Hypothèse des gains en cas de bonne ou mauvaise prédiction:\n",
    "- on gagne la valeur de la mise en cas de bonne prédiction\n",
    "- on perd la valeur de la mise en cas de mauvaise prédiction"
   ]
  },
  {
   "cell_type": "markdown",
   "metadata": {},
   "source": [
    "Code pour créer la fonction: <br>\n",
    "- input : dataframe df_all_data_with_duplicates et numpy array : id_train ou id_valid ou id_test\n",
    "- output: dataframe df_pred contenant pour chaque match la winning margin, les prédictions et les Y vérité"
   ]
  },
  {
   "cell_type": "code",
   "execution_count": 256,
   "metadata": {},
   "outputs": [
    {
     "data": {
      "text/plain": [
       "['tourney_id',\n",
       " 'tourney_name',\n",
       " 'surface',\n",
       " 'tourney_level',\n",
       " 'tourney_date',\n",
       " 'match_num',\n",
       " 'best_of',\n",
       " 'round',\n",
       " 'tourney_year_numeric',\n",
       " 'player_id',\n",
       " 'player_name',\n",
       " 'player_hand',\n",
       " 'player_ht',\n",
       " 'player_ioc',\n",
       " 'player_age',\n",
       " 'player_rank',\n",
       " 'player_rank_points',\n",
       " 'opponent_id',\n",
       " 'opponent_name',\n",
       " 'opponent_hand',\n",
       " 'opponent_ht',\n",
       " 'opponent_ioc',\n",
       " 'opponent_age',\n",
       " 'opponent_rank',\n",
       " 'opponent_rank_points',\n",
       " 'Y',\n",
       " 'id_match',\n",
       " 'round_ordinal',\n",
       " 'surface_labels_encoding',\n",
       " 'tourney_level_labels_encoding',\n",
       " 'player_hand_labels_encoding',\n",
       " 'opponent_hand_labels_encoding']"
      ]
     },
     "execution_count": 256,
     "metadata": {},
     "output_type": "execute_result"
    }
   ],
   "source": [
    "list(df_all_data)"
   ]
  },
  {
   "cell_type": "markdown",
   "metadata": {},
   "source": [
    "A faire en cas de pb avec \"liste_feat_for_xgboost_modele_1\""
   ]
  },
  {
   "cell_type": "code",
   "execution_count": 175,
   "metadata": {},
   "outputs": [],
   "source": [
    "# liste_feat_le_for_xgboost = [each for each in list(df_all_data_with_duplicates) if 'labels_encoding' in each]\n",
    "# init = []\n",
    "# init.append(liste_feat_le_for_xgboost)\n",
    "# init.append(liste_var_player)\n",
    "# init.append(liste_var_opponent)\n",
    "# liste_feat_for_xgboost_modele_1 = list(chain(*init))"
   ]
  },
  {
   "cell_type": "code",
   "execution_count": 172,
   "metadata": {},
   "outputs": [],
   "source": [
    "# liste_feat_for_xgboost_modele_1"
   ]
  },
  {
   "cell_type": "markdown",
   "metadata": {},
   "source": [
    "Calcul :\n",
    "- de la winning margin avec : un groupby \"id_match\", abs(pred_0 - pred_1)<br>\n",
    "- de la prédiction de chaque match avec : un groupby \"id_match\", max(pred_0, pred_1)"
   ]
  },
  {
   "cell_type": "code",
   "execution_count": 258,
   "metadata": {},
   "outputs": [
    {
     "name": "stdout",
     "output_type": "stream",
     "text": [
      "AUC sur le  train  set:  0.7657982276880064\n"
     ]
    }
   ],
   "source": [
    "id_obs = id_train.copy()\n",
    "df = df_all_data.copy()\n",
    "which_dataset = \"train\"\n",
    "\n",
    "X_all_columns = df[df['id_match'].isin(id_obs)]\n",
    "\n",
    "liste_columns =  liste_feat_for_xgboost_modele_1.copy()\n",
    "liste_columns.append(\"id_match\")\n",
    "df_temp = X_all_columns[liste_columns]\n",
    "del liste_columns\n",
    "\n",
    "Y = df[[\"id_match\",\"Y\"]][df[[\"id_match\",\"Y\"]]['id_match'].isin(id_obs)]\n",
    "\n",
    "df_temp = df_temp.sort_values(by = \"id_match\")\n",
    "Y = Y.sort_values(by = \"id_match\")\n",
    "\n",
    "df_temp_for_prediction = df_temp[[each for each in list(df_temp) if each != \"id_match\"]]\n",
    "\n",
    "predicted_values = xgb_model.predict_proba(df_temp_for_prediction)[:,1]\n",
    "predicted_values = np.expand_dims(predicted_values, axis=1)\n",
    "Y_without_id_match = Y.drop(\"id_match\", axis = 1)\n",
    "\n",
    "AUC_value = roc_auc_score(Y_without_id_match.values, predicted_values)\n",
    "# print (\"AUC sur le train set: \", AUC_train_value)\n",
    "print (\"AUC sur le \", which_dataset,  \" set: \", AUC_value)\n",
    "\n",
    "df_predicted_values = pd.DataFrame({'id_match':df_temp[\"id_match\"].values, 'pred': predicted_values[:, 0]})\n",
    "\n",
    "# df_predicted_values.shape\n",
    "# df_predicted_values.head()\n",
    "\n",
    "Y.reset_index(drop = False, inplace = True)\n",
    "df_predicted_values.reset_index(drop = False, inplace = True)\n",
    "\n",
    "df_predicted_values[\"Y\"] = Y[\"Y\"]\n",
    "df_predicted_values.head()\n",
    "\n",
    "df_temp_names_players = X_all_columns[[\"id_match\",\"player_name\",\"opponent_name\"]]\n",
    "df_temp_names_players = df_temp_names_players.sort_values(by = \"id_match\")\n",
    "\n",
    "df_temp_names_players.reset_index(drop = False, inplace = True)\n",
    "df_predicted_values.reset_index(drop = False, inplace = True)\n",
    "df_predicted_values[\"player_name\"] = df_temp_names_players[\"player_name\"]\n",
    "df_predicted_values[\"opponent_name\"] = df_temp_names_players[\"opponent_name\"]\n",
    "\n",
    "df_predicted_values = df_predicted_values.drop([\"level_0\",\"index\"], axis = 1)"
   ]
  },
  {
   "cell_type": "code",
   "execution_count": 259,
   "metadata": {},
   "outputs": [
    {
     "data": {
      "text/html": [
       "<div>\n",
       "<style scoped>\n",
       "    .dataframe tbody tr th:only-of-type {\n",
       "        vertical-align: middle;\n",
       "    }\n",
       "\n",
       "    .dataframe tbody tr th {\n",
       "        vertical-align: top;\n",
       "    }\n",
       "\n",
       "    .dataframe thead th {\n",
       "        text-align: right;\n",
       "    }\n",
       "</style>\n",
       "<table border=\"1\" class=\"dataframe\">\n",
       "  <thead>\n",
       "    <tr style=\"text-align: right;\">\n",
       "      <th></th>\n",
       "      <th>id_match</th>\n",
       "      <th>pred</th>\n",
       "      <th>Y</th>\n",
       "      <th>player_name</th>\n",
       "      <th>opponent_name</th>\n",
       "    </tr>\n",
       "  </thead>\n",
       "  <tbody>\n",
       "    <tr>\n",
       "      <th>0</th>\n",
       "      <td>1991-201_10</td>\n",
       "      <td>0.513388</td>\n",
       "      <td>0</td>\n",
       "      <td>Henrik Holm</td>\n",
       "      <td>Gianluca Pozzi</td>\n",
       "    </tr>\n",
       "    <tr>\n",
       "      <th>1</th>\n",
       "      <td>1991-201_13</td>\n",
       "      <td>0.366543</td>\n",
       "      <td>0</td>\n",
       "      <td>Tarik Benhabiles</td>\n",
       "      <td>Marcelo Saliola</td>\n",
       "    </tr>\n",
       "    <tr>\n",
       "      <th>2</th>\n",
       "      <td>1991-201_14</td>\n",
       "      <td>0.506069</td>\n",
       "      <td>1</td>\n",
       "      <td>Christer Allgardh</td>\n",
       "      <td>Chris Garner</td>\n",
       "    </tr>\n",
       "    <tr>\n",
       "      <th>3</th>\n",
       "      <td>1991-201_15</td>\n",
       "      <td>0.624339</td>\n",
       "      <td>0</td>\n",
       "      <td>Fernando Roese</td>\n",
       "      <td>Johan Carlsson</td>\n",
       "    </tr>\n",
       "    <tr>\n",
       "      <th>4</th>\n",
       "      <td>1991-201_16</td>\n",
       "      <td>0.427359</td>\n",
       "      <td>1</td>\n",
       "      <td>Marcelo Filippini</td>\n",
       "      <td>Danilo Marcelino</td>\n",
       "    </tr>\n",
       "  </tbody>\n",
       "</table>\n",
       "</div>"
      ],
      "text/plain": [
       "      id_match      pred  Y        player_name     opponent_name\n",
       "0  1991-201_10  0.513388  0        Henrik Holm    Gianluca Pozzi\n",
       "1  1991-201_13  0.366543  0   Tarik Benhabiles   Marcelo Saliola\n",
       "2  1991-201_14  0.506069  1  Christer Allgardh      Chris Garner\n",
       "3  1991-201_15  0.624339  0     Fernando Roese    Johan Carlsson\n",
       "4  1991-201_16  0.427359  1  Marcelo Filippini  Danilo Marcelino"
      ]
     },
     "execution_count": 259,
     "metadata": {},
     "output_type": "execute_result"
    }
   ],
   "source": [
    "df_predicted_values.head()"
   ]
  },
  {
   "cell_type": "code",
   "execution_count": 77,
   "metadata": {},
   "outputs": [],
   "source": [
    "# which_dataset = \"train\" ou \"valid\" ou \"test\"\n",
    "def fun_pred_truth(df,id_obs,which_dataset):\n",
    "    \n",
    "    X_all_columns = df[df['id_match'].isin(id_obs)]\n",
    "    \n",
    "    liste_columns =  liste_feat_for_xgboost_modele_1.copy()\n",
    "    liste_columns.append(\"id_match\")\n",
    "    df_temp = X_all_columns[liste_columns]\n",
    "    del liste_columns\n",
    "\n",
    "    Y = df[[\"id_match\",\"Y\"]][df[[\"id_match\",\"Y\"]]['id_match'].isin(id_obs)]\n",
    "\n",
    "    df_temp = df_temp.sort_values(by = \"id_match\")\n",
    "    Y = Y.sort_values(by = \"id_match\")\n",
    "\n",
    "    df_temp_for_prediction = df_temp[[each for each in list(df_temp) if each != \"id_match\"]]\n",
    "\n",
    "    predicted_values = xgb_model.predict_proba(df_temp_for_prediction)[:,1]\n",
    "    predicted_values = np.expand_dims(predicted_values, axis=1)\n",
    "    Y_without_id_match = Y.drop(\"id_match\", axis = 1)\n",
    "\n",
    "    AUC_value = roc_auc_score(Y_without_id_match.values, predicted_values)\n",
    "    # print (\"AUC sur le train set: \", AUC_train_value)\n",
    "    print (\"AUC sur le \", which_dataset,  \" set: \", AUC_value)\n",
    "    \n",
    "    df_predicted_values = pd.DataFrame({'id_match':df_temp[\"id_match\"].values, 'pred': predicted_values[:, 0]})\n",
    "\n",
    "    # df_predicted_values.shape\n",
    "    # df_predicted_values.head()\n",
    "\n",
    "    Y.reset_index(drop = False, inplace = True)\n",
    "    df_predicted_values.reset_index(drop = False, inplace = True)\n",
    "\n",
    "    df_predicted_values[\"Y\"] = Y[\"Y\"]\n",
    "    df_predicted_values.head()\n",
    "\n",
    "    df_temp_names_players = X_all_columns[[\"id_match\",\"player_name\",\"opponent_name\"]]\n",
    "    df_temp_names_players = df_temp_names_players.sort_values(by = \"id_match\")\n",
    "\n",
    "    df_temp_names_players.reset_index(drop = False, inplace = True)\n",
    "    df_predicted_values.reset_index(drop = False, inplace = True)\n",
    "    df_predicted_values[\"player_name\"] = df_temp_names_players[\"player_name\"]\n",
    "    df_predicted_values[\"opponent_name\"] = df_temp_names_players[\"opponent_name\"]\n",
    "    df_predicted_values = df_predicted_values.drop([\"level_0\",\"index\"], axis = 1)\n",
    "\n",
    "    return df_predicted_values"
   ]
  },
  {
   "cell_type": "code",
   "execution_count": 78,
   "metadata": {},
   "outputs": [
    {
     "name": "stdout",
     "output_type": "stream",
     "text": [
      "AUC sur le  train  set:  0.7931318898872856\n",
      "AUC sur le  valid  set:  0.7165367794751074\n",
      "AUC sur le  test  set:  0.7149285752888216\n"
     ]
    }
   ],
   "source": [
    "df_pred_train = fun_pred_truth(df_all_data,id_train,\"train\")\n",
    "df_pred_valid = fun_pred_truth(df_all_data,id_valid,\"valid\")\n",
    "df_pred_test = fun_pred_truth(df_all_data,id_test,\"test\")"
   ]
  },
  {
   "cell_type": "code",
   "execution_count": 179,
   "metadata": {},
   "outputs": [],
   "source": [
    "# df_predicted_values_train[((df_predicted_values_train[\"opponent_name\"] == 'Roger Federer') & \\\n",
    "#                          (df_predicted_values_train[\"player_name\"] == 'Robin Soderling') & \\\n",
    "#                          (df_predicted_values_train[\"year\"] == '2009')) | \\\n",
    "#                         ((df_predicted_values_train[\"opponent_name\"] == 'Robin Soderling') & \\\n",
    "#                          (df_predicted_values_train[\"player_name\"] == 'Roger Federer') & \\\n",
    "#                          (df_predicted_values_train[\"year\"] == '2009'))]"
   ]
  },
  {
   "cell_type": "markdown",
   "metadata": {},
   "source": [
    "NB) Le vainqueur de chaque match est le joueur \"opponent\" si Y = 1<br>\n",
    "sinon c'est le joueur \"player\""
   ]
  },
  {
   "cell_type": "code",
   "execution_count": 79,
   "metadata": {},
   "outputs": [
    {
     "data": {
      "text/html": [
       "<div>\n",
       "<style scoped>\n",
       "    .dataframe tbody tr th:only-of-type {\n",
       "        vertical-align: middle;\n",
       "    }\n",
       "\n",
       "    .dataframe tbody tr th {\n",
       "        vertical-align: top;\n",
       "    }\n",
       "\n",
       "    .dataframe thead th {\n",
       "        text-align: right;\n",
       "    }\n",
       "</style>\n",
       "<table border=\"1\" class=\"dataframe\">\n",
       "  <thead>\n",
       "    <tr style=\"text-align: right;\">\n",
       "      <th></th>\n",
       "      <th>id_match</th>\n",
       "      <th>pred</th>\n",
       "      <th>Y</th>\n",
       "      <th>player_name</th>\n",
       "      <th>opponent_name</th>\n",
       "    </tr>\n",
       "  </thead>\n",
       "  <tbody>\n",
       "    <tr>\n",
       "      <th>41358</th>\n",
       "      <td>2011-315_1</td>\n",
       "      <td>0.330362</td>\n",
       "      <td>0</td>\n",
       "      <td>John Isner</td>\n",
       "      <td>Karol Beck</td>\n",
       "    </tr>\n",
       "    <tr>\n",
       "      <th>44295</th>\n",
       "      <td>2012-560_51</td>\n",
       "      <td>0.483522</td>\n",
       "      <td>1</td>\n",
       "      <td>Lukasz Kubot</td>\n",
       "      <td>Leonardo Mayer</td>\n",
       "    </tr>\n",
       "    <tr>\n",
       "      <th>51024</th>\n",
       "      <td>2016-560_156</td>\n",
       "      <td>0.433573</td>\n",
       "      <td>0</td>\n",
       "      <td>Feliciano Lopez</td>\n",
       "      <td>Borna Coric</td>\n",
       "    </tr>\n",
       "  </tbody>\n",
       "</table>\n",
       "</div>"
      ],
      "text/plain": [
       "           id_match      pred  Y      player_name   opponent_name\n",
       "41358    2011-315_1  0.330362  0       John Isner      Karol Beck\n",
       "44295   2012-560_51  0.483522  1     Lukasz Kubot  Leonardo Mayer\n",
       "51024  2016-560_156  0.433573  0  Feliciano Lopez     Borna Coric"
      ]
     },
     "execution_count": 79,
     "metadata": {},
     "output_type": "execute_result"
    }
   ],
   "source": [
    "df_pred_train.sample(n=3)"
   ]
  },
  {
   "cell_type": "code",
   "execution_count": 80,
   "metadata": {},
   "outputs": [],
   "source": [
    "def gain_for_each_match(df):\n",
    "    if df['Y'] == df['Y_pred']:\n",
    "        gain = +1 \n",
    "    else:\n",
    "        gain = -1 \n",
    "    return gain"
   ]
  },
  {
   "cell_type": "markdown",
   "metadata": {},
   "source": [
    "Si on considère une seule proba prédite<br>\n",
    "On peut en déduire la Precision P<br>\n",
    "Pour le Recall R, il faut calculer le nombre de faux négatifs<br>\n",
    "Nombre de faux négatifs = nombre de vainqueurs des matchs qui n'ont pas été prédits comme vainqueurs\n",
    "\n",
    "Ici: la proba prédite est pred_max"
   ]
  },
  {
   "cell_type": "markdown",
   "metadata": {},
   "source": [
    "- Une Precision élevée est équivalente à un taux faible de faux positifs \n",
    "- Un Recall élevé est équivalent à un taux faible de faux négatifs\n",
    "\n",
    "Sachant que :\n",
    "- Precision = nombre de bonnes prédictions / (nombre de prédictions bonnes + nombre de mauvaises prédictions)\n",
    "            = nombre de vrais positifs / (nombre de vrais positifs + nombre de faux positifs)\n",
    "    $P = \\frac{T_p}{T_p+F_p}$\n",
    "- Recall = nombre de vrais positifs / (nombre de vrais positifs + nombre de faux négatifs)\n",
    "    $R = \\frac{T_p}{T_p + F_n}$\n",
    "\n",
    "- F1-score:\n",
    "    $F1 = 2\\frac{P \\times R}{P+R}$"
   ]
  },
  {
   "cell_type": "markdown",
   "metadata": {},
   "source": [
    "Ou bien on peut calculer avec Scikit-learn"
   ]
  },
  {
   "cell_type": "code",
   "execution_count": 81,
   "metadata": {},
   "outputs": [
    {
     "data": {
      "text/html": [
       "<div>\n",
       "<style scoped>\n",
       "    .dataframe tbody tr th:only-of-type {\n",
       "        vertical-align: middle;\n",
       "    }\n",
       "\n",
       "    .dataframe tbody tr th {\n",
       "        vertical-align: top;\n",
       "    }\n",
       "\n",
       "    .dataframe thead th {\n",
       "        text-align: right;\n",
       "    }\n",
       "</style>\n",
       "<table border=\"1\" class=\"dataframe\">\n",
       "  <thead>\n",
       "    <tr style=\"text-align: right;\">\n",
       "      <th></th>\n",
       "      <th>id_match</th>\n",
       "      <th>pred</th>\n",
       "      <th>Y</th>\n",
       "      <th>player_name</th>\n",
       "      <th>opponent_name</th>\n",
       "    </tr>\n",
       "  </thead>\n",
       "  <tbody>\n",
       "    <tr>\n",
       "      <th>0</th>\n",
       "      <td>1991-201_1</td>\n",
       "      <td>0.727929</td>\n",
       "      <td>0</td>\n",
       "      <td>Rodolphe Gilbert</td>\n",
       "      <td>Luiz Mattar</td>\n",
       "    </tr>\n",
       "    <tr>\n",
       "      <th>1</th>\n",
       "      <td>1991-201_10</td>\n",
       "      <td>0.527984</td>\n",
       "      <td>1</td>\n",
       "      <td>Gianluca Pozzi</td>\n",
       "      <td>Henrik Holm</td>\n",
       "    </tr>\n",
       "    <tr>\n",
       "      <th>2</th>\n",
       "      <td>1991-201_12</td>\n",
       "      <td>0.441160</td>\n",
       "      <td>1</td>\n",
       "      <td>Horacio De La Pena</td>\n",
       "      <td>Pablo Albano</td>\n",
       "    </tr>\n",
       "    <tr>\n",
       "      <th>3</th>\n",
       "      <td>1991-201_14</td>\n",
       "      <td>0.459194</td>\n",
       "      <td>0</td>\n",
       "      <td>Chris Garner</td>\n",
       "      <td>Christer Allgardh</td>\n",
       "    </tr>\n",
       "    <tr>\n",
       "      <th>4</th>\n",
       "      <td>1991-201_19</td>\n",
       "      <td>0.596452</td>\n",
       "      <td>1</td>\n",
       "      <td>Gabriel Markus</td>\n",
       "      <td>Patrick Baur</td>\n",
       "    </tr>\n",
       "  </tbody>\n",
       "</table>\n",
       "</div>"
      ],
      "text/plain": [
       "      id_match      pred  Y         player_name      opponent_name\n",
       "0   1991-201_1  0.727929  0    Rodolphe Gilbert        Luiz Mattar\n",
       "1  1991-201_10  0.527984  1      Gianluca Pozzi        Henrik Holm\n",
       "2  1991-201_12  0.441160  1  Horacio De La Pena       Pablo Albano\n",
       "3  1991-201_14  0.459194  0        Chris Garner  Christer Allgardh\n",
       "4  1991-201_19  0.596452  1      Gabriel Markus       Patrick Baur"
      ]
     },
     "execution_count": 81,
     "metadata": {},
     "output_type": "execute_result"
    }
   ],
   "source": [
    "df_pred_train.head()"
   ]
  },
  {
   "cell_type": "code",
   "execution_count": 82,
   "metadata": {},
   "outputs": [
    {
     "name": "stdout",
     "output_type": "stream",
     "text": [
      "0.40419278\n"
     ]
    }
   ],
   "source": [
    "precision, recall, thresholds = precision_recall_curve(df_pred_train[[\"Y\"]], df_pred_train[[\"pred\"]])\n",
    "f1 = 2*((precision*recall)/(precision+recall))\n",
    "\n",
    "thresh_proba = thresholds[np.where(f1 == max(f1))][0]\n",
    "print (thresh_proba)\n",
    "df_pred_train['Y_pred'] = df_pred_train['pred'].map(lambda x: 1 if x > thresh_proba else 0)\n",
    "df_pred_train['gain'] = df_pred_train.apply(gain_for_each_match, axis = 1)"
   ]
  },
  {
   "cell_type": "code",
   "execution_count": 83,
   "metadata": {},
   "outputs": [
    {
     "data": {
      "text/html": [
       "<div>\n",
       "<style scoped>\n",
       "    .dataframe tbody tr th:only-of-type {\n",
       "        vertical-align: middle;\n",
       "    }\n",
       "\n",
       "    .dataframe tbody tr th {\n",
       "        vertical-align: top;\n",
       "    }\n",
       "\n",
       "    .dataframe thead th {\n",
       "        text-align: right;\n",
       "    }\n",
       "</style>\n",
       "<table border=\"1\" class=\"dataframe\">\n",
       "  <thead>\n",
       "    <tr style=\"text-align: right;\">\n",
       "      <th></th>\n",
       "      <th>id_match</th>\n",
       "      <th>pred</th>\n",
       "      <th>Y</th>\n",
       "      <th>player_name</th>\n",
       "      <th>opponent_name</th>\n",
       "      <th>Y_pred</th>\n",
       "      <th>gain</th>\n",
       "    </tr>\n",
       "  </thead>\n",
       "  <tbody>\n",
       "    <tr>\n",
       "      <th>32280</th>\n",
       "      <td>2006-375_17</td>\n",
       "      <td>0.568305</td>\n",
       "      <td>1</td>\n",
       "      <td>Michael Llodra</td>\n",
       "      <td>Arnaud Clement</td>\n",
       "      <td>1</td>\n",
       "      <td>1</td>\n",
       "    </tr>\n",
       "    <tr>\n",
       "      <th>8639</th>\n",
       "      <td>1994-540_24</td>\n",
       "      <td>0.120793</td>\n",
       "      <td>0</td>\n",
       "      <td>Marc Rosset</td>\n",
       "      <td>David Witt</td>\n",
       "      <td>0</td>\n",
       "      <td>1</td>\n",
       "    </tr>\n",
       "    <tr>\n",
       "      <th>37402</th>\n",
       "      <td>2008-D035_2</td>\n",
       "      <td>0.069362</td>\n",
       "      <td>0</td>\n",
       "      <td>Stanislas Wawrinka</td>\n",
       "      <td>Uladzimir Ignatik</td>\n",
       "      <td>0</td>\n",
       "      <td>1</td>\n",
       "    </tr>\n",
       "    <tr>\n",
       "      <th>36803</th>\n",
       "      <td>2008-520_118</td>\n",
       "      <td>0.169776</td>\n",
       "      <td>0</td>\n",
       "      <td>Novak Djokovic</td>\n",
       "      <td>Paul Henri Mathieu</td>\n",
       "      <td>0</td>\n",
       "      <td>1</td>\n",
       "    </tr>\n",
       "    <tr>\n",
       "      <th>33487</th>\n",
       "      <td>2006-773_24</td>\n",
       "      <td>0.295407</td>\n",
       "      <td>0</td>\n",
       "      <td>Florent Serra</td>\n",
       "      <td>Martin Vassallo Arguello</td>\n",
       "      <td>0</td>\n",
       "      <td>1</td>\n",
       "    </tr>\n",
       "    <tr>\n",
       "      <th>15231</th>\n",
       "      <td>1997-520_75</td>\n",
       "      <td>0.889531</td>\n",
       "      <td>1</td>\n",
       "      <td>Salvador Navarro</td>\n",
       "      <td>Jan Siemerink</td>\n",
       "      <td>1</td>\n",
       "      <td>1</td>\n",
       "    </tr>\n",
       "    <tr>\n",
       "      <th>30600</th>\n",
       "      <td>2005-418_15</td>\n",
       "      <td>0.879207</td>\n",
       "      <td>1</td>\n",
       "      <td>Alex Clayton</td>\n",
       "      <td>Bobby Reynolds</td>\n",
       "      <td>1</td>\n",
       "      <td>1</td>\n",
       "    </tr>\n",
       "    <tr>\n",
       "      <th>34453</th>\n",
       "      <td>2007-410_43</td>\n",
       "      <td>0.776603</td>\n",
       "      <td>1</td>\n",
       "      <td>Igor Andreev</td>\n",
       "      <td>Juan Carlos Ferrero</td>\n",
       "      <td>1</td>\n",
       "      <td>1</td>\n",
       "    </tr>\n",
       "    <tr>\n",
       "      <th>22747</th>\n",
       "      <td>2001-416_7</td>\n",
       "      <td>0.556694</td>\n",
       "      <td>0</td>\n",
       "      <td>Tommy Haas</td>\n",
       "      <td>Andrei Medvedev</td>\n",
       "      <td>1</td>\n",
       "      <td>-1</td>\n",
       "    </tr>\n",
       "    <tr>\n",
       "      <th>14513</th>\n",
       "      <td>1997-408_20</td>\n",
       "      <td>0.349056</td>\n",
       "      <td>1</td>\n",
       "      <td>Mark Philippoussis</td>\n",
       "      <td>David Prinosil</td>\n",
       "      <td>0</td>\n",
       "      <td>-1</td>\n",
       "    </tr>\n",
       "  </tbody>\n",
       "</table>\n",
       "</div>"
      ],
      "text/plain": [
       "           id_match      pred  Y         player_name  \\\n",
       "32280   2006-375_17  0.568305  1      Michael Llodra   \n",
       "8639    1994-540_24  0.120793  0         Marc Rosset   \n",
       "37402   2008-D035_2  0.069362  0  Stanislas Wawrinka   \n",
       "36803  2008-520_118  0.169776  0      Novak Djokovic   \n",
       "33487   2006-773_24  0.295407  0       Florent Serra   \n",
       "15231   1997-520_75  0.889531  1    Salvador Navarro   \n",
       "30600   2005-418_15  0.879207  1        Alex Clayton   \n",
       "34453   2007-410_43  0.776603  1        Igor Andreev   \n",
       "22747    2001-416_7  0.556694  0          Tommy Haas   \n",
       "14513   1997-408_20  0.349056  1  Mark Philippoussis   \n",
       "\n",
       "                  opponent_name  Y_pred  gain  \n",
       "32280            Arnaud Clement       1     1  \n",
       "8639                 David Witt       0     1  \n",
       "37402         Uladzimir Ignatik       0     1  \n",
       "36803        Paul Henri Mathieu       0     1  \n",
       "33487  Martin Vassallo Arguello       0     1  \n",
       "15231             Jan Siemerink       1     1  \n",
       "30600            Bobby Reynolds       1     1  \n",
       "34453       Juan Carlos Ferrero       1     1  \n",
       "22747           Andrei Medvedev       1    -1  \n",
       "14513            David Prinosil       0    -1  "
      ]
     },
     "execution_count": 83,
     "metadata": {},
     "output_type": "execute_result"
    }
   ],
   "source": [
    "df_pred_train.sample(n=10)"
   ]
  },
  {
   "cell_type": "code",
   "execution_count": 84,
   "metadata": {},
   "outputs": [
    {
     "data": {
      "text/plain": [
       "60.0"
      ]
     },
     "execution_count": 84,
     "metadata": {},
     "output_type": "execute_result"
    }
   ],
   "source": [
    "# j'ai gagné 40 % de ma mise\n",
    "sampled = df_pred_train.sample(n=10)\n",
    "(sampled.gain.sum()/len(sampled))*100"
   ]
  },
  {
   "cell_type": "code",
   "execution_count": 85,
   "metadata": {},
   "outputs": [
    {
     "name": "stdout",
     "output_type": "stream",
     "text": [
      "% de bonnes prédictions:  69\n"
     ]
    }
   ],
   "source": [
    "print (\"% de bonnes prédictions: \", round((df_pred_train[df_pred_train.gain == 1].shape[0]/df_pred_train.shape[0])*100))"
   ]
  },
  {
   "cell_type": "code",
   "execution_count": 86,
   "metadata": {},
   "outputs": [],
   "source": [
    "def plot_f1_with_probas(df,type_dataset):\n",
    "    precision, recall, thresholds = precision_recall_curve(df[[\"Y\"]], df[[\"pred\"]])\n",
    "    f1 = 2*((precision*recall)/(precision+recall))\n",
    "    \n",
    "    liste_thresh = []\n",
    "    liste_thresh.append(0)\n",
    "    for each in list(thresholds):\n",
    "        liste_thresh.append(each)\n",
    "        \n",
    "    resultat = plt.plot(liste_thresh,list(f1), label = \"F1-score on \" + type_dataset)\n",
    "    del liste_thresh\n",
    "    return resultat"
   ]
  },
  {
   "cell_type": "code",
   "execution_count": 87,
   "metadata": {},
   "outputs": [
    {
     "data": {
      "image/png": "[encoded data removed]",
      "text/plain": [
       "<Figure size 432x288 with 1 Axes>"
      ]
     },
     "metadata": {
      "needs_background": "light"
     },
     "output_type": "display_data"
    }
   ],
   "source": [
    "plot_f1_with_probas(df_pred_train,\"train\")\n",
    "plot_f1_with_probas(df_pred_valid,\"valid\")\n",
    "plot_f1_with_probas(df_pred_test,\"test\")\n",
    "plt.xlabel('predicted prob')\n",
    "plt.ylabel('F1-score')\n",
    "leg = plt.legend()"
   ]
  },
  {
   "cell_type": "markdown",
   "metadata": {},
   "source": [
    "On suppose qu'on mise 1 euro par match"
   ]
  },
  {
   "cell_type": "code",
   "execution_count": 88,
   "metadata": {},
   "outputs": [],
   "source": [
    "def compute_gain(df):\n",
    "    resultat = []\n",
    "    precision, recall, thresholds = precision_recall_curve(df[[\"Y\"]], df[[\"pred\"]])\n",
    "    f1 = 2*((precision*recall)/(precision+recall))\n",
    "\n",
    "    # On définit le seuil de probabilité : c'est la proba telle que le F1-score soit maximum\n",
    "    thresh_proba = thresholds[np.where(f1 == max(f1))][0]\n",
    "    \n",
    "    print (\"THRESHOLD PROBA with MAX F1 :\", thresh_proba)\n",
    "\n",
    "    df['Y_pred'] = df['pred'].map(lambda x: 1 if x > thresh_proba else 0)\n",
    "    df['gain'] = df.apply(gain_for_each_match, axis = 1)\n",
    "    \n",
    "    # % des victoires prédites correctement\n",
    "    # Et % des gains obtenus en misant 1 euro pour chaque match\n",
    "    resultat.append(round((len(df[df.gain == 1])/len(df))*100))\n",
    "    resultat.append(round((df.gain.sum()/len(df))*100))\n",
    "\n",
    "    return resultat"
   ]
  },
  {
   "cell_type": "code",
   "execution_count": 89,
   "metadata": {},
   "outputs": [
    {
     "name": "stdout",
     "output_type": "stream",
     "text": [
      "THRESHOLD PROBA with MAX F1 : 0.40419278\n"
     ]
    },
    {
     "data": {
      "text/plain": [
       "[69, 39.0]"
      ]
     },
     "execution_count": 89,
     "metadata": {},
     "output_type": "execute_result"
    }
   ],
   "source": [
    "compute_gain(df_pred_train)"
   ]
  },
  {
   "cell_type": "code",
   "execution_count": 90,
   "metadata": {},
   "outputs": [
    {
     "name": "stdout",
     "output_type": "stream",
     "text": [
      "THRESHOLD PROBA with MAX F1 : 0.29183012\n"
     ]
    },
    {
     "data": {
      "text/plain": [
       "[60, 20.0]"
      ]
     },
     "execution_count": 90,
     "metadata": {},
     "output_type": "execute_result"
    }
   ],
   "source": [
    "compute_gain(df_pred_valid)"
   ]
  },
  {
   "cell_type": "code",
   "execution_count": 91,
   "metadata": {},
   "outputs": [
    {
     "name": "stdout",
     "output_type": "stream",
     "text": [
      "THRESHOLD PROBA with MAX F1 : 0.3253111\n"
     ]
    },
    {
     "data": {
      "text/plain": [
       "[62, 24.0]"
      ]
     },
     "execution_count": 91,
     "metadata": {},
     "output_type": "execute_result"
    }
   ],
   "source": [
    "compute_gain(df_pred_test)"
   ]
  },
  {
   "cell_type": "markdown",
   "metadata": {},
   "source": [
    "### Evaluation du modèle sur le test set"
   ]
  },
  {
   "cell_type": "code",
   "execution_count": 108,
   "metadata": {},
   "outputs": [],
   "source": [
    "liste_columns_test =  liste_feat_for_xgboost_modele_1\n",
    "liste_columns_test.append(\"id_match\")"
   ]
  },
  {
   "cell_type": "code",
   "execution_count": 124,
   "metadata": {},
   "outputs": [],
   "source": [
    "df_temp = X_test_all_columns[liste_columns_test]"
   ]
  },
  {
   "cell_type": "code",
   "execution_count": 125,
   "metadata": {},
   "outputs": [],
   "source": [
    "df_temp = df_temp.sort_values(by = \"id_match\")\n",
    "Y_test = Y_test.sort_values(by = \"id_match\")"
   ]
  },
  {
   "cell_type": "code",
   "execution_count": 126,
   "metadata": {},
   "outputs": [],
   "source": [
    "df_temp_for_prediction = df_temp[[each for each in list(df_temp)]]"
   ]
  },
  {
   "cell_type": "markdown",
   "metadata": {},
   "source": [
    "df_pred_test a CREER en .pkl avec le nom : \"df_pred_test_built_without_win_margin\""
   ]
  },
  {
   "cell_type": "code",
   "execution_count": 127,
   "metadata": {},
   "outputs": [],
   "source": [
    "df_temp_for_prediction.to_pickle('df_pred_test_built_without_win_margin.pkl')\n",
    "Y_test_without_id_match = Y_test.drop(\"id_match\", axis = 1)\n",
    "Y_test_without_id_match.to_pickle('Y_test_built_without_win_margin.pkl')"
   ]
  },
  {
   "cell_type": "code",
   "execution_count": 77,
   "metadata": {},
   "outputs": [],
   "source": [
    "df_temp_for_prediction = df_temp_for_prediction[[each for each in list(df_temp_for_prediction) if each != \"id_match\"]]\n",
    "predicted_values_test = xgb_model.predict_proba(df_temp_for_prediction)[:,1]\n",
    "predicted_values_test = np.expand_dims(predicted_values_test, axis=1)\n",
    "# Y_test_without_id_match = Y_test.drop(\"id_match\", axis = 1)"
   ]
  },
  {
   "cell_type": "code",
   "execution_count": 78,
   "metadata": {},
   "outputs": [
    {
     "name": "stdout",
     "output_type": "stream",
     "text": [
      "AUC sur le test set:  0.7150225545246902\n"
     ]
    }
   ],
   "source": [
    "AUC_test_value = roc_auc_score(Y_test_without_id_match.values, predicted_values_test)\n",
    "print (\"AUC sur le test set: \", AUC_test_value)\n",
    "\n",
    "df_predicted_values_test = pd.DataFrame({'id_match':df_temp[\"id_match\"].values, 'pred': predicted_values_test[:, 0]})"
   ]
  },
  {
   "cell_type": "code",
   "execution_count": 79,
   "metadata": {},
   "outputs": [
    {
     "data": {
      "text/plain": [
       "(37130, 2)"
      ]
     },
     "execution_count": 79,
     "metadata": {},
     "output_type": "execute_result"
    }
   ],
   "source": [
    "df_predicted_values_test.shape"
   ]
  },
  {
   "cell_type": "code",
   "execution_count": 80,
   "metadata": {},
   "outputs": [
    {
     "data": {
      "text/html": [
       "<div>\n",
       "<style scoped>\n",
       "    .dataframe tbody tr th:only-of-type {\n",
       "        vertical-align: middle;\n",
       "    }\n",
       "\n",
       "    .dataframe tbody tr th {\n",
       "        vertical-align: top;\n",
       "    }\n",
       "\n",
       "    .dataframe thead th {\n",
       "        text-align: right;\n",
       "    }\n",
       "</style>\n",
       "<table border=\"1\" class=\"dataframe\">\n",
       "  <thead>\n",
       "    <tr style=\"text-align: right;\">\n",
       "      <th></th>\n",
       "      <th>id_match</th>\n",
       "      <th>pred</th>\n",
       "    </tr>\n",
       "  </thead>\n",
       "  <tbody>\n",
       "    <tr>\n",
       "      <th>0</th>\n",
       "      <td>1991-201_1</td>\n",
       "      <td>0.266469</td>\n",
       "    </tr>\n",
       "    <tr>\n",
       "      <th>1</th>\n",
       "      <td>1991-201_1</td>\n",
       "      <td>0.735270</td>\n",
       "    </tr>\n",
       "    <tr>\n",
       "      <th>2</th>\n",
       "      <td>1991-201_31</td>\n",
       "      <td>0.524624</td>\n",
       "    </tr>\n",
       "    <tr>\n",
       "      <th>3</th>\n",
       "      <td>1991-201_31</td>\n",
       "      <td>0.472638</td>\n",
       "    </tr>\n",
       "    <tr>\n",
       "      <th>4</th>\n",
       "      <td>1991-215_12</td>\n",
       "      <td>0.678846</td>\n",
       "    </tr>\n",
       "  </tbody>\n",
       "</table>\n",
       "</div>"
      ],
      "text/plain": [
       "      id_match      pred\n",
       "0   1991-201_1  0.266469\n",
       "1   1991-201_1  0.735270\n",
       "2  1991-201_31  0.524624\n",
       "3  1991-201_31  0.472638\n",
       "4  1991-215_12  0.678846"
      ]
     },
     "execution_count": 80,
     "metadata": {},
     "output_type": "execute_result"
    }
   ],
   "source": [
    "df_predicted_values_test.head()"
   ]
  },
  {
   "cell_type": "code",
   "execution_count": 764,
   "metadata": {},
   "outputs": [],
   "source": [
    "Y_test.reset_index(drop = False, inplace = True)\n",
    "df_predicted_values_test.reset_index(drop = False, inplace = True)"
   ]
  },
  {
   "cell_type": "code",
   "execution_count": 765,
   "metadata": {},
   "outputs": [],
   "source": [
    "df_predicted_values_test[\"Y\"] = Y_test[\"Y\"]"
   ]
  },
  {
   "cell_type": "code",
   "execution_count": 766,
   "metadata": {},
   "outputs": [
    {
     "data": {
      "text/html": [
       "<div>\n",
       "<style scoped>\n",
       "    .dataframe tbody tr th:only-of-type {\n",
       "        vertical-align: middle;\n",
       "    }\n",
       "\n",
       "    .dataframe tbody tr th {\n",
       "        vertical-align: top;\n",
       "    }\n",
       "\n",
       "    .dataframe thead th {\n",
       "        text-align: right;\n",
       "    }\n",
       "</style>\n",
       "<table border=\"1\" class=\"dataframe\">\n",
       "  <thead>\n",
       "    <tr style=\"text-align: right;\">\n",
       "      <th></th>\n",
       "      <th>index</th>\n",
       "      <th>id_match</th>\n",
       "      <th>pred</th>\n",
       "      <th>Y</th>\n",
       "    </tr>\n",
       "  </thead>\n",
       "  <tbody>\n",
       "    <tr>\n",
       "      <th>0</th>\n",
       "      <td>0</td>\n",
       "      <td>1991-201_10</td>\n",
       "      <td>0.487031</td>\n",
       "      <td>0</td>\n",
       "    </tr>\n",
       "    <tr>\n",
       "      <th>1</th>\n",
       "      <td>1</td>\n",
       "      <td>1991-201_10</td>\n",
       "      <td>0.546485</td>\n",
       "      <td>1</td>\n",
       "    </tr>\n",
       "    <tr>\n",
       "      <th>2</th>\n",
       "      <td>2</td>\n",
       "      <td>1991-201_15</td>\n",
       "      <td>0.465190</td>\n",
       "      <td>1</td>\n",
       "    </tr>\n",
       "    <tr>\n",
       "      <th>3</th>\n",
       "      <td>3</td>\n",
       "      <td>1991-201_15</td>\n",
       "      <td>0.560148</td>\n",
       "      <td>0</td>\n",
       "    </tr>\n",
       "    <tr>\n",
       "      <th>4</th>\n",
       "      <td>4</td>\n",
       "      <td>1991-201_22</td>\n",
       "      <td>0.449912</td>\n",
       "      <td>0</td>\n",
       "    </tr>\n",
       "  </tbody>\n",
       "</table>\n",
       "</div>"
      ],
      "text/plain": [
       "   index     id_match      pred  Y\n",
       "0      0  1991-201_10  0.487031  0\n",
       "1      1  1991-201_10  0.546485  1\n",
       "2      2  1991-201_15  0.465190  1\n",
       "3      3  1991-201_15  0.560148  0\n",
       "4      4  1991-201_22  0.449912  0"
      ]
     },
     "execution_count": 766,
     "metadata": {},
     "output_type": "execute_result"
    }
   ],
   "source": [
    "df_predicted_values_test.head()"
   ]
  },
  {
   "cell_type": "code",
   "execution_count": 767,
   "metadata": {},
   "outputs": [],
   "source": [
    "df_temp_names_players = X_test_all_columns[[\"id_match\",\"player_name\",\"opponent_name\"]]"
   ]
  },
  {
   "cell_type": "code",
   "execution_count": 768,
   "metadata": {},
   "outputs": [],
   "source": [
    "df_temp_names_players = df_temp_names_players.sort_values(by = \"id_match\")"
   ]
  },
  {
   "cell_type": "code",
   "execution_count": 769,
   "metadata": {},
   "outputs": [],
   "source": [
    "df_temp_names_players.reset_index(drop = False, inplace = True)\n",
    "df_predicted_values_test.reset_index(drop = False, inplace = True)\n",
    "df_predicted_values_test[\"player_name\"] = df_temp_names_players[\"player_name\"]\n",
    "df_predicted_values_test[\"opponent_name\"] = df_temp_names_players[\"opponent_name\"]"
   ]
  },
  {
   "cell_type": "code",
   "execution_count": 775,
   "metadata": {},
   "outputs": [
    {
     "data": {
      "text/html": [
       "<div>\n",
       "<style scoped>\n",
       "    .dataframe tbody tr th:only-of-type {\n",
       "        vertical-align: middle;\n",
       "    }\n",
       "\n",
       "    .dataframe tbody tr th {\n",
       "        vertical-align: top;\n",
       "    }\n",
       "\n",
       "    .dataframe thead th {\n",
       "        text-align: right;\n",
       "    }\n",
       "</style>\n",
       "<table border=\"1\" class=\"dataframe\">\n",
       "  <thead>\n",
       "    <tr style=\"text-align: right;\">\n",
       "      <th></th>\n",
       "      <th>id_match</th>\n",
       "      <th>pred</th>\n",
       "      <th>Y</th>\n",
       "      <th>player_name</th>\n",
       "      <th>opponent_name</th>\n",
       "    </tr>\n",
       "  </thead>\n",
       "  <tbody>\n",
       "    <tr>\n",
       "      <th>0</th>\n",
       "      <td>1991-201_10</td>\n",
       "      <td>0.487031</td>\n",
       "      <td>0</td>\n",
       "      <td>Henrik Holm</td>\n",
       "      <td>Gianluca Pozzi</td>\n",
       "    </tr>\n",
       "    <tr>\n",
       "      <th>1</th>\n",
       "      <td>1991-201_10</td>\n",
       "      <td>0.546485</td>\n",
       "      <td>1</td>\n",
       "      <td>Gianluca Pozzi</td>\n",
       "      <td>Henrik Holm</td>\n",
       "    </tr>\n",
       "    <tr>\n",
       "      <th>2</th>\n",
       "      <td>1991-201_15</td>\n",
       "      <td>0.465190</td>\n",
       "      <td>1</td>\n",
       "      <td>Johan Carlsson</td>\n",
       "      <td>Fernando Roese</td>\n",
       "    </tr>\n",
       "    <tr>\n",
       "      <th>3</th>\n",
       "      <td>1991-201_15</td>\n",
       "      <td>0.560148</td>\n",
       "      <td>0</td>\n",
       "      <td>Fernando Roese</td>\n",
       "      <td>Johan Carlsson</td>\n",
       "    </tr>\n",
       "    <tr>\n",
       "      <th>4</th>\n",
       "      <td>1991-201_22</td>\n",
       "      <td>0.449912</td>\n",
       "      <td>0</td>\n",
       "      <td>Martin Wostenholme</td>\n",
       "      <td>Pablo Albano</td>\n",
       "    </tr>\n",
       "    <tr>\n",
       "      <th>5</th>\n",
       "      <td>1991-201_22</td>\n",
       "      <td>0.574797</td>\n",
       "      <td>1</td>\n",
       "      <td>Pablo Albano</td>\n",
       "      <td>Martin Wostenholme</td>\n",
       "    </tr>\n",
       "    <tr>\n",
       "      <th>6</th>\n",
       "      <td>1991-201_28</td>\n",
       "      <td>0.482237</td>\n",
       "      <td>1</td>\n",
       "      <td>Chris Garner</td>\n",
       "      <td>Fernando Roese</td>\n",
       "    </tr>\n",
       "    <tr>\n",
       "      <th>7</th>\n",
       "      <td>1991-201_28</td>\n",
       "      <td>0.514887</td>\n",
       "      <td>0</td>\n",
       "      <td>Fernando Roese</td>\n",
       "      <td>Chris Garner</td>\n",
       "    </tr>\n",
       "    <tr>\n",
       "      <th>8</th>\n",
       "      <td>1991-201_3</td>\n",
       "      <td>0.565606</td>\n",
       "      <td>1</td>\n",
       "      <td>Jose Francisco Altur</td>\n",
       "      <td>Shuzo Matsuoka</td>\n",
       "    </tr>\n",
       "    <tr>\n",
       "      <th>9</th>\n",
       "      <td>1991-201_3</td>\n",
       "      <td>0.440273</td>\n",
       "      <td>0</td>\n",
       "      <td>Shuzo Matsuoka</td>\n",
       "      <td>Jose Francisco Altur</td>\n",
       "    </tr>\n",
       "    <tr>\n",
       "      <th>10</th>\n",
       "      <td>1991-201_7</td>\n",
       "      <td>0.540328</td>\n",
       "      <td>1</td>\n",
       "      <td>Thierry Tulasne</td>\n",
       "      <td>Diego Perez</td>\n",
       "    </tr>\n",
       "    <tr>\n",
       "      <th>11</th>\n",
       "      <td>1991-201_7</td>\n",
       "      <td>0.460219</td>\n",
       "      <td>0</td>\n",
       "      <td>Diego Perez</td>\n",
       "      <td>Thierry Tulasne</td>\n",
       "    </tr>\n",
       "    <tr>\n",
       "      <th>12</th>\n",
       "      <td>1991-201_9</td>\n",
       "      <td>0.391105</td>\n",
       "      <td>0</td>\n",
       "      <td>Jaime Oncins</td>\n",
       "      <td>Mauro Menezes</td>\n",
       "    </tr>\n",
       "    <tr>\n",
       "      <th>13</th>\n",
       "      <td>1991-201_9</td>\n",
       "      <td>0.613432</td>\n",
       "      <td>1</td>\n",
       "      <td>Mauro Menezes</td>\n",
       "      <td>Jaime Oncins</td>\n",
       "    </tr>\n",
       "    <tr>\n",
       "      <th>14</th>\n",
       "      <td>1991-215_15</td>\n",
       "      <td>0.429394</td>\n",
       "      <td>1</td>\n",
       "      <td>Gabriel Markus</td>\n",
       "      <td>Jose Daher</td>\n",
       "    </tr>\n",
       "    <tr>\n",
       "      <th>15</th>\n",
       "      <td>1991-215_15</td>\n",
       "      <td>0.539112</td>\n",
       "      <td>0</td>\n",
       "      <td>Jose Daher</td>\n",
       "      <td>Gabriel Markus</td>\n",
       "    </tr>\n",
       "    <tr>\n",
       "      <th>16</th>\n",
       "      <td>1991-215_2</td>\n",
       "      <td>0.559959</td>\n",
       "      <td>1</td>\n",
       "      <td>Danilo Marcelino</td>\n",
       "      <td>Daniel Nestor</td>\n",
       "    </tr>\n",
       "    <tr>\n",
       "      <th>17</th>\n",
       "      <td>1991-215_2</td>\n",
       "      <td>0.419235</td>\n",
       "      <td>0</td>\n",
       "      <td>Daniel Nestor</td>\n",
       "      <td>Danilo Marcelino</td>\n",
       "    </tr>\n",
       "    <tr>\n",
       "      <th>18</th>\n",
       "      <td>1991-215_20</td>\n",
       "      <td>0.633587</td>\n",
       "      <td>0</td>\n",
       "      <td>Francisco Roig</td>\n",
       "      <td>Paul Haarhuis</td>\n",
       "    </tr>\n",
       "    <tr>\n",
       "      <th>19</th>\n",
       "      <td>1991-215_20</td>\n",
       "      <td>0.393911</td>\n",
       "      <td>1</td>\n",
       "      <td>Paul Haarhuis</td>\n",
       "      <td>Francisco Roig</td>\n",
       "    </tr>\n",
       "  </tbody>\n",
       "</table>\n",
       "</div>"
      ],
      "text/plain": [
       "       id_match      pred  Y           player_name         opponent_name\n",
       "0   1991-201_10  0.487031  0           Henrik Holm        Gianluca Pozzi\n",
       "1   1991-201_10  0.546485  1        Gianluca Pozzi           Henrik Holm\n",
       "2   1991-201_15  0.465190  1        Johan Carlsson        Fernando Roese\n",
       "3   1991-201_15  0.560148  0        Fernando Roese        Johan Carlsson\n",
       "4   1991-201_22  0.449912  0    Martin Wostenholme          Pablo Albano\n",
       "5   1991-201_22  0.574797  1          Pablo Albano    Martin Wostenholme\n",
       "6   1991-201_28  0.482237  1          Chris Garner        Fernando Roese\n",
       "7   1991-201_28  0.514887  0        Fernando Roese          Chris Garner\n",
       "8    1991-201_3  0.565606  1  Jose Francisco Altur        Shuzo Matsuoka\n",
       "9    1991-201_3  0.440273  0        Shuzo Matsuoka  Jose Francisco Altur\n",
       "10   1991-201_7  0.540328  1       Thierry Tulasne           Diego Perez\n",
       "11   1991-201_7  0.460219  0           Diego Perez       Thierry Tulasne\n",
       "12   1991-201_9  0.391105  0          Jaime Oncins         Mauro Menezes\n",
       "13   1991-201_9  0.613432  1         Mauro Menezes          Jaime Oncins\n",
       "14  1991-215_15  0.429394  1        Gabriel Markus            Jose Daher\n",
       "15  1991-215_15  0.539112  0            Jose Daher        Gabriel Markus\n",
       "16   1991-215_2  0.559959  1      Danilo Marcelino         Daniel Nestor\n",
       "17   1991-215_2  0.419235  0         Daniel Nestor      Danilo Marcelino\n",
       "18  1991-215_20  0.633587  0        Francisco Roig         Paul Haarhuis\n",
       "19  1991-215_20  0.393911  1         Paul Haarhuis        Francisco Roig"
      ]
     },
     "execution_count": 775,
     "metadata": {},
     "output_type": "execute_result"
    }
   ],
   "source": [
    "df_predicted_values_test = df_predicted_values_test.drop([\"level_0\",\"index\"], axis = 1)\n",
    "df_predicted_values_test.head(n=20)"
   ]
  },
  {
   "cell_type": "markdown",
   "metadata": {},
   "source": [
    "#### Il reste ici à associer des définir des gains en cas de bonnes prédictions ou de mauvaises prédictions"
   ]
  },
  {
   "cell_type": "code",
   "execution_count": null,
   "metadata": {},
   "outputs": [],
   "source": []
  }
 ],
 "metadata": {
  "kernelspec": {
   "display_name": "data bike sharing",
   "language": "python",
   "name": "data"
  },
  "language_info": {
   "codemirror_mode": {
    "name": "ipython",
    "version": 3
   },
   "file_extension": ".py",
   "mimetype": "text/x-python",
   "name": "python",
   "nbconvert_exporter": "python",
   "pygments_lexer": "ipython3",
   "version": "3.6.8"
  }
 },
 "nbformat": 4,
 "nbformat_minor": 4
}
